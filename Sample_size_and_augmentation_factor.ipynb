{
  "nbformat": 4,
  "nbformat_minor": 0,
  "metadata": {
    "colab": {
      "name": "Sample size and augmentation factor.ipynb",
      "provenance": [],
      "authorship_tag": "ABX9TyMVMYRJ7wAxCSis5y4FcH9d",
      "include_colab_link": true
    },
    "kernelspec": {
      "name": "python3",
      "display_name": "Python 3"
    },
    "accelerator": "GPU"
  },
  "cells": [
    {
      "cell_type": "markdown",
      "metadata": {
        "id": "view-in-github",
        "colab_type": "text"
      },
      "source": [
        "<a href=\"https://colab.research.google.com/github/jmamath/learning-approximate-invariance-requires-far-fewer-data/blob/master/Sample_size_and_augmentation_factor.ipynb\" target=\"_parent\"><img src=\"https://colab.research.google.com/assets/colab-badge.svg\" alt=\"Open In Colab\"/></a>"
      ]
    },
    {
      "cell_type": "markdown",
      "metadata": {
        "id": "2eB-EcM5wypE",
        "colab_type": "text"
      },
      "source": [
        "# More efficient invariant learning"
      ]
    },
    {
      "cell_type": "code",
      "metadata": {
        "id": "XpHSmjVfwItH",
        "colab_type": "code",
        "colab": {
          "base_uri": "https://localhost:8080/",
          "height": 331
        },
        "outputId": "9ddfa6d3-2bf0-46c0-9ce5-8aac6323c14c"
      },
      "source": [
        "# !pip install Augmentor\n",
        "!pip install imgaug"
      ],
      "execution_count": null,
      "outputs": [
        {
          "output_type": "stream",
          "text": [
            "Requirement already satisfied: imgaug in /usr/local/lib/python3.6/dist-packages (0.2.9)\n",
            "Requirement already satisfied: six in /usr/local/lib/python3.6/dist-packages (from imgaug) (1.12.0)\n",
            "Requirement already satisfied: imageio in /usr/local/lib/python3.6/dist-packages (from imgaug) (2.4.1)\n",
            "Requirement already satisfied: scikit-image>=0.11.0 in /usr/local/lib/python3.6/dist-packages (from imgaug) (0.16.2)\n",
            "Requirement already satisfied: numpy>=1.15.0 in /usr/local/lib/python3.6/dist-packages (from imgaug) (1.18.3)\n",
            "Requirement already satisfied: scipy in /usr/local/lib/python3.6/dist-packages (from imgaug) (1.4.1)\n",
            "Requirement already satisfied: Pillow in /usr/local/lib/python3.6/dist-packages (from imgaug) (7.0.0)\n",
            "Requirement already satisfied: opencv-python in /usr/local/lib/python3.6/dist-packages (from imgaug) (4.1.2.30)\n",
            "Requirement already satisfied: matplotlib in /usr/local/lib/python3.6/dist-packages (from imgaug) (3.2.1)\n",
            "Requirement already satisfied: Shapely in /usr/local/lib/python3.6/dist-packages (from imgaug) (1.7.0)\n",
            "Requirement already satisfied: PyWavelets>=0.4.0 in /usr/local/lib/python3.6/dist-packages (from scikit-image>=0.11.0->imgaug) (1.1.1)\n",
            "Requirement already satisfied: networkx>=2.0 in /usr/local/lib/python3.6/dist-packages (from scikit-image>=0.11.0->imgaug) (2.4)\n",
            "Requirement already satisfied: pyparsing!=2.0.4,!=2.1.2,!=2.1.6,>=2.0.1 in /usr/local/lib/python3.6/dist-packages (from matplotlib->imgaug) (2.4.7)\n",
            "Requirement already satisfied: cycler>=0.10 in /usr/local/lib/python3.6/dist-packages (from matplotlib->imgaug) (0.10.0)\n",
            "Requirement already satisfied: kiwisolver>=1.0.1 in /usr/local/lib/python3.6/dist-packages (from matplotlib->imgaug) (1.2.0)\n",
            "Requirement already satisfied: python-dateutil>=2.1 in /usr/local/lib/python3.6/dist-packages (from matplotlib->imgaug) (2.8.1)\n",
            "Requirement already satisfied: decorator>=4.3.0 in /usr/local/lib/python3.6/dist-packages (from networkx>=2.0->scikit-image>=0.11.0->imgaug) (4.4.2)\n"
          ],
          "name": "stdout"
        }
      ]
    },
    {
      "cell_type": "markdown",
      "metadata": {
        "id": "XZnxQ4tMwS3y",
        "colab_type": "text"
      },
      "source": [
        "## 1. Imports packages and load data"
      ]
    },
    {
      "cell_type": "code",
      "metadata": {
        "id": "zLVJp8pQwOtG",
        "colab_type": "code",
        "colab": {
          "base_uri": "https://localhost:8080/",
          "height": 35
        },
        "outputId": "50ed2527-88b4-485b-c0d0-1ed9d86b7cb9"
      },
      "source": [
        "import pandas as pd\n",
        "import numpy as np\n",
        "import matplotlib.pyplot as plt\n",
        "from mpl_toolkits.axes_grid1 import ImageGrid\n",
        "import os\n",
        "\n",
        "import torch\n",
        "from torch.distributions import Normal\n",
        "import torchvision\n",
        "import torch.nn as nn\n",
        "import torch.nn.functional as F\n",
        "import torch.optim as optim \n",
        "from tqdm import trange\n",
        " \n",
        "from torchvision.transforms import transforms\n",
        "from torch.utils.data import DataLoader\n",
        "from torch.utils.data import Dataset\n",
        "\n",
        "import imgaug\n",
        "from keras.datasets import mnist\n",
        "from imgaug import augmenters as iaa\n",
        "from keras.utils import np_utils\n",
        "torch.set_default_tensor_type('torch.cuda.FloatTensor')"
      ],
      "execution_count": null,
      "outputs": [
        {
          "output_type": "stream",
          "text": [
            "Using TensorFlow backend.\n"
          ],
          "name": "stderr"
        }
      ]
    },
    {
      "cell_type": "code",
      "metadata": {
        "id": "fUBj-PC2wVVE",
        "colab_type": "code",
        "colab": {
          "base_uri": "https://localhost:8080/",
          "height": 316
        },
        "outputId": "6ba784a5-fe68-435c-acf5-0951bf5a53db"
      },
      "source": [
        "# Download the data\n",
        "(x_train, y_train), (x_test, y_test) = mnist.load_data()\n",
        "\n",
        "# Categorizing our data: \n",
        "y_train = np_utils.to_categorical(y_train, 10)\n",
        "y_test = np_utils.to_categorical(y_test, 10)\n",
        "\n",
        "# normalizing the data to help with the training\n",
        "x_train = (x_train / 255).astype(np.float32)\n",
        "x_test = (x_train / 255).astype(np.float32)\n",
        "\n",
        "# Show an example\n",
        "plt.imshow(x_train[0])\n",
        "\n",
        "def get_device():\n",
        "    if torch.cuda.is_available():\n",
        "        device = 'cuda:0'\n",
        "    else:\n",
        "        device = 'cpu'\n",
        "    return device\n",
        "device = get_device()\n",
        "\n",
        "# Be sure that we are using the GPU\n",
        "print(device)"
      ],
      "execution_count": null,
      "outputs": [
        {
          "output_type": "stream",
          "text": [
            "Downloading data from https://s3.amazonaws.com/img-datasets/mnist.npz\n",
            "11493376/11490434 [==============================] - 1s 0us/step\n",
            "cuda:0\n"
          ],
          "name": "stdout"
        },
        {
          "output_type": "display_data",
          "data": {
            "image/png": "[encoded data removed]",
            "text/plain": [
              "<Figure size 432x288 with 1 Axes>"
            ]
          },
          "metadata": {
            "tags": [],
            "needs_background": "light"
          }
        }
      ]
    },
    {
      "cell_type": "markdown",
      "metadata": {
        "id": "98p4dwoNwZbm",
        "colab_type": "text"
      },
      "source": [
        "## 2. Classes"
      ]
    },
    {
      "cell_type": "code",
      "metadata": {
        "id": "tpCddU06wYgE",
        "colab_type": "code",
        "cellView": "form",
        "colab": {}
      },
      "source": [
        "#@title Dataset class\n",
        "class MyData(Dataset):\n",
        "  'Characterizes a dataset for PyTorch'\n",
        "  def __init__(self, data, labels, return_perturb=False, sample_size=None, augmentation=None, training=False):\n",
        "        'Initialization'\n",
        "        self.labels = labels\n",
        "        self.data = data      \n",
        "        self.return_perturb = return_perturb\n",
        "        self.augmentation = augmentation\n",
        "        self.sample_size = sample_size      \n",
        "        self.training = training\n",
        "\n",
        "  def __len__(self):\n",
        "        'Denotes the total number of samples'\n",
        "        return len(self.data)\n",
        "\n",
        "  def __getitem__(self, index):\n",
        "        'Generates one sample of data'\n",
        "        # Select sample\n",
        "        X = self.data[index]      \n",
        "        h, w = X.shape\n",
        "        # Load data and get label\n",
        "        y = self.labels[index]\n",
        "        if self.return_perturb==False:          \n",
        "          return X,y \n",
        "        elif self.sample_size > 1:          \n",
        "          X_repeated = np.tile(X, [self.sample_size, 1, 1]) # Because we want X.shape = (sample_size, 28,28)\n",
        "          y_repeated = np.tile(y, [self.sample_size, 1])  # Because we want y.shape = (sample_size, 10)\n",
        "          X_aug = self.augmentation(images=X_repeated)  \n",
        "          if self.training:\n",
        "            # import pdb; pdb.set_trace()\n",
        "            X_repeated = X_repeated.reshape(self.sample_size,-1)        \n",
        "            X_aug = X_aug.reshape(self.sample_size,-1)\n",
        "          return X_repeated, X_aug, y_repeated\n",
        "        else:\n",
        "          X_aug = self.augmentation(images=X)\n",
        "          X_aug = X_aug.reshape(-1)\n",
        "          X = X.reshape(-1)\n",
        "          return X, X_aug, y\n"
      ],
      "execution_count": null,
      "outputs": []
    },
    {
      "cell_type": "code",
      "metadata": {
        "id": "PxvEY6CHwcq5",
        "colab_type": "code",
        "cellView": "form",
        "colab": {}
      },
      "source": [
        "#@title Early Stopping class\n",
        "class EarlyStopping:\n",
        "    \"\"\"Early stops the training if validation loss doesn't improve after a given patience.\"\"\"\n",
        "    def __init__(self, patience=7, verbose=False, delta=0):\n",
        "        \"\"\"\n",
        "        Args:\n",
        "            patience (int): How long to wait after last time validation loss improved.\n",
        "                            Default: 7\n",
        "            verbose (bool): If True, prints a message for each validation loss improvement. \n",
        "                            Default: False\n",
        "            delta (float): Minimum change in the monitored quantity to qualify as an improvement.\n",
        "                            Default: 0\n",
        "        \"\"\"\n",
        "        self.patience = patience\n",
        "        self.verbose = verbose\n",
        "        self.counter = 0\n",
        "        self.best_score = None\n",
        "        self.early_stop = False\n",
        "        self.val_loss_min = np.Inf\n",
        "        self.delta = delta\n",
        "\n",
        "    def __call__(self, val_loss, model, path):\n",
        "\n",
        "        score = -val_loss\n",
        "        # 1st iteration\n",
        "        if self.best_score is None:\n",
        "            self.best_score = score\n",
        "            self.save_checkpoint(val_loss, model, path)\n",
        "        elif score < self.best_score + self.delta:\n",
        "            self.counter += 1\n",
        "            print(f'EarlyStopping counter: {self.counter} out of {self.patience}')\n",
        "            if self.counter >= self.patience:\n",
        "                self.early_stop = True\n",
        "        else:\n",
        "            self.best_score = score\n",
        "            self.save_checkpoint(val_loss, model, path)\n",
        "            self.counter = 0\n",
        "\n",
        "    def save_checkpoint(self, val_loss, model, path):\n",
        "        '''Saves model when validation loss decrease.'''\n",
        "        if self.verbose:\n",
        "            print(f'Validation loss decreased ({self.val_loss_min:.6f} --> {val_loss:.6f}).  Saving model ...')\n",
        "        # if not os.path.exists(path):\n",
        "        #     os.makedirs(path)\n",
        "        # torch.save(model.state_dict(), path+'/checkpoint.pt')\n",
        "        self.val_loss_min = val_loss"
      ],
      "execution_count": null,
      "outputs": []
    },
    {
      "cell_type": "code",
      "metadata": {
        "id": "KyFQ8FIqwm-3",
        "colab_type": "code",
        "cellView": "form",
        "colab": {}
      },
      "source": [
        "#@title Invariant Prior class\n",
        "############### 2. CREATE THE MODEL ############### \n",
        "class GaussianPrior(nn.Module):\n",
        "    def __init__(self, shape):\n",
        "        super(GaussianPrior, self).__init__()\n",
        "        self.shape = shape        \n",
        "        self.mu = nn.Parameter(torch.rand(shape))\n",
        "        self.log_var = nn.Parameter(torch.rand(shape))\n",
        "        \n",
        "    def forward(self, num_samples=1):\n",
        "        if not isinstance(num_samples, tuple):\n",
        "            num_samples = (num_samples,)\n",
        "        eps_shape = num_samples + self.shape\n",
        "        eps = torch.randn(eps_shape) # ~ N(0,I)\n",
        "        return self.mu + torch.exp(self.log_var) * eps\n",
        "    \n",
        "    def entropy(self):\n",
        "        distribution = Normal(loc=self.mu, scale=self.log_var.exp())\n",
        "        return distribution.entropy().mean()\n",
        "                  \n",
        "    \n",
        "class ApproximateInvariance(nn.Module):\n",
        "    def __init__(self, input_dim, hidden_dim, output_dim, sample_size, prior=GaussianPrior):\n",
        "        super(ApproximateInvariance, self).__init__()\n",
        "        self.prior = prior    \n",
        "        self.sample_size = sample_size\n",
        "        self.input_dim = input_dim\n",
        "        self.output_dim = output_dim                  \n",
        "        self.weight_1 = prior((hidden_dim, input_dim))\n",
        "        self.bias_1 = prior((hidden_dim,))   \n",
        "        self.weight_2 = prior((output_dim, hidden_dim)) \n",
        "        self.bias_2 = prior((output_dim,)) \n",
        "        \n",
        "    def batch_forward(self, x, x_aug):\n",
        "        # We remove the num_sample dimension if it is equal to one.\n",
        "        w1 = self.weight_1().squeeze(0)\n",
        "        b1 = self.bias_1()  \n",
        "        w2 = self.weight_2().squeeze(0)\n",
        "        b2 = self.bias_2()              \n",
        "        \n",
        "        x = F.linear(x, w1, b1)\n",
        "        x = F.relu(x)\n",
        "        x = F.linear(x, w2, b2) \n",
        "        x = F.softmax(x) + 1e-8              \n",
        "\n",
        "        x_aug = F.linear(x_aug, w1, b1)           \n",
        "        x_aug = F.relu(x_aug)\n",
        "        x_aug = F.linear(x_aug, w2, b2) \n",
        "        x_aug = F.softmax(x_aug) + 1e-8        \n",
        "        return x, x_aug\n",
        "\n",
        "    def forward(self, x, x_aug):\n",
        "        \"\"\"\n",
        "        We need to compute the output of the neural network for the input x\n",
        "        and the augmented input x_aug with the same weights. And we need \n",
        "        to sample a new set of weights for each augmentation, hence the loop\n",
        "        Input:\n",
        "          x: torch Tensor. shape = (batch_size, num_sample, input_dim)\n",
        "          x_aug: has the same attribute as x. but here for each num_sample there is a different augmentation\n",
        "          while for x the tensor is repeated to leverage broadcasting.\n",
        "        \"\"\"\n",
        "        if self.sample_size > 1:\n",
        "          batch_size, num_samples, _ = x.shape\n",
        "          results = torch.zeros(batch_size, num_samples, self.output_dim)\n",
        "          results_aug = torch.zeros_like(results)\n",
        "          for i in range(num_samples):\n",
        "            results[:,i], results_aug[:,i] = self.batch_forward(x[:,i], x_aug[:,i])          \n",
        "        else:\n",
        "          results, results_aug = self.batch_forward(x, x_aug)\n",
        "        return results, results_aug\n",
        "\n",
        "    def entropy(self):\n",
        "        \"\"\"\n",
        "        Each weight computes its own entropy\n",
        "        \"\"\"\n",
        "        entropy_w1 = self.weight_1.entropy()\n",
        "        entropy_b1 = self.bias_1.entropy()\n",
        "        entropy_w2 = self.weight_2.entropy()\n",
        "        entropy_b2 = self.bias_2.entropy()\n",
        "        return entropy_w1 + entropy_b1 + entropy_w2 + entropy_b2\n",
        "\n",
        "    def sample(self, num_samples=5):\n",
        "        w1_samples = self.weight_1(num_samples=num_samples).view((num_samples, -1))\n",
        "        b1_samples = self.bias_1(num_samples=num_samples).view((num_samples, -1))\n",
        "        w2_samples = self.weight_2(num_samples=num_samples).view((num_samples, -1))\n",
        "        b2_samples = self.bias_2(num_samples=num_samples).view((num_samples, -1))\n",
        "\n",
        "        gen_weights = torch.cat([w1_samples, b1_samples, w2_samples, b2_samples], 1)\n",
        "\n",
        "        return gen_weights\n",
        "\n",
        "def kl_div_output(pred1, pred2, sample_size):\n",
        "    \"\"\"\n",
        "    This function computes the KL divergence between the output of\n",
        "    the standard neural network and and neural network with augmented data\n",
        "    Input:\n",
        "        pred1. Float tensor. K-class softmax prediction of network 1\n",
        "        pred2. Float tensor. K-class softmax prediction of network 2\n",
        "    Output:\n",
        "        kl_div. Float. The KL divergence between the two\n",
        "    \"\"\"\n",
        "    if sample_size > 1:\n",
        "      batch_size, num_sample, output_dim = pred1.shape\n",
        "      log_ratio = torch.log(pred1/pred2)\n",
        "      kl_div = torch.mean(pred1 * log_ratio, axis=[0,1]) # Average over num_sample and batches      \n",
        "      return kl_div.sum()\n",
        "    else:\n",
        "      log_ratio = torch.log(pred1/pred2)\n",
        "      kl_div = torch.mean(pred1 * log_ratio, axis=0) # Average over batches\n",
        "      return kl_div.sum()\n",
        "  "
      ],
      "execution_count": null,
      "outputs": []
    },
    {
      "cell_type": "markdown",
      "metadata": {
        "id": "48et4hjswusW",
        "colab_type": "text"
      },
      "source": [
        "## 3. Experiment"
      ]
    },
    {
      "cell_type": "code",
      "metadata": {
        "id": "o3qylhp1wnjN",
        "colab_type": "code",
        "colab": {}
      },
      "source": [
        "# Experiment parameters\n",
        "batch_size = [256, 512, 1024]\n",
        "augment_size = [16, 32, 64]\n",
        "\n",
        "rotation = iaa.Affine(rotate=(-20, 20), name=\"rotation\")\n",
        "noise = iaa.AddElementwise((0, 1), name=\"noise\")\n",
        "rotation_noise = iaa.Sequential([iaa.Affine(rotate=(-180, 180)),\n",
        "                          iaa.AddElementwise((0, 1))], name=\"rotation_noise\")\n",
        "\n",
        "augmentation = [rotation, noise, rotation_noise]\n",
        "\n",
        "_, width, height = x_train.shape\n",
        "epochs = 2500\n",
        "evaluations = 10"
      ],
      "execution_count": null,
      "outputs": []
    },
    {
      "cell_type": "code",
      "metadata": {
        "id": "lIIeUORPw9M_",
        "colab_type": "code",
        "colab": {
          "base_uri": "https://localhost:8080/",
          "height": 1000
        },
        "outputId": "3a125786-d8a3-4d30-ff5f-6931d7d8880f"
      },
      "source": [
        "for augment in augmentation:\n",
        "  for batch in batch_size:\n",
        "    for expand in augment_size:\n",
        "      PreTrainingData = MyData(x_train, y_train, return_perturb=True, sample_size=expand, augmentation=augment, training=True)\n",
        "      pretrainingloader = DataLoader(PreTrainingData, batch_size=batch, shuffle=True)\n",
        "      model_attributes = \"{}_{}_{}\".format(augment.name, batch, expand)    \n",
        "      print(\"Model \"+ model_attributes)\n",
        "      print(\"Get a batch of data...\")\n",
        "      for x,x_aug,y in pretrainingloader:\n",
        "        batch_x = x\n",
        "        batch_y = y\n",
        "        batch_x_aug = x_aug\n",
        "        break\n",
        "      print(\"-----------------------------------------------------------------\")\n",
        "      print(\"Instantiate model...\")\n",
        "      model = ApproximateInvariance(input_dim=width * height, hidden_dim=512, output_dim=10, sample_size=expand)\n",
        "      optimizer = torch.optim.Adam(model.parameters(), lr=0.001)\n",
        "      # initialize the early_stopping object\n",
        "      early_stopping = EarlyStopping(patience=500, verbose=True)   \n",
        "      print(\"Start training...\")\n",
        "      with trange(epochs) as pbar:\n",
        "        for i in pbar:      \n",
        "          optimizer.zero_grad()\n",
        "          preds_x, preds_x_aug = model(batch_x, batch_x_aug)\n",
        "          entropy = model.entropy()\n",
        "          kl = kl_div_output(preds_x, preds_x_aug, expand) \n",
        "          loss = kl - (i/epochs)*entropy              \n",
        "          loss.backward()      \n",
        "          optimizer.step()              \n",
        "          # early_stopping needs the validation loss to check if it has decresed, \n",
        "          # and if it has, it will make a checkpoint of the current model\n",
        "          early_stopping(kl, model, \"pre_train\")          \n",
        "          if early_stopping.early_stop:\n",
        "              print(\"Early stopping\")\n",
        "              break      \n",
        "          pbar.set_postfix(kl=kl.cpu().detach().numpy(),  entropy=entropy.cpu().detach().numpy())\n",
        "        print(\"-----------------------------------------------------------------\")          \n",
        "        print(\"Evaluate model...\")\n",
        "        ## Transfer the learnt weight to a new model\n",
        "        num_sample = 1\n",
        "        TrainingData = MyData(x_train, y_train, return_perturb=True, sample_size=num_sample, augmentation=augment, training=True)\n",
        "        trainingloader = DataLoader(TrainingData, batch_size=batch, shuffle=True)\n",
        "        approx_model = ApproximateInvariance(input_dim=width * height, hidden_dim=512, output_dim=10, sample_size=num_sample)\n",
        "        approx_model.load_state_dict(model.state_dict())        \n",
        "        kl_evaluations = []      \n",
        "        with trange(evaluations) as pbar:\n",
        "          for i in pbar:\n",
        "            kl_batch = []\n",
        "            loss_batch = []\n",
        "            for x, x_aug, _ in trainingloader:        \n",
        "              preds_x, preds_x_aug = approx_model(x, x_aug)\n",
        "              entropy = approx_model.entropy()\n",
        "              kl = kl_div_output(preds_x, preds_x_aug, num_sample)         \n",
        "              loss = entropy - kl  # Because we minimize the negative of the true objective\n",
        "\n",
        "              loss_batch.append(loss)        \n",
        "              kl_batch.append(kl)                \n",
        "              pbar.set_postfix(loss=loss.cpu().detach().numpy(), kl=kl.cpu().detach().numpy(),  entropy=entropy.cpu().detach().numpy())\n",
        "            kl_evaluations.append(torch.tensor(kl_batch).cpu().numpy()) \n",
        "        np.save(model_attributes, np.array(kl_evaluations))  \n",
        "        print(\"-----------------------------------------------------------------\")\n",
        "          \n",
        "        \n"
      ],
      "execution_count": null,
      "outputs": [
        {
          "output_type": "stream",
          "text": [
            "Model rotation_1024_16\n",
            "Get a batch of data...\n"
          ],
          "name": "stdout"
        },
        {
          "output_type": "stream",
          "text": [
            "  0%|          | 0/2500 [00:00<?, ?it/s]/usr/local/lib/python3.6/dist-packages/ipykernel_launcher.py:42: UserWarning: Implicit dimension choice for softmax has been deprecated. Change the call to include dim=X as an argument.\n",
            "/usr/local/lib/python3.6/dist-packages/ipykernel_launcher.py:47: UserWarning: Implicit dimension choice for softmax has been deprecated. Change the call to include dim=X as an argument.\n",
            "  0%|          | 1/2500 [00:00<07:40,  5.43it/s, entropy=7.695473, kl=5.8615704]"
          ],
          "name": "stderr"
        },
        {
          "output_type": "stream",
          "text": [
            "-----------------------------------------------------------------\n",
            "Instantiate model...\n",
            "Start training...\n",
            "Validation loss decreased (inf --> 5.861570).  Saving model ...\n"
          ],
          "name": "stdout"
        },
        {
          "output_type": "stream",
          "text": [
            "  0%|          | 7/2500 [00:00<04:31,  9.20it/s, entropy=7.6967087, kl=6.404802]"
          ],
          "name": "stderr"
        },
        {
          "output_type": "stream",
          "text": [
            "Validation loss decreased (5.861570 --> 4.876617).  Saving model ...\n",
            "Validation loss decreased (4.876617 --> 4.650480).  Saving model ...\n",
            "EarlyStopping counter: 1 out of 500\n",
            "EarlyStopping counter: 2 out of 500\n",
            "Validation loss decreased (4.650480 --> 4.017694).  Saving model ...\n",
            "EarlyStopping counter: 1 out of 500\n"
          ],
          "name": "stdout"
        },
        {
          "output_type": "stream",
          "text": [
            "  1%|          | 14/2500 [00:00<02:55, 14.20it/s, entropy=7.6982346, kl=6.859503]"
          ],
          "name": "stderr"
        },
        {
          "output_type": "stream",
          "text": [
            "EarlyStopping counter: 2 out of 500\n",
            "Validation loss decreased (4.017694 --> 3.792221).  Saving model ...\n",
            "Validation loss decreased (3.792221 --> 3.237658).  Saving model ...\n",
            "EarlyStopping counter: 1 out of 500\n",
            "EarlyStopping counter: 2 out of 500\n",
            "EarlyStopping counter: 3 out of 500\n",
            "EarlyStopping counter: 4 out of 500\n"
          ],
          "name": "stdout"
        },
        {
          "output_type": "stream",
          "text": [
            "  1%|          | 20/2500 [00:00<02:11, 18.83it/s, entropy=7.7006564, kl=6.179783]"
          ],
          "name": "stderr"
        },
        {
          "output_type": "stream",
          "text": [
            "EarlyStopping counter: 5 out of 500\n",
            "EarlyStopping counter: 6 out of 500\n",
            "EarlyStopping counter: 7 out of 500\n",
            "EarlyStopping counter: 8 out of 500\n",
            "EarlyStopping counter: 9 out of 500\n",
            "EarlyStopping counter: 10 out of 500\n"
          ],
          "name": "stdout"
        },
        {
          "output_type": "stream",
          "text": [
            "  1%|          | 23/2500 [00:01<01:58, 20.96it/s, entropy=7.7035637, kl=2.22765]  "
          ],
          "name": "stderr"
        },
        {
          "output_type": "stream",
          "text": [
            "EarlyStopping counter: 11 out of 500\n",
            "EarlyStopping counter: 12 out of 500\n",
            "EarlyStopping counter: 13 out of 500\n",
            "EarlyStopping counter: 14 out of 500\n",
            "EarlyStopping counter: 15 out of 500\n",
            "Validation loss decreased (3.237658 --> 2.227650).  Saving model ...\n",
            "EarlyStopping counter: 1 out of 500\n"
          ],
          "name": "stdout"
        },
        {
          "output_type": "stream",
          "text": [
            "  1%|▏         | 33/2500 [00:01<01:39, 24.76it/s, entropy=7.708031, kl=3.9951246]"
          ],
          "name": "stderr"
        },
        {
          "output_type": "stream",
          "text": [
            "EarlyStopping counter: 2 out of 500\n",
            "EarlyStopping counter: 3 out of 500\n",
            "EarlyStopping counter: 4 out of 500\n",
            "EarlyStopping counter: 5 out of 500\n",
            "EarlyStopping counter: 6 out of 500\n",
            "EarlyStopping counter: 7 out of 500\n"
          ],
          "name": "stdout"
        },
        {
          "output_type": "stream",
          "text": [
            "  2%|▏         | 39/2500 [00:01<01:31, 26.79it/s, entropy=7.7126126, kl=7.1654987]"
          ],
          "name": "stderr"
        },
        {
          "output_type": "stream",
          "text": [
            "EarlyStopping counter: 8 out of 500\n",
            "EarlyStopping counter: 9 out of 500\n",
            "EarlyStopping counter: 10 out of 500\n",
            "EarlyStopping counter: 11 out of 500\n",
            "EarlyStopping counter: 12 out of 500\n",
            "EarlyStopping counter: 13 out of 500\n"
          ],
          "name": "stdout"
        },
        {
          "output_type": "stream",
          "text": [
            "  2%|▏         | 46/2500 [00:01<01:26, 28.38it/s, entropy=7.718837, kl=5.215367]"
          ],
          "name": "stderr"
        },
        {
          "output_type": "stream",
          "text": [
            "EarlyStopping counter: 14 out of 500\n",
            "Validation loss decreased (2.227650 --> 2.211551).  Saving model ...\n",
            "EarlyStopping counter: 1 out of 500\n",
            "EarlyStopping counter: 2 out of 500\n",
            "EarlyStopping counter: 3 out of 500\n",
            "EarlyStopping counter: 4 out of 500\n",
            "EarlyStopping counter: 5 out of 500\n"
          ],
          "name": "stdout"
        },
        {
          "output_type": "stream",
          "text": [
            "  2%|▏         | 52/2500 [00:01<01:25, 28.51it/s, entropy=7.7245417, kl=6.498928]"
          ],
          "name": "stderr"
        },
        {
          "output_type": "stream",
          "text": [
            "EarlyStopping counter: 6 out of 500\n",
            "EarlyStopping counter: 7 out of 500\n",
            "EarlyStopping counter: 8 out of 500\n",
            "EarlyStopping counter: 9 out of 500\n",
            "EarlyStopping counter: 10 out of 500\n",
            "EarlyStopping counter: 11 out of 500\n"
          ],
          "name": "stdout"
        },
        {
          "output_type": "stream",
          "text": [
            "  2%|▏         | 58/2500 [00:02<01:24, 28.94it/s, entropy=7.7307763, kl=4.524013]"
          ],
          "name": "stderr"
        },
        {
          "output_type": "stream",
          "text": [
            "EarlyStopping counter: 12 out of 500\n",
            "EarlyStopping counter: 13 out of 500\n",
            "EarlyStopping counter: 14 out of 500\n",
            "EarlyStopping counter: 15 out of 500\n",
            "EarlyStopping counter: 16 out of 500\n",
            "EarlyStopping counter: 17 out of 500\n"
          ],
          "name": "stdout"
        },
        {
          "output_type": "stream",
          "text": [
            "  3%|▎         | 64/2500 [00:02<01:26, 28.18it/s, entropy=7.7377176, kl=4.922389]"
          ],
          "name": "stderr"
        },
        {
          "output_type": "stream",
          "text": [
            "EarlyStopping counter: 18 out of 500\n",
            "EarlyStopping counter: 19 out of 500\n",
            "EarlyStopping counter: 20 out of 500\n",
            "EarlyStopping counter: 21 out of 500\n",
            "EarlyStopping counter: 22 out of 500\n",
            "EarlyStopping counter: 23 out of 500\n"
          ],
          "name": "stdout"
        },
        {
          "output_type": "stream",
          "text": [
            "  3%|▎         | 71/2500 [00:02<01:23, 29.26it/s, entropy=7.7461147, kl=3.9361668]"
          ],
          "name": "stderr"
        },
        {
          "output_type": "stream",
          "text": [
            "EarlyStopping counter: 24 out of 500\n",
            "EarlyStopping counter: 25 out of 500\n",
            "EarlyStopping counter: 26 out of 500\n",
            "EarlyStopping counter: 27 out of 500\n",
            "EarlyStopping counter: 28 out of 500\n",
            "EarlyStopping counter: 29 out of 500\n",
            "EarlyStopping counter: 30 out of 500\n"
          ],
          "name": "stdout"
        },
        {
          "output_type": "stream",
          "text": [
            "  3%|▎         | 77/2500 [00:02<01:22, 29.50it/s, entropy=7.7538533, kl=4.1877446]"
          ],
          "name": "stderr"
        },
        {
          "output_type": "stream",
          "text": [
            "EarlyStopping counter: 31 out of 500\n",
            "EarlyStopping counter: 32 out of 500\n",
            "EarlyStopping counter: 33 out of 500\n",
            "EarlyStopping counter: 34 out of 500\n",
            "EarlyStopping counter: 35 out of 500\n",
            "EarlyStopping counter: 36 out of 500\n"
          ],
          "name": "stdout"
        },
        {
          "output_type": "stream",
          "text": [
            "  3%|▎         | 83/2500 [00:03<01:22, 29.13it/s, entropy=7.7613115, kl=2.828849]"
          ],
          "name": "stderr"
        },
        {
          "output_type": "stream",
          "text": [
            "EarlyStopping counter: 37 out of 500\n",
            "EarlyStopping counter: 38 out of 500\n",
            "EarlyStopping counter: 39 out of 500\n",
            "EarlyStopping counter: 40 out of 500\n",
            "EarlyStopping counter: 41 out of 500\n",
            "EarlyStopping counter: 42 out of 500\n"
          ],
          "name": "stdout"
        },
        {
          "output_type": "stream",
          "text": [
            "  4%|▎         | 89/2500 [00:03<01:23, 28.90it/s, entropy=7.768871, kl=5.4702134]"
          ],
          "name": "stderr"
        },
        {
          "output_type": "stream",
          "text": [
            "EarlyStopping counter: 43 out of 500\n",
            "EarlyStopping counter: 44 out of 500\n",
            "EarlyStopping counter: 45 out of 500\n",
            "EarlyStopping counter: 46 out of 500\n",
            "EarlyStopping counter: 47 out of 500\n",
            "EarlyStopping counter: 48 out of 500\n"
          ],
          "name": "stdout"
        },
        {
          "output_type": "stream",
          "text": [
            "  4%|▍         | 96/2500 [00:03<01:22, 29.28it/s, entropy=7.778654, kl=5.0370827]"
          ],
          "name": "stderr"
        },
        {
          "output_type": "stream",
          "text": [
            "EarlyStopping counter: 49 out of 500\n",
            "EarlyStopping counter: 50 out of 500\n",
            "EarlyStopping counter: 51 out of 500\n",
            "EarlyStopping counter: 52 out of 500\n",
            "EarlyStopping counter: 53 out of 500\n",
            "EarlyStopping counter: 54 out of 500\n",
            "EarlyStopping counter: 55 out of 500\n"
          ],
          "name": "stdout"
        },
        {
          "output_type": "stream",
          "text": [
            "  4%|▍         | 103/2500 [00:03<01:20, 29.77it/s, entropy=7.7886124, kl=5.6911917]"
          ],
          "name": "stderr"
        },
        {
          "output_type": "stream",
          "text": [
            "EarlyStopping counter: 56 out of 500\n",
            "EarlyStopping counter: 57 out of 500\n",
            "EarlyStopping counter: 58 out of 500\n",
            "EarlyStopping counter: 59 out of 500\n",
            "EarlyStopping counter: 60 out of 500\n",
            "EarlyStopping counter: 61 out of 500\n",
            "EarlyStopping counter: 62 out of 500\n"
          ],
          "name": "stdout"
        },
        {
          "output_type": "stream",
          "text": [
            "  4%|▍         | 109/2500 [00:03<01:22, 29.13it/s, entropy=7.7973027, kl=5.643916]"
          ],
          "name": "stderr"
        },
        {
          "output_type": "stream",
          "text": [
            "EarlyStopping counter: 63 out of 500\n",
            "EarlyStopping counter: 64 out of 500\n",
            "EarlyStopping counter: 65 out of 500\n",
            "EarlyStopping counter: 66 out of 500\n",
            "EarlyStopping counter: 67 out of 500\n",
            "EarlyStopping counter: 68 out of 500\n"
          ],
          "name": "stdout"
        },
        {
          "output_type": "stream",
          "text": [
            "  5%|▍         | 115/2500 [00:04<01:22, 28.77it/s, entropy=7.8061733, kl=3.930839]"
          ],
          "name": "stderr"
        },
        {
          "output_type": "stream",
          "text": [
            "EarlyStopping counter: 69 out of 500\n",
            "EarlyStopping counter: 70 out of 500\n",
            "EarlyStopping counter: 71 out of 500\n",
            "EarlyStopping counter: 72 out of 500\n",
            "EarlyStopping counter: 73 out of 500\n",
            "EarlyStopping counter: 74 out of 500\n"
          ],
          "name": "stdout"
        },
        {
          "output_type": "stream",
          "text": [
            "  5%|▍         | 121/2500 [00:04<01:22, 28.73it/s, entropy=7.8154125, kl=3.8718214]"
          ],
          "name": "stderr"
        },
        {
          "output_type": "stream",
          "text": [
            "EarlyStopping counter: 75 out of 500\n",
            "EarlyStopping counter: 76 out of 500\n",
            "EarlyStopping counter: 77 out of 500\n",
            "EarlyStopping counter: 78 out of 500\n",
            "EarlyStopping counter: 79 out of 500\n",
            "EarlyStopping counter: 80 out of 500\n"
          ],
          "name": "stdout"
        },
        {
          "output_type": "stream",
          "text": [
            "  5%|▌         | 128/2500 [00:04<01:20, 29.34it/s, entropy=7.826254, kl=2.5979128]"
          ],
          "name": "stderr"
        },
        {
          "output_type": "stream",
          "text": [
            "EarlyStopping counter: 81 out of 500\n",
            "EarlyStopping counter: 82 out of 500\n",
            "EarlyStopping counter: 83 out of 500\n",
            "EarlyStopping counter: 84 out of 500\n",
            "EarlyStopping counter: 85 out of 500\n",
            "EarlyStopping counter: 86 out of 500\n",
            "EarlyStopping counter: 87 out of 500\n"
          ],
          "name": "stdout"
        },
        {
          "output_type": "stream",
          "text": [
            "  5%|▌         | 134/2500 [00:04<01:23, 28.37it/s, entropy=7.835628, kl=6.4642963]"
          ],
          "name": "stderr"
        },
        {
          "output_type": "stream",
          "text": [
            "EarlyStopping counter: 88 out of 500\n",
            "EarlyStopping counter: 89 out of 500\n",
            "EarlyStopping counter: 90 out of 500\n",
            "EarlyStopping counter: 91 out of 500\n",
            "EarlyStopping counter: 92 out of 500\n",
            "EarlyStopping counter: 93 out of 500\n"
          ],
          "name": "stdout"
        },
        {
          "output_type": "stream",
          "text": [
            "  5%|▌         | 137/2500 [00:04<01:23, 28.15it/s, entropy=7.845145, kl=4.6889997] "
          ],
          "name": "stderr"
        },
        {
          "output_type": "stream",
          "text": [
            "EarlyStopping counter: 94 out of 500\n",
            "EarlyStopping counter: 95 out of 500\n",
            "EarlyStopping counter: 96 out of 500\n",
            "EarlyStopping counter: 97 out of 500\n",
            "EarlyStopping counter: 98 out of 500\n",
            "EarlyStopping counter: 99 out of 500\n"
          ],
          "name": "stdout"
        },
        {
          "output_type": "stream",
          "text": [
            "  6%|▌         | 144/2500 [00:05<01:23, 28.21it/s, entropy=7.8546534, kl=4.7433457]"
          ],
          "name": "stderr"
        },
        {
          "output_type": "stream",
          "text": [
            "EarlyStopping counter: 100 out of 500\n",
            "EarlyStopping counter: 101 out of 500\n",
            "EarlyStopping counter: 102 out of 500\n",
            "EarlyStopping counter: 103 out of 500\n",
            "EarlyStopping counter: 104 out of 500\n",
            "EarlyStopping counter: 105 out of 500\n"
          ],
          "name": "stdout"
        },
        {
          "output_type": "stream",
          "text": [
            "  6%|▌         | 150/2500 [00:05<01:22, 28.51it/s, entropy=7.8642683, kl=4.9044933]"
          ],
          "name": "stderr"
        },
        {
          "output_type": "stream",
          "text": [
            "EarlyStopping counter: 106 out of 500\n",
            "EarlyStopping counter: 107 out of 500\n",
            "EarlyStopping counter: 108 out of 500\n",
            "EarlyStopping counter: 109 out of 500\n",
            "EarlyStopping counter: 110 out of 500\n",
            "EarlyStopping counter: 111 out of 500\n"
          ],
          "name": "stdout"
        },
        {
          "output_type": "stream",
          "text": [
            "  6%|▌         | 156/2500 [00:05<01:20, 28.95it/s, entropy=7.8738885, kl=6.190318]"
          ],
          "name": "stderr"
        },
        {
          "output_type": "stream",
          "text": [
            "EarlyStopping counter: 112 out of 500\n",
            "EarlyStopping counter: 113 out of 500\n",
            "EarlyStopping counter: 114 out of 500\n",
            "EarlyStopping counter: 115 out of 500\n",
            "EarlyStopping counter: 116 out of 500\n",
            "EarlyStopping counter: 117 out of 500\n"
          ],
          "name": "stdout"
        },
        {
          "output_type": "stream",
          "text": [
            "  7%|▋         | 163/2500 [00:05<01:18, 29.58it/s, entropy=7.883604, kl=2.3012118] "
          ],
          "name": "stderr"
        },
        {
          "output_type": "stream",
          "text": [
            "EarlyStopping counter: 118 out of 500\n",
            "EarlyStopping counter: 119 out of 500\n",
            "EarlyStopping counter: 120 out of 500\n",
            "EarlyStopping counter: 121 out of 500\n",
            "EarlyStopping counter: 122 out of 500\n",
            "EarlyStopping counter: 123 out of 500\n"
          ],
          "name": "stdout"
        },
        {
          "output_type": "stream",
          "text": [
            "  7%|▋         | 170/2500 [00:06<01:19, 29.18it/s, entropy=7.893463, kl=2.950903]"
          ],
          "name": "stderr"
        },
        {
          "output_type": "stream",
          "text": [
            "EarlyStopping counter: 124 out of 500\n",
            "EarlyStopping counter: 125 out of 500\n",
            "EarlyStopping counter: 126 out of 500\n",
            "EarlyStopping counter: 127 out of 500\n",
            "EarlyStopping counter: 128 out of 500\n",
            "EarlyStopping counter: 129 out of 500\n"
          ],
          "name": "stdout"
        },
        {
          "output_type": "stream",
          "text": [
            "  7%|▋         | 176/2500 [00:06<01:21, 28.36it/s, entropy=7.90314, kl=5.1637034]"
          ],
          "name": "stderr"
        },
        {
          "output_type": "stream",
          "text": [
            "EarlyStopping counter: 130 out of 500\n",
            "EarlyStopping counter: 131 out of 500\n",
            "EarlyStopping counter: 132 out of 500\n",
            "EarlyStopping counter: 133 out of 500\n",
            "EarlyStopping counter: 134 out of 500\n",
            "EarlyStopping counter: 135 out of 500\n"
          ],
          "name": "stdout"
        },
        {
          "output_type": "stream",
          "text": [
            "  7%|▋         | 182/2500 [00:06<01:21, 28.33it/s, entropy=7.912798, kl=3.7057128]"
          ],
          "name": "stderr"
        },
        {
          "output_type": "stream",
          "text": [
            "EarlyStopping counter: 136 out of 500\n",
            "EarlyStopping counter: 137 out of 500\n",
            "EarlyStopping counter: 138 out of 500\n",
            "EarlyStopping counter: 139 out of 500\n",
            "EarlyStopping counter: 140 out of 500\n",
            "EarlyStopping counter: 141 out of 500\n"
          ],
          "name": "stdout"
        },
        {
          "output_type": "stream",
          "text": [
            "  7%|▋         | 185/2500 [00:06<01:20, 28.77it/s, entropy=7.922515, kl=3.9461837] "
          ],
          "name": "stderr"
        },
        {
          "output_type": "stream",
          "text": [
            "EarlyStopping counter: 142 out of 500\n",
            "EarlyStopping counter: 143 out of 500\n",
            "EarlyStopping counter: 144 out of 500\n",
            "EarlyStopping counter: 145 out of 500\n",
            "EarlyStopping counter: 146 out of 500\n",
            "EarlyStopping counter: 147 out of 500\n"
          ],
          "name": "stdout"
        },
        {
          "output_type": "stream",
          "text": [
            "  8%|▊         | 192/2500 [00:06<01:19, 29.13it/s, entropy=7.9324093, kl=4.2766476]"
          ],
          "name": "stderr"
        },
        {
          "output_type": "stream",
          "text": [
            "EarlyStopping counter: 148 out of 500\n",
            "EarlyStopping counter: 149 out of 500\n",
            "EarlyStopping counter: 150 out of 500\n",
            "EarlyStopping counter: 151 out of 500\n",
            "EarlyStopping counter: 152 out of 500\n",
            "EarlyStopping counter: 153 out of 500\n"
          ],
          "name": "stdout"
        },
        {
          "output_type": "stream",
          "text": [
            "  8%|▊         | 198/2500 [00:07<01:20, 28.46it/s, entropy=7.9423323, kl=2.0595374]"
          ],
          "name": "stderr"
        },
        {
          "output_type": "stream",
          "text": [
            "EarlyStopping counter: 154 out of 500\n",
            "EarlyStopping counter: 155 out of 500\n",
            "EarlyStopping counter: 156 out of 500\n",
            "EarlyStopping counter: 157 out of 500\n",
            "EarlyStopping counter: 158 out of 500\n",
            "Validation loss decreased (2.211551 --> 2.059537).  Saving model ...\n"
          ],
          "name": "stdout"
        },
        {
          "output_type": "stream",
          "text": [
            "  8%|▊         | 205/2500 [00:07<01:19, 28.87it/s, entropy=7.9521422, kl=3.962616]"
          ],
          "name": "stderr"
        },
        {
          "output_type": "stream",
          "text": [
            "EarlyStopping counter: 1 out of 500\n",
            "EarlyStopping counter: 2 out of 500\n",
            "EarlyStopping counter: 3 out of 500\n",
            "EarlyStopping counter: 4 out of 500\n",
            "EarlyStopping counter: 5 out of 500\n",
            "EarlyStopping counter: 6 out of 500\n"
          ],
          "name": "stdout"
        },
        {
          "output_type": "stream",
          "text": [
            "  8%|▊         | 211/2500 [00:07<01:19, 28.74it/s, entropy=7.9620476, kl=4.206464]"
          ],
          "name": "stderr"
        },
        {
          "output_type": "stream",
          "text": [
            "EarlyStopping counter: 7 out of 500\n",
            "EarlyStopping counter: 8 out of 500\n",
            "EarlyStopping counter: 9 out of 500\n",
            "EarlyStopping counter: 10 out of 500\n",
            "EarlyStopping counter: 11 out of 500\n",
            "EarlyStopping counter: 12 out of 500\n"
          ],
          "name": "stdout"
        },
        {
          "output_type": "stream",
          "text": [
            "  9%|▊         | 218/2500 [00:07<01:17, 29.41it/s, entropy=7.973733, kl=4.7250166] "
          ],
          "name": "stderr"
        },
        {
          "output_type": "stream",
          "text": [
            "EarlyStopping counter: 13 out of 500\n",
            "EarlyStopping counter: 14 out of 500\n",
            "EarlyStopping counter: 15 out of 500\n",
            "EarlyStopping counter: 16 out of 500\n",
            "EarlyStopping counter: 17 out of 500\n",
            "EarlyStopping counter: 18 out of 500\n",
            "EarlyStopping counter: 19 out of 500\n"
          ],
          "name": "stdout"
        },
        {
          "output_type": "stream",
          "text": [
            "  9%|▉         | 225/2500 [00:07<01:19, 28.76it/s, entropy=7.983758, kl=3.787309]"
          ],
          "name": "stderr"
        },
        {
          "output_type": "stream",
          "text": [
            "EarlyStopping counter: 20 out of 500\n",
            "EarlyStopping counter: 21 out of 500\n",
            "EarlyStopping counter: 22 out of 500\n",
            "EarlyStopping counter: 23 out of 500\n",
            "EarlyStopping counter: 24 out of 500\n",
            "EarlyStopping counter: 25 out of 500\n"
          ],
          "name": "stdout"
        },
        {
          "output_type": "stream",
          "text": [
            "  9%|▉         | 232/2500 [00:08<01:17, 29.36it/s, entropy=7.995557, kl=4.675529]"
          ],
          "name": "stderr"
        },
        {
          "output_type": "stream",
          "text": [
            "EarlyStopping counter: 26 out of 500\n",
            "EarlyStopping counter: 27 out of 500\n",
            "EarlyStopping counter: 28 out of 500\n",
            "EarlyStopping counter: 29 out of 500\n",
            "EarlyStopping counter: 30 out of 500\n",
            "EarlyStopping counter: 31 out of 500\n",
            "EarlyStopping counter: 32 out of 500\n"
          ],
          "name": "stdout"
        },
        {
          "output_type": "stream",
          "text": [
            " 10%|▉         | 238/2500 [00:08<01:18, 28.92it/s, entropy=8.005695, kl=5.610099]"
          ],
          "name": "stderr"
        },
        {
          "output_type": "stream",
          "text": [
            "EarlyStopping counter: 33 out of 500\n",
            "EarlyStopping counter: 34 out of 500\n",
            "EarlyStopping counter: 35 out of 500\n",
            "EarlyStopping counter: 36 out of 500\n",
            "EarlyStopping counter: 37 out of 500\n",
            "EarlyStopping counter: 38 out of 500\n"
          ],
          "name": "stdout"
        },
        {
          "output_type": "stream",
          "text": [
            " 10%|▉         | 245/2500 [00:08<01:16, 29.58it/s, entropy=8.017582, kl=3.5631895]"
          ],
          "name": "stderr"
        },
        {
          "output_type": "stream",
          "text": [
            "EarlyStopping counter: 39 out of 500\n",
            "EarlyStopping counter: 40 out of 500\n",
            "EarlyStopping counter: 41 out of 500\n",
            "EarlyStopping counter: 42 out of 500\n",
            "EarlyStopping counter: 43 out of 500\n",
            "EarlyStopping counter: 44 out of 500\n",
            "EarlyStopping counter: 45 out of 500\n"
          ],
          "name": "stdout"
        },
        {
          "output_type": "stream",
          "text": [
            " 10%|█         | 252/2500 [00:08<01:16, 29.55it/s, entropy=8.029346, kl=2.4219627]"
          ],
          "name": "stderr"
        },
        {
          "output_type": "stream",
          "text": [
            "EarlyStopping counter: 46 out of 500\n",
            "Validation loss decreased (2.059537 --> 1.604409).  Saving model ...\n",
            "EarlyStopping counter: 1 out of 500\n",
            "EarlyStopping counter: 2 out of 500\n",
            "EarlyStopping counter: 3 out of 500\n",
            "EarlyStopping counter: 4 out of 500\n",
            "EarlyStopping counter: 5 out of 500\n"
          ],
          "name": "stdout"
        },
        {
          "output_type": "stream",
          "text": [
            " 10%|█         | 258/2500 [00:09<01:16, 29.17it/s, entropy=8.039437, kl=3.4568]"
          ],
          "name": "stderr"
        },
        {
          "output_type": "stream",
          "text": [
            "EarlyStopping counter: 6 out of 500\n",
            "EarlyStopping counter: 7 out of 500\n",
            "EarlyStopping counter: 8 out of 500\n",
            "EarlyStopping counter: 9 out of 500\n",
            "EarlyStopping counter: 10 out of 500\n",
            "EarlyStopping counter: 11 out of 500\n"
          ],
          "name": "stdout"
        },
        {
          "output_type": "stream",
          "text": [
            " 10%|█         | 261/2500 [00:09<01:16, 29.19it/s, entropy=8.04953, kl=2.598219] "
          ],
          "name": "stderr"
        },
        {
          "output_type": "stream",
          "text": [
            "EarlyStopping counter: 12 out of 500\n",
            "EarlyStopping counter: 13 out of 500\n",
            "EarlyStopping counter: 14 out of 500\n",
            "EarlyStopping counter: 15 out of 500\n",
            "EarlyStopping counter: 16 out of 500\n",
            "EarlyStopping counter: 17 out of 500\n"
          ],
          "name": "stdout"
        },
        {
          "output_type": "stream",
          "text": [
            " 11%|█         | 268/2500 [00:09<01:17, 28.66it/s, entropy=8.059706, kl=2.7350094]"
          ],
          "name": "stderr"
        },
        {
          "output_type": "stream",
          "text": [
            "EarlyStopping counter: 18 out of 500\n",
            "EarlyStopping counter: 19 out of 500\n",
            "EarlyStopping counter: 20 out of 500\n",
            "EarlyStopping counter: 21 out of 500\n",
            "EarlyStopping counter: 22 out of 500\n",
            "EarlyStopping counter: 23 out of 500\n"
          ],
          "name": "stdout"
        },
        {
          "output_type": "stream",
          "text": [
            " 11%|█         | 274/2500 [00:09<01:19, 28.05it/s, entropy=8.069941, kl=1.3833543]"
          ],
          "name": "stderr"
        },
        {
          "output_type": "stream",
          "text": [
            "EarlyStopping counter: 24 out of 500\n",
            "EarlyStopping counter: 25 out of 500\n",
            "EarlyStopping counter: 26 out of 500\n",
            "EarlyStopping counter: 27 out of 500\n",
            "EarlyStopping counter: 28 out of 500\n",
            "Validation loss decreased (1.604409 --> 1.383354).  Saving model ...\n"
          ],
          "name": "stdout"
        },
        {
          "output_type": "stream",
          "text": [
            " 11%|█         | 281/2500 [00:09<01:16, 28.84it/s, entropy=8.0803795, kl=2.3796396]"
          ],
          "name": "stderr"
        },
        {
          "output_type": "stream",
          "text": [
            "EarlyStopping counter: 1 out of 500\n",
            "EarlyStopping counter: 2 out of 500\n",
            "EarlyStopping counter: 3 out of 500\n",
            "EarlyStopping counter: 4 out of 500\n",
            "EarlyStopping counter: 5 out of 500\n",
            "EarlyStopping counter: 6 out of 500\n"
          ],
          "name": "stdout"
        },
        {
          "output_type": "stream",
          "text": [
            " 12%|█▏        | 288/2500 [00:10<01:16, 29.06it/s, entropy=8.090771, kl=3.559836]"
          ],
          "name": "stderr"
        },
        {
          "output_type": "stream",
          "text": [
            "EarlyStopping counter: 7 out of 500\n",
            "EarlyStopping counter: 8 out of 500\n",
            "EarlyStopping counter: 9 out of 500\n",
            "EarlyStopping counter: 10 out of 500\n",
            "EarlyStopping counter: 11 out of 500\n",
            "EarlyStopping counter: 12 out of 500\n"
          ],
          "name": "stdout"
        },
        {
          "output_type": "stream",
          "text": [
            " 12%|█▏        | 295/2500 [00:10<01:15, 29.34it/s, entropy=8.102891, kl=2.7877724]"
          ],
          "name": "stderr"
        },
        {
          "output_type": "stream",
          "text": [
            "EarlyStopping counter: 13 out of 500\n",
            "Validation loss decreased (1.383354 --> 1.207373).  Saving model ...\n",
            "EarlyStopping counter: 1 out of 500\n",
            "EarlyStopping counter: 2 out of 500\n",
            "EarlyStopping counter: 3 out of 500\n",
            "EarlyStopping counter: 4 out of 500\n",
            "EarlyStopping counter: 5 out of 500\n"
          ],
          "name": "stdout"
        },
        {
          "output_type": "stream",
          "text": [
            " 12%|█▏        | 301/2500 [00:10<01:16, 28.73it/s, entropy=8.113417, kl=3.2304475]"
          ],
          "name": "stderr"
        },
        {
          "output_type": "stream",
          "text": [
            "EarlyStopping counter: 6 out of 500\n",
            "EarlyStopping counter: 7 out of 500\n",
            "EarlyStopping counter: 8 out of 500\n",
            "EarlyStopping counter: 9 out of 500\n",
            "EarlyStopping counter: 10 out of 500\n",
            "EarlyStopping counter: 11 out of 500\n"
          ],
          "name": "stdout"
        },
        {
          "output_type": "stream",
          "text": [
            " 12%|█▏        | 308/2500 [00:10<01:14, 29.36it/s, entropy=8.125621, kl=2.6980257]"
          ],
          "name": "stderr"
        },
        {
          "output_type": "stream",
          "text": [
            "EarlyStopping counter: 12 out of 500\n",
            "EarlyStopping counter: 13 out of 500\n",
            "EarlyStopping counter: 14 out of 500\n",
            "EarlyStopping counter: 15 out of 500\n",
            "EarlyStopping counter: 16 out of 500\n",
            "EarlyStopping counter: 17 out of 500\n",
            "EarlyStopping counter: 18 out of 500\n"
          ],
          "name": "stdout"
        },
        {
          "output_type": "stream",
          "text": [
            " 13%|█▎        | 314/2500 [00:11<01:15, 28.96it/s, entropy=8.136071, kl=1.4594707]"
          ],
          "name": "stderr"
        },
        {
          "output_type": "stream",
          "text": [
            "EarlyStopping counter: 19 out of 500\n",
            "EarlyStopping counter: 20 out of 500\n",
            "EarlyStopping counter: 21 out of 500\n",
            "EarlyStopping counter: 22 out of 500\n",
            "Validation loss decreased (1.207373 --> 1.197348).  Saving model ...\n",
            "EarlyStopping counter: 1 out of 500\n"
          ],
          "name": "stdout"
        },
        {
          "output_type": "stream",
          "text": [
            " 13%|█▎        | 320/2500 [00:11<01:15, 28.86it/s, entropy=8.146475, kl=1.221141]"
          ],
          "name": "stderr"
        },
        {
          "output_type": "stream",
          "text": [
            "EarlyStopping counter: 2 out of 500\n",
            "EarlyStopping counter: 3 out of 500\n",
            "EarlyStopping counter: 4 out of 500\n",
            "EarlyStopping counter: 5 out of 500\n",
            "EarlyStopping counter: 6 out of 500\n",
            "EarlyStopping counter: 7 out of 500\n"
          ],
          "name": "stdout"
        },
        {
          "output_type": "stream",
          "text": [
            " 13%|█▎        | 326/2500 [00:11<01:15, 28.70it/s, entropy=8.156858, kl=2.3944511]"
          ],
          "name": "stderr"
        },
        {
          "output_type": "stream",
          "text": [
            "EarlyStopping counter: 8 out of 500\n",
            "EarlyStopping counter: 9 out of 500\n",
            "EarlyStopping counter: 10 out of 500\n",
            "EarlyStopping counter: 11 out of 500\n",
            "EarlyStopping counter: 12 out of 500\n",
            "EarlyStopping counter: 13 out of 500\n"
          ],
          "name": "stdout"
        },
        {
          "output_type": "stream",
          "text": [
            " 13%|█▎        | 333/2500 [00:11<01:14, 29.21it/s, entropy=8.168863, kl=2.5640159]"
          ],
          "name": "stderr"
        },
        {
          "output_type": "stream",
          "text": [
            "EarlyStopping counter: 14 out of 500\n",
            "EarlyStopping counter: 15 out of 500\n",
            "Validation loss decreased (1.197348 --> 0.980703).  Saving model ...\n",
            "EarlyStopping counter: 1 out of 500\n",
            "EarlyStopping counter: 2 out of 500\n",
            "EarlyStopping counter: 3 out of 500\n",
            "EarlyStopping counter: 4 out of 500\n"
          ],
          "name": "stdout"
        },
        {
          "output_type": "stream",
          "text": [
            " 14%|█▎        | 339/2500 [00:11<01:15, 28.49it/s, entropy=8.179133, kl=2.5825655]"
          ],
          "name": "stderr"
        },
        {
          "output_type": "stream",
          "text": [
            "EarlyStopping counter: 5 out of 500\n",
            "EarlyStopping counter: 6 out of 500\n",
            "EarlyStopping counter: 7 out of 500\n",
            "EarlyStopping counter: 8 out of 500\n",
            "EarlyStopping counter: 9 out of 500\n",
            "EarlyStopping counter: 10 out of 500\n"
          ],
          "name": "stdout"
        },
        {
          "output_type": "stream",
          "text": [
            " 14%|█▍        | 345/2500 [00:12<01:15, 28.73it/s, entropy=8.189436, kl=1.6843244]"
          ],
          "name": "stderr"
        },
        {
          "output_type": "stream",
          "text": [
            "EarlyStopping counter: 11 out of 500\n",
            "EarlyStopping counter: 12 out of 500\n",
            "EarlyStopping counter: 13 out of 500\n",
            "EarlyStopping counter: 14 out of 500\n",
            "EarlyStopping counter: 15 out of 500\n",
            "EarlyStopping counter: 16 out of 500\n"
          ],
          "name": "stdout"
        },
        {
          "output_type": "stream",
          "text": [
            " 14%|█▍        | 351/2500 [00:12<01:13, 29.07it/s, entropy=8.199797, kl=1.7398655]"
          ],
          "name": "stderr"
        },
        {
          "output_type": "stream",
          "text": [
            "EarlyStopping counter: 17 out of 500\n",
            "Validation loss decreased (0.980703 --> 0.567743).  Saving model ...\n",
            "EarlyStopping counter: 1 out of 500\n",
            "EarlyStopping counter: 2 out of 500\n",
            "EarlyStopping counter: 3 out of 500\n",
            "EarlyStopping counter: 4 out of 500\n"
          ],
          "name": "stdout"
        },
        {
          "output_type": "stream",
          "text": [
            " 14%|█▍        | 357/2500 [00:12<01:16, 28.15it/s, entropy=8.210253, kl=1.166379]"
          ],
          "name": "stderr"
        },
        {
          "output_type": "stream",
          "text": [
            "EarlyStopping counter: 5 out of 500\n",
            "EarlyStopping counter: 6 out of 500\n",
            "EarlyStopping counter: 7 out of 500\n",
            "EarlyStopping counter: 8 out of 500\n",
            "EarlyStopping counter: 9 out of 500\n",
            "EarlyStopping counter: 10 out of 500\n"
          ],
          "name": "stdout"
        },
        {
          "output_type": "stream",
          "text": [
            " 15%|█▍        | 364/2500 [00:12<01:13, 29.16it/s, entropy=8.222378, kl=0.97302663]"
          ],
          "name": "stderr"
        },
        {
          "output_type": "stream",
          "text": [
            "EarlyStopping counter: 11 out of 500\n",
            "EarlyStopping counter: 12 out of 500\n",
            "EarlyStopping counter: 13 out of 500\n",
            "EarlyStopping counter: 14 out of 500\n",
            "EarlyStopping counter: 15 out of 500\n",
            "EarlyStopping counter: 16 out of 500\n",
            "EarlyStopping counter: 17 out of 500\n"
          ],
          "name": "stdout"
        },
        {
          "output_type": "stream",
          "text": [
            " 15%|█▍        | 367/2500 [00:12<01:13, 28.94it/s, entropy=8.23288, kl=0.20072836]"
          ],
          "name": "stderr"
        },
        {
          "output_type": "stream",
          "text": [
            "EarlyStopping counter: 18 out of 500\n",
            "EarlyStopping counter: 19 out of 500\n",
            "EarlyStopping counter: 20 out of 500\n",
            "EarlyStopping counter: 21 out of 500\n",
            "EarlyStopping counter: 22 out of 500\n",
            "Validation loss decreased (0.567743 --> 0.200728).  Saving model ...\n",
            "EarlyStopping counter: 1 out of 500\n"
          ],
          "name": "stdout"
        },
        {
          "output_type": "stream",
          "text": [
            " 15%|█▌        | 377/2500 [00:13<01:14, 28.47it/s, entropy=8.245226, kl=1.3629653]"
          ],
          "name": "stderr"
        },
        {
          "output_type": "stream",
          "text": [
            "EarlyStopping counter: 2 out of 500\n",
            "EarlyStopping counter: 3 out of 500\n",
            "EarlyStopping counter: 4 out of 500\n",
            "EarlyStopping counter: 5 out of 500\n",
            "EarlyStopping counter: 6 out of 500\n",
            "EarlyStopping counter: 7 out of 500\n"
          ],
          "name": "stdout"
        },
        {
          "output_type": "stream",
          "text": [
            " 15%|█▌        | 383/2500 [00:13<01:14, 28.30it/s, entropy=8.255728, kl=1.3811846]"
          ],
          "name": "stderr"
        },
        {
          "output_type": "stream",
          "text": [
            "EarlyStopping counter: 8 out of 500\n",
            "EarlyStopping counter: 9 out of 500\n",
            "EarlyStopping counter: 10 out of 500\n",
            "EarlyStopping counter: 11 out of 500\n",
            "EarlyStopping counter: 12 out of 500\n",
            "EarlyStopping counter: 13 out of 500\n"
          ],
          "name": "stdout"
        },
        {
          "output_type": "stream",
          "text": [
            " 16%|█▌        | 390/2500 [00:13<01:13, 28.54it/s, entropy=8.267896, kl=0.69038117]"
          ],
          "name": "stderr"
        },
        {
          "output_type": "stream",
          "text": [
            "EarlyStopping counter: 14 out of 500\n",
            "EarlyStopping counter: 15 out of 500\n",
            "EarlyStopping counter: 16 out of 500\n",
            "EarlyStopping counter: 17 out of 500\n",
            "EarlyStopping counter: 18 out of 500\n",
            "EarlyStopping counter: 19 out of 500\n",
            "EarlyStopping counter: 20 out of 500\n"
          ],
          "name": "stdout"
        },
        {
          "output_type": "stream",
          "text": [
            " 16%|█▌        | 397/2500 [00:13<01:11, 29.32it/s, entropy=8.280099, kl=1.4500091]"
          ],
          "name": "stderr"
        },
        {
          "output_type": "stream",
          "text": [
            "EarlyStopping counter: 21 out of 500\n",
            "EarlyStopping counter: 22 out of 500\n",
            "EarlyStopping counter: 23 out of 500\n",
            "EarlyStopping counter: 24 out of 500\n",
            "EarlyStopping counter: 25 out of 500\n",
            "EarlyStopping counter: 26 out of 500\n",
            "EarlyStopping counter: 27 out of 500\n"
          ],
          "name": "stdout"
        },
        {
          "output_type": "stream",
          "text": [
            " 16%|█▌        | 403/2500 [00:14<01:12, 28.93it/s, entropy=8.290571, kl=1.5641345]"
          ],
          "name": "stderr"
        },
        {
          "output_type": "stream",
          "text": [
            "EarlyStopping counter: 28 out of 500\n",
            "EarlyStopping counter: 29 out of 500\n",
            "EarlyStopping counter: 30 out of 500\n",
            "EarlyStopping counter: 31 out of 500\n",
            "EarlyStopping counter: 32 out of 500\n",
            "EarlyStopping counter: 33 out of 500\n"
          ],
          "name": "stdout"
        },
        {
          "output_type": "stream",
          "text": [
            " 16%|█▋        | 409/2500 [00:14<01:11, 29.09it/s, entropy=8.301043, kl=1.1226137]"
          ],
          "name": "stderr"
        },
        {
          "output_type": "stream",
          "text": [
            "EarlyStopping counter: 34 out of 500\n",
            "EarlyStopping counter: 35 out of 500\n",
            "EarlyStopping counter: 36 out of 500\n",
            "EarlyStopping counter: 37 out of 500\n",
            "EarlyStopping counter: 38 out of 500\n",
            "EarlyStopping counter: 39 out of 500\n"
          ],
          "name": "stdout"
        },
        {
          "output_type": "stream",
          "text": [
            " 17%|█▋        | 413/2500 [00:14<01:10, 29.45it/s, entropy=8.31151, kl=0.45507032]"
          ],
          "name": "stderr"
        },
        {
          "output_type": "stream",
          "text": [
            "EarlyStopping counter: 40 out of 500\n",
            "EarlyStopping counter: 41 out of 500\n",
            "EarlyStopping counter: 42 out of 500\n",
            "EarlyStopping counter: 43 out of 500\n",
            "EarlyStopping counter: 44 out of 500\n",
            "EarlyStopping counter: 45 out of 500\n"
          ],
          "name": "stdout"
        },
        {
          "output_type": "stream",
          "text": [
            " 17%|█▋        | 420/2500 [00:14<01:11, 29.24it/s, entropy=8.321953, kl=0.66725904]"
          ],
          "name": "stderr"
        },
        {
          "output_type": "stream",
          "text": [
            "EarlyStopping counter: 46 out of 500\n",
            "EarlyStopping counter: 47 out of 500\n",
            "EarlyStopping counter: 48 out of 500\n",
            "EarlyStopping counter: 49 out of 500\n",
            "EarlyStopping counter: 50 out of 500\n",
            "EarlyStopping counter: 51 out of 500\n"
          ],
          "name": "stdout"
        },
        {
          "output_type": "stream",
          "text": [
            " 17%|█▋        | 426/2500 [00:14<01:11, 29.00it/s, entropy=8.332444, kl=0.20741573]"
          ],
          "name": "stderr"
        },
        {
          "output_type": "stream",
          "text": [
            "EarlyStopping counter: 52 out of 500\n",
            "Validation loss decreased (0.200728 --> 0.160968).  Saving model ...\n",
            "EarlyStopping counter: 1 out of 500\n",
            "Validation loss decreased (0.160968 --> 0.156060).  Saving model ...\n",
            "EarlyStopping counter: 1 out of 500\n",
            "EarlyStopping counter: 2 out of 500\n"
          ],
          "name": "stdout"
        },
        {
          "output_type": "stream",
          "text": [
            " 17%|█▋        | 432/2500 [00:15<01:12, 28.71it/s, entropy=8.342884, kl=0.8259716] "
          ],
          "name": "stderr"
        },
        {
          "output_type": "stream",
          "text": [
            "EarlyStopping counter: 3 out of 500\n",
            "EarlyStopping counter: 4 out of 500\n",
            "EarlyStopping counter: 5 out of 500\n",
            "EarlyStopping counter: 6 out of 500\n",
            "EarlyStopping counter: 7 out of 500\n",
            "EarlyStopping counter: 8 out of 500\n"
          ],
          "name": "stdout"
        },
        {
          "output_type": "stream",
          "text": [
            " 18%|█▊        | 439/2500 [00:15<01:10, 29.16it/s, entropy=8.353343, kl=1.3240478]"
          ],
          "name": "stderr"
        },
        {
          "output_type": "stream",
          "text": [
            "Validation loss decreased (0.156060 --> 0.125152).  Saving model ...\n",
            "EarlyStopping counter: 1 out of 500\n",
            "Validation loss decreased (0.125152 --> 0.115581).  Saving model ...\n",
            "EarlyStopping counter: 1 out of 500\n",
            "EarlyStopping counter: 2 out of 500\n",
            "EarlyStopping counter: 3 out of 500\n"
          ],
          "name": "stdout"
        },
        {
          "output_type": "stream",
          "text": [
            " 18%|█▊        | 445/2500 [00:15<01:11, 28.76it/s, entropy=8.363797, kl=1.6295764]"
          ],
          "name": "stderr"
        },
        {
          "output_type": "stream",
          "text": [
            "EarlyStopping counter: 4 out of 500\n",
            "Validation loss decreased (0.115581 --> 0.048470).  Saving model ...\n",
            "EarlyStopping counter: 1 out of 500\n",
            "Validation loss decreased (0.048470 --> 0.024747).  Saving model ...\n",
            "EarlyStopping counter: 1 out of 500\n",
            "EarlyStopping counter: 2 out of 500\n"
          ],
          "name": "stdout"
        },
        {
          "output_type": "stream",
          "text": [
            " 18%|█▊        | 451/2500 [00:15<01:12, 28.42it/s, entropy=8.374315, kl=1.1627575]"
          ],
          "name": "stderr"
        },
        {
          "output_type": "stream",
          "text": [
            "EarlyStopping counter: 3 out of 500\n",
            "EarlyStopping counter: 4 out of 500\n",
            "EarlyStopping counter: 5 out of 500\n",
            "EarlyStopping counter: 6 out of 500\n",
            "EarlyStopping counter: 7 out of 500\n",
            "EarlyStopping counter: 8 out of 500\n"
          ],
          "name": "stdout"
        },
        {
          "output_type": "stream",
          "text": [
            " 18%|█▊        | 457/2500 [00:15<01:10, 28.81it/s, entropy=8.384901, kl=0.22666064]"
          ],
          "name": "stderr"
        },
        {
          "output_type": "stream",
          "text": [
            "EarlyStopping counter: 9 out of 500\n",
            "EarlyStopping counter: 10 out of 500\n",
            "EarlyStopping counter: 11 out of 500\n",
            "EarlyStopping counter: 12 out of 500\n",
            "EarlyStopping counter: 13 out of 500\n",
            "EarlyStopping counter: 14 out of 500\n"
          ],
          "name": "stdout"
        },
        {
          "output_type": "stream",
          "text": [
            " 19%|█▊        | 463/2500 [00:16<01:10, 29.08it/s, entropy=8.395457, kl=1.1190801]"
          ],
          "name": "stderr"
        },
        {
          "output_type": "stream",
          "text": [
            "EarlyStopping counter: 15 out of 500\n",
            "EarlyStopping counter: 16 out of 500\n",
            "EarlyStopping counter: 17 out of 500\n",
            "EarlyStopping counter: 18 out of 500\n",
            "EarlyStopping counter: 19 out of 500\n",
            "EarlyStopping counter: 20 out of 500\n"
          ],
          "name": "stdout"
        },
        {
          "output_type": "stream",
          "text": [
            " 19%|█▉        | 470/2500 [00:16<01:09, 29.38it/s, entropy=8.407791, kl=0.959705]"
          ],
          "name": "stderr"
        },
        {
          "output_type": "stream",
          "text": [
            "EarlyStopping counter: 21 out of 500\n",
            "EarlyStopping counter: 22 out of 500\n",
            "EarlyStopping counter: 23 out of 500\n",
            "EarlyStopping counter: 24 out of 500\n",
            "EarlyStopping counter: 25 out of 500\n",
            "Validation loss decreased (0.024747 --> 0.017042).  Saving model ...\n",
            "EarlyStopping counter: 1 out of 500\n"
          ],
          "name": "stdout"
        },
        {
          "output_type": "stream",
          "text": [
            " 19%|█▉        | 476/2500 [00:16<01:09, 29.15it/s, entropy=8.418433, kl=0.74616337]"
          ],
          "name": "stderr"
        },
        {
          "output_type": "stream",
          "text": [
            "EarlyStopping counter: 2 out of 500\n",
            "EarlyStopping counter: 3 out of 500\n",
            "EarlyStopping counter: 4 out of 500\n",
            "EarlyStopping counter: 5 out of 500\n",
            "EarlyStopping counter: 6 out of 500\n",
            "EarlyStopping counter: 7 out of 500\n"
          ],
          "name": "stdout"
        },
        {
          "output_type": "stream",
          "text": [
            " 19%|█▉        | 482/2500 [00:16<01:09, 29.25it/s, entropy=8.429084, kl=0.70565104]"
          ],
          "name": "stderr"
        },
        {
          "output_type": "stream",
          "text": [
            "EarlyStopping counter: 8 out of 500\n",
            "EarlyStopping counter: 9 out of 500\n",
            "EarlyStopping counter: 10 out of 500\n",
            "EarlyStopping counter: 11 out of 500\n",
            "EarlyStopping counter: 12 out of 500\n",
            "EarlyStopping counter: 13 out of 500\n"
          ],
          "name": "stdout"
        },
        {
          "output_type": "stream",
          "text": [
            " 20%|█▉        | 488/2500 [00:17<01:08, 29.32it/s, entropy=8.439768, kl=0.0054027494]"
          ],
          "name": "stderr"
        },
        {
          "output_type": "stream",
          "text": [
            "EarlyStopping counter: 14 out of 500\n",
            "EarlyStopping counter: 15 out of 500\n",
            "EarlyStopping counter: 16 out of 500\n",
            "Validation loss decreased (0.017042 --> 0.008994).  Saving model ...\n",
            "EarlyStopping counter: 1 out of 500\n",
            "Validation loss decreased (0.008994 --> 0.005403).  Saving model ...\n"
          ],
          "name": "stdout"
        },
        {
          "output_type": "stream",
          "text": [
            " 20%|█▉        | 495/2500 [00:17<01:08, 29.32it/s, entropy=8.452253, kl=0.12315087]"
          ],
          "name": "stderr"
        },
        {
          "output_type": "stream",
          "text": [
            "EarlyStopping counter: 1 out of 500\n",
            "EarlyStopping counter: 2 out of 500\n",
            "EarlyStopping counter: 3 out of 500\n",
            "EarlyStopping counter: 4 out of 500\n",
            "EarlyStopping counter: 5 out of 500\n",
            "EarlyStopping counter: 6 out of 500\n",
            "EarlyStopping counter: 7 out of 500\n"
          ],
          "name": "stdout"
        },
        {
          "output_type": "stream",
          "text": [
            " 20%|██        | 501/2500 [00:17<01:08, 29.12it/s, entropy=8.462894, kl=0.2601329]"
          ],
          "name": "stderr"
        },
        {
          "output_type": "stream",
          "text": [
            "EarlyStopping counter: 8 out of 500\n",
            "EarlyStopping counter: 9 out of 500\n",
            "EarlyStopping counter: 10 out of 500\n",
            "EarlyStopping counter: 11 out of 500\n",
            "EarlyStopping counter: 12 out of 500\n",
            "EarlyStopping counter: 13 out of 500\n"
          ],
          "name": "stdout"
        },
        {
          "output_type": "stream",
          "text": [
            " 20%|██        | 507/2500 [00:17<01:09, 28.62it/s, entropy=8.47361, kl=0.2971195]"
          ],
          "name": "stderr"
        },
        {
          "output_type": "stream",
          "text": [
            "EarlyStopping counter: 14 out of 500\n",
            "EarlyStopping counter: 15 out of 500\n",
            "EarlyStopping counter: 16 out of 500\n",
            "EarlyStopping counter: 17 out of 500\n",
            "EarlyStopping counter: 18 out of 500\n",
            "EarlyStopping counter: 19 out of 500\n"
          ],
          "name": "stdout"
        },
        {
          "output_type": "stream",
          "text": [
            " 20%|██        | 510/2500 [00:17<01:09, 28.83it/s, entropy=8.486074, kl=0.3211802]  "
          ],
          "name": "stderr"
        },
        {
          "output_type": "stream",
          "text": [
            "EarlyStopping counter: 20 out of 500\n",
            "EarlyStopping counter: 21 out of 500\n",
            "EarlyStopping counter: 22 out of 500\n",
            "EarlyStopping counter: 23 out of 500\n",
            "EarlyStopping counter: 24 out of 500\n",
            "EarlyStopping counter: 25 out of 500\n",
            "EarlyStopping counter: 26 out of 500\n"
          ],
          "name": "stdout"
        },
        {
          "output_type": "stream",
          "text": [
            " 21%|██        | 520/2500 [00:18<01:08, 29.02it/s, entropy=8.496663, kl=0.0033729274]"
          ],
          "name": "stderr"
        },
        {
          "output_type": "stream",
          "text": [
            "EarlyStopping counter: 27 out of 500\n",
            "EarlyStopping counter: 28 out of 500\n",
            "EarlyStopping counter: 29 out of 500\n",
            "EarlyStopping counter: 30 out of 500\n",
            "EarlyStopping counter: 31 out of 500\n",
            "Validation loss decreased (0.005403 --> 0.003373).  Saving model ...\n"
          ],
          "name": "stdout"
        },
        {
          "output_type": "stream",
          "text": [
            " 21%|██        | 526/2500 [00:18<01:07, 29.33it/s, entropy=8.507325, kl=0.0022486183]"
          ],
          "name": "stderr"
        },
        {
          "output_type": "stream",
          "text": [
            "EarlyStopping counter: 1 out of 500\n",
            "EarlyStopping counter: 2 out of 500\n",
            "EarlyStopping counter: 3 out of 500\n",
            "EarlyStopping counter: 4 out of 500\n",
            "Validation loss decreased (0.003373 --> 0.003373).  Saving model ...\n",
            "Validation loss decreased (0.003373 --> 0.002249).  Saving model ...\n",
            "EarlyStopping counter: 1 out of 500\n"
          ],
          "name": "stdout"
        },
        {
          "output_type": "stream",
          "text": [
            " 21%|██▏       | 532/2500 [00:18<01:06, 29.38it/s, entropy=8.519812, kl=0.79810745]"
          ],
          "name": "stderr"
        },
        {
          "output_type": "stream",
          "text": [
            "EarlyStopping counter: 2 out of 500\n",
            "Validation loss decreased (0.002249 --> 0.000000).  Saving model ...\n",
            "EarlyStopping counter: 1 out of 500\n",
            "EarlyStopping counter: 2 out of 500\n",
            "EarlyStopping counter: 3 out of 500\n",
            "EarlyStopping counter: 4 out of 500\n"
          ],
          "name": "stdout"
        },
        {
          "output_type": "stream",
          "text": [
            " 22%|██▏       | 538/2500 [00:18<01:07, 28.89it/s, entropy=8.530471, kl=0.5303037] "
          ],
          "name": "stderr"
        },
        {
          "output_type": "stream",
          "text": [
            "EarlyStopping counter: 5 out of 500\n",
            "EarlyStopping counter: 6 out of 500\n",
            "EarlyStopping counter: 7 out of 500\n",
            "EarlyStopping counter: 8 out of 500\n",
            "EarlyStopping counter: 9 out of 500\n",
            "EarlyStopping counter: 10 out of 500\n"
          ],
          "name": "stdout"
        },
        {
          "output_type": "stream",
          "text": [
            " 22%|██▏       | 545/2500 [00:18<01:06, 29.43it/s, entropy=8.541158, kl=0.023410257]"
          ],
          "name": "stderr"
        },
        {
          "output_type": "stream",
          "text": [
            "EarlyStopping counter: 11 out of 500\n",
            "EarlyStopping counter: 12 out of 500\n",
            "EarlyStopping counter: 13 out of 500\n",
            "EarlyStopping counter: 14 out of 500\n",
            "EarlyStopping counter: 15 out of 500\n",
            "EarlyStopping counter: 16 out of 500\n",
            "EarlyStopping counter: 17 out of 500\n"
          ],
          "name": "stdout"
        },
        {
          "output_type": "stream",
          "text": [
            " 22%|██▏       | 551/2500 [00:19<01:07, 29.02it/s, entropy=8.553652, kl=0.46324998]"
          ],
          "name": "stderr"
        },
        {
          "output_type": "stream",
          "text": [
            "EarlyStopping counter: 18 out of 500\n",
            "EarlyStopping counter: 19 out of 500\n",
            "EarlyStopping counter: 20 out of 500\n",
            "EarlyStopping counter: 21 out of 500\n",
            "EarlyStopping counter: 22 out of 500\n",
            "EarlyStopping counter: 23 out of 500\n"
          ],
          "name": "stdout"
        },
        {
          "output_type": "stream",
          "text": [
            " 22%|██▏       | 557/2500 [00:19<01:08, 28.49it/s, entropy=8.564344, kl=0.42815405]  "
          ],
          "name": "stderr"
        },
        {
          "output_type": "stream",
          "text": [
            "EarlyStopping counter: 24 out of 500\n",
            "EarlyStopping counter: 25 out of 500\n",
            "EarlyStopping counter: 26 out of 500\n",
            "EarlyStopping counter: 27 out of 500\n",
            "EarlyStopping counter: 28 out of 500\n",
            "EarlyStopping counter: 29 out of 500\n"
          ],
          "name": "stdout"
        },
        {
          "output_type": "stream",
          "text": [
            " 23%|██▎       | 563/2500 [00:19<01:10, 27.42it/s, entropy=8.575076, kl=0.18473154]"
          ],
          "name": "stderr"
        },
        {
          "output_type": "stream",
          "text": [
            "EarlyStopping counter: 30 out of 500\n",
            "EarlyStopping counter: 31 out of 500\n",
            "EarlyStopping counter: 32 out of 500\n",
            "EarlyStopping counter: 33 out of 500\n",
            "EarlyStopping counter: 34 out of 500\n",
            "EarlyStopping counter: 35 out of 500\n"
          ],
          "name": "stdout"
        },
        {
          "output_type": "stream",
          "text": [
            " 23%|██▎       | 570/2500 [00:19<01:07, 28.62it/s, entropy=8.585842, kl=0.57004625]"
          ],
          "name": "stderr"
        },
        {
          "output_type": "stream",
          "text": [
            "EarlyStopping counter: 36 out of 500\n",
            "EarlyStopping counter: 37 out of 500\n",
            "EarlyStopping counter: 38 out of 500\n",
            "EarlyStopping counter: 39 out of 500\n",
            "EarlyStopping counter: 40 out of 500\n",
            "EarlyStopping counter: 41 out of 500\n",
            "EarlyStopping counter: 42 out of 500\n"
          ],
          "name": "stdout"
        },
        {
          "output_type": "stream",
          "text": [
            " 23%|██▎       | 576/2500 [00:20<01:06, 28.79it/s, entropy=8.598429, kl=0.09890206] "
          ],
          "name": "stderr"
        },
        {
          "output_type": "stream",
          "text": [
            "EarlyStopping counter: 43 out of 500\n",
            "Validation loss decreased (0.000000 --> 0.000000).  Saving model ...\n",
            "EarlyStopping counter: 1 out of 500\n",
            "EarlyStopping counter: 2 out of 500\n",
            "EarlyStopping counter: 3 out of 500\n",
            "EarlyStopping counter: 4 out of 500\n"
          ],
          "name": "stdout"
        },
        {
          "output_type": "stream",
          "text": [
            " 23%|██▎       | 582/2500 [00:20<01:06, 29.04it/s, entropy=8.609219, kl=0.0011243091]"
          ],
          "name": "stderr"
        },
        {
          "output_type": "stream",
          "text": [
            "EarlyStopping counter: 5 out of 500\n",
            "EarlyStopping counter: 6 out of 500\n",
            "EarlyStopping counter: 7 out of 500\n",
            "EarlyStopping counter: 8 out of 500\n",
            "EarlyStopping counter: 9 out of 500\n",
            "EarlyStopping counter: 10 out of 500\n"
          ],
          "name": "stdout"
        },
        {
          "output_type": "stream",
          "text": [
            " 24%|██▎       | 588/2500 [00:20<01:06, 28.88it/s, entropy=8.620046, kl=0.3955521] "
          ],
          "name": "stderr"
        },
        {
          "output_type": "stream",
          "text": [
            "EarlyStopping counter: 11 out of 500\n",
            "EarlyStopping counter: 12 out of 500\n",
            "EarlyStopping counter: 13 out of 500\n",
            "EarlyStopping counter: 14 out of 500\n",
            "EarlyStopping counter: 15 out of 500\n",
            "EarlyStopping counter: 16 out of 500\n"
          ],
          "name": "stdout"
        },
        {
          "output_type": "stream",
          "text": [
            " 24%|██▍       | 594/2500 [00:20<01:06, 28.82it/s, entropy=8.630893, kl=0.060529053]"
          ],
          "name": "stderr"
        },
        {
          "output_type": "stream",
          "text": [
            "EarlyStopping counter: 17 out of 500\n",
            "EarlyStopping counter: 18 out of 500\n",
            "EarlyStopping counter: 19 out of 500\n",
            "EarlyStopping counter: 20 out of 500\n",
            "EarlyStopping counter: 21 out of 500\n",
            "EarlyStopping counter: 22 out of 500\n"
          ],
          "name": "stdout"
        },
        {
          "output_type": "stream",
          "text": [
            " 24%|██▍       | 600/2500 [00:20<01:06, 28.53it/s, entropy=8.641716, kl=0.15041924]  "
          ],
          "name": "stderr"
        },
        {
          "output_type": "stream",
          "text": [
            "Validation loss decreased (0.000000 --> 0.000000).  Saving model ...\n",
            "EarlyStopping counter: 1 out of 500\n",
            "EarlyStopping counter: 2 out of 500\n",
            "EarlyStopping counter: 3 out of 500\n",
            "EarlyStopping counter: 4 out of 500\n",
            "EarlyStopping counter: 5 out of 500\n"
          ],
          "name": "stdout"
        },
        {
          "output_type": "stream",
          "text": [
            " 24%|██▍       | 606/2500 [00:21<01:09, 27.35it/s, entropy=8.652557, kl=0.06086286]  "
          ],
          "name": "stderr"
        },
        {
          "output_type": "stream",
          "text": [
            "EarlyStopping counter: 6 out of 500\n",
            "EarlyStopping counter: 7 out of 500\n",
            "EarlyStopping counter: 8 out of 500\n",
            "EarlyStopping counter: 9 out of 500\n",
            "EarlyStopping counter: 10 out of 500\n",
            "EarlyStopping counter: 11 out of 500\n"
          ],
          "name": "stdout"
        },
        {
          "output_type": "stream",
          "text": [
            " 24%|██▍       | 612/2500 [00:21<01:07, 27.83it/s, entropy=8.665214, kl=0.048746116]"
          ],
          "name": "stderr"
        },
        {
          "output_type": "stream",
          "text": [
            "EarlyStopping counter: 12 out of 500\n",
            "EarlyStopping counter: 13 out of 500\n",
            "EarlyStopping counter: 14 out of 500\n",
            "EarlyStopping counter: 15 out of 500\n",
            "EarlyStopping counter: 16 out of 500\n",
            "EarlyStopping counter: 17 out of 500\n",
            "EarlyStopping counter: 18 out of 500\n"
          ],
          "name": "stdout"
        },
        {
          "output_type": "stream",
          "text": [
            " 25%|██▍       | 619/2500 [00:21<01:04, 28.97it/s, entropy=8.676063, kl=0.27361608]"
          ],
          "name": "stderr"
        },
        {
          "output_type": "stream",
          "text": [
            "EarlyStopping counter: 19 out of 500\n",
            "EarlyStopping counter: 20 out of 500\n",
            "EarlyStopping counter: 21 out of 500\n",
            "EarlyStopping counter: 22 out of 500\n",
            "EarlyStopping counter: 23 out of 500\n",
            "EarlyStopping counter: 24 out of 500\n"
          ],
          "name": "stdout"
        },
        {
          "output_type": "stream",
          "text": [
            " 25%|██▌       | 626/2500 [00:21<01:04, 29.09it/s, entropy=8.688694, kl=0.0044972366]"
          ],
          "name": "stderr"
        },
        {
          "output_type": "stream",
          "text": [
            "EarlyStopping counter: 25 out of 500\n",
            "EarlyStopping counter: 26 out of 500\n",
            "EarlyStopping counter: 27 out of 500\n",
            "EarlyStopping counter: 28 out of 500\n",
            "EarlyStopping counter: 29 out of 500\n",
            "EarlyStopping counter: 30 out of 500\n",
            "EarlyStopping counter: 31 out of 500\n"
          ],
          "name": "stdout"
        },
        {
          "output_type": "stream",
          "text": [
            " 25%|██▌       | 632/2500 [00:22<01:03, 29.19it/s, entropy=8.69953, kl=0.044997387]"
          ],
          "name": "stderr"
        },
        {
          "output_type": "stream",
          "text": [
            "Validation loss decreased (0.000000 --> 0.000000).  Saving model ...\n",
            "EarlyStopping counter: 1 out of 500\n",
            "EarlyStopping counter: 2 out of 500\n",
            "EarlyStopping counter: 3 out of 500\n",
            "EarlyStopping counter: 4 out of 500\n",
            "EarlyStopping counter: 5 out of 500\n"
          ],
          "name": "stdout"
        },
        {
          "output_type": "stream",
          "text": [
            " 26%|██▌       | 638/2500 [00:22<01:04, 29.04it/s, entropy=8.710381, kl=0.2728116]"
          ],
          "name": "stderr"
        },
        {
          "output_type": "stream",
          "text": [
            "Validation loss decreased (0.000000 --> 0.000000).  Saving model ...\n",
            "EarlyStopping counter: 1 out of 500\n",
            "EarlyStopping counter: 2 out of 500\n",
            "EarlyStopping counter: 3 out of 500\n",
            "EarlyStopping counter: 4 out of 500\n",
            "EarlyStopping counter: 5 out of 500\n"
          ],
          "name": "stdout"
        },
        {
          "output_type": "stream",
          "text": [
            " 26%|██▌       | 644/2500 [00:22<01:06, 27.76it/s, entropy=8.721201, kl=0.5049752]"
          ],
          "name": "stderr"
        },
        {
          "output_type": "stream",
          "text": [
            "EarlyStopping counter: 6 out of 500\n",
            "EarlyStopping counter: 7 out of 500\n",
            "EarlyStopping counter: 8 out of 500\n",
            "Validation loss decreased (0.000000 --> 0.000000).  Saving model ...\n",
            "Validation loss decreased (0.000000 --> 0.000000).  Saving model ...\n",
            "EarlyStopping counter: 1 out of 500\n"
          ],
          "name": "stdout"
        },
        {
          "output_type": "stream",
          "text": [
            " 26%|██▌       | 650/2500 [00:22<01:05, 28.20it/s, entropy=8.732031, kl=0.5262729]  "
          ],
          "name": "stderr"
        },
        {
          "output_type": "stream",
          "text": [
            "EarlyStopping counter: 2 out of 500\n",
            "EarlyStopping counter: 3 out of 500\n",
            "EarlyStopping counter: 4 out of 500\n",
            "EarlyStopping counter: 5 out of 500\n",
            "EarlyStopping counter: 6 out of 500\n",
            "EarlyStopping counter: 7 out of 500\n"
          ],
          "name": "stdout"
        },
        {
          "output_type": "stream",
          "text": [
            " 26%|██▋       | 657/2500 [00:22<01:03, 28.94it/s, entropy=8.7447, kl=0.0]       "
          ],
          "name": "stderr"
        },
        {
          "output_type": "stream",
          "text": [
            "Validation loss decreased (0.000000 --> 0.000000).  Saving model ...\n",
            "EarlyStopping counter: 1 out of 500\n",
            "EarlyStopping counter: 2 out of 500\n",
            "EarlyStopping counter: 3 out of 500\n",
            "EarlyStopping counter: 4 out of 500\n",
            "EarlyStopping counter: 5 out of 500\n",
            "Validation loss decreased (0.000000 --> 0.000000).  Saving model ...\n"
          ],
          "name": "stdout"
        },
        {
          "output_type": "stream",
          "text": [
            " 27%|██▋       | 663/2500 [00:23<01:04, 28.40it/s, entropy=8.755598, kl=7.179011e-06]"
          ],
          "name": "stderr"
        },
        {
          "output_type": "stream",
          "text": [
            "EarlyStopping counter: 1 out of 500\n",
            "EarlyStopping counter: 2 out of 500\n",
            "EarlyStopping counter: 3 out of 500\n",
            "EarlyStopping counter: 4 out of 500\n",
            "Validation loss decreased (0.000000 --> 0.000000).  Saving model ...\n",
            "EarlyStopping counter: 1 out of 500\n"
          ],
          "name": "stdout"
        },
        {
          "output_type": "stream",
          "text": [
            " 27%|██▋       | 669/2500 [00:23<01:04, 28.28it/s, entropy=8.766514, kl=0.26148397] "
          ],
          "name": "stderr"
        },
        {
          "output_type": "stream",
          "text": [
            "EarlyStopping counter: 2 out of 500\n",
            "EarlyStopping counter: 3 out of 500\n",
            "EarlyStopping counter: 4 out of 500\n",
            "EarlyStopping counter: 5 out of 500\n",
            "EarlyStopping counter: 6 out of 500\n",
            "EarlyStopping counter: 7 out of 500\n"
          ],
          "name": "stdout"
        },
        {
          "output_type": "stream",
          "text": [
            " 27%|██▋       | 676/2500 [00:23<01:02, 29.06it/s, entropy=8.779297, kl=0.0022486183]"
          ],
          "name": "stderr"
        },
        {
          "output_type": "stream",
          "text": [
            "EarlyStopping counter: 8 out of 500\n",
            "EarlyStopping counter: 9 out of 500\n",
            "EarlyStopping counter: 10 out of 500\n",
            "EarlyStopping counter: 11 out of 500\n",
            "EarlyStopping counter: 12 out of 500\n",
            "Validation loss decreased (0.000000 --> 0.000000).  Saving model ...\n",
            "EarlyStopping counter: 1 out of 500\n"
          ],
          "name": "stdout"
        },
        {
          "output_type": "stream",
          "text": [
            " 27%|██▋       | 682/2500 [00:23<01:03, 28.56it/s, entropy=8.790252, kl=0.2624824] "
          ],
          "name": "stderr"
        },
        {
          "output_type": "stream",
          "text": [
            "EarlyStopping counter: 2 out of 500\n",
            "EarlyStopping counter: 3 out of 500\n",
            "EarlyStopping counter: 4 out of 500\n",
            "EarlyStopping counter: 5 out of 500\n",
            "EarlyStopping counter: 6 out of 500\n",
            "EarlyStopping counter: 7 out of 500\n"
          ],
          "name": "stdout"
        },
        {
          "output_type": "stream",
          "text": [
            " 28%|██▊       | 689/2500 [00:24<01:02, 29.01it/s, entropy=8.801181, kl=0.007870164]"
          ],
          "name": "stderr"
        },
        {
          "output_type": "stream",
          "text": [
            "EarlyStopping counter: 8 out of 500\n",
            "EarlyStopping counter: 9 out of 500\n",
            "EarlyStopping counter: 10 out of 500\n",
            "EarlyStopping counter: 11 out of 500\n",
            "Validation loss decreased (0.000000 --> 0.000000).  Saving model ...\n",
            "EarlyStopping counter: 1 out of 500\n"
          ],
          "name": "stdout"
        },
        {
          "output_type": "stream",
          "text": [
            " 28%|██▊       | 695/2500 [00:24<01:02, 28.81it/s, entropy=8.812118, kl=0.18587711]"
          ],
          "name": "stderr"
        },
        {
          "output_type": "stream",
          "text": [
            "EarlyStopping counter: 2 out of 500\n",
            "EarlyStopping counter: 3 out of 500\n",
            "EarlyStopping counter: 4 out of 500\n",
            "EarlyStopping counter: 5 out of 500\n",
            "EarlyStopping counter: 6 out of 500\n",
            "EarlyStopping counter: 7 out of 500\n"
          ],
          "name": "stdout"
        },
        {
          "output_type": "stream",
          "text": [
            " 28%|██▊       | 701/2500 [00:24<01:01, 29.28it/s, entropy=8.8248825, kl=0.034794524]"
          ],
          "name": "stderr"
        },
        {
          "output_type": "stream",
          "text": [
            "EarlyStopping counter: 8 out of 500\n",
            "EarlyStopping counter: 9 out of 500\n",
            "EarlyStopping counter: 10 out of 500\n",
            "EarlyStopping counter: 11 out of 500\n",
            "Validation loss decreased (0.000000 --> 0.000000).  Saving model ...\n",
            "EarlyStopping counter: 1 out of 500\n",
            "EarlyStopping counter: 2 out of 500\n"
          ],
          "name": "stdout"
        },
        {
          "output_type": "stream",
          "text": [
            " 28%|██▊       | 708/2500 [00:24<01:00, 29.51it/s, entropy=8.835845, kl=0.40329802]"
          ],
          "name": "stderr"
        },
        {
          "output_type": "stream",
          "text": [
            "EarlyStopping counter: 3 out of 500\n",
            "Validation loss decreased (0.000000 --> 0.000000).  Saving model ...\n",
            "Validation loss decreased (0.000000 --> 0.000000).  Saving model ...\n",
            "EarlyStopping counter: 1 out of 500\n",
            "EarlyStopping counter: 2 out of 500\n",
            "EarlyStopping counter: 3 out of 500\n"
          ],
          "name": "stdout"
        },
        {
          "output_type": "stream",
          "text": [
            " 29%|██▊       | 714/2500 [00:24<01:01, 29.15it/s, entropy=8.846801, kl=0.0]"
          ],
          "name": "stderr"
        },
        {
          "output_type": "stream",
          "text": [
            "Validation loss decreased (0.000000 --> 0.000000).  Saving model ...\n",
            "EarlyStopping counter: 1 out of 500\n",
            "EarlyStopping counter: 2 out of 500\n",
            "EarlyStopping counter: 3 out of 500\n",
            "EarlyStopping counter: 4 out of 500\n",
            "Validation loss decreased (0.000000 --> 0.000000).  Saving model ...\n"
          ],
          "name": "stdout"
        },
        {
          "output_type": "stream",
          "text": [
            " 29%|██▉       | 721/2500 [00:25<01:00, 29.25it/s, entropy=8.859569, kl=0.0033729274]"
          ],
          "name": "stderr"
        },
        {
          "output_type": "stream",
          "text": [
            "EarlyStopping counter: 1 out of 500\n",
            "EarlyStopping counter: 2 out of 500\n",
            "Validation loss decreased (0.000000 --> 0.000000).  Saving model ...\n",
            "Validation loss decreased (0.000000 --> 0.000000).  Saving model ...\n",
            "Validation loss decreased (0.000000 --> 0.000000).  Saving model ...\n",
            "Validation loss decreased (0.000000 --> 0.000000).  Saving model ...\n",
            "EarlyStopping counter: 1 out of 500\n"
          ],
          "name": "stdout"
        },
        {
          "output_type": "stream",
          "text": [
            " 29%|██▉       | 727/2500 [00:25<01:01, 28.72it/s, entropy=8.87051, kl=0.6397618]"
          ],
          "name": "stderr"
        },
        {
          "output_type": "stream",
          "text": [
            "Validation loss decreased (0.000000 --> 0.000000).  Saving model ...\n",
            "EarlyStopping counter: 1 out of 500\n",
            "EarlyStopping counter: 2 out of 500\n",
            "EarlyStopping counter: 3 out of 500\n",
            "EarlyStopping counter: 4 out of 500\n",
            "EarlyStopping counter: 5 out of 500\n"
          ],
          "name": "stdout"
        },
        {
          "output_type": "stream",
          "text": [
            " 29%|██▉       | 733/2500 [00:25<01:00, 29.21it/s, entropy=8.883205, kl=0.47592622] "
          ],
          "name": "stderr"
        },
        {
          "output_type": "stream",
          "text": [
            "EarlyStopping counter: 6 out of 500\n",
            "Validation loss decreased (0.000000 --> 0.000000).  Saving model ...\n",
            "EarlyStopping counter: 1 out of 500\n",
            "EarlyStopping counter: 2 out of 500\n",
            "Validation loss decreased (0.000000 --> 0.000000).  Saving model ...\n",
            "EarlyStopping counter: 1 out of 500\n",
            "EarlyStopping counter: 2 out of 500\n"
          ],
          "name": "stdout"
        },
        {
          "output_type": "stream",
          "text": [
            " 30%|██▉       | 739/2500 [00:25<01:01, 28.71it/s, entropy=8.894145, kl=0.14211379]"
          ],
          "name": "stderr"
        },
        {
          "output_type": "stream",
          "text": [
            "EarlyStopping counter: 3 out of 500\n",
            "Validation loss decreased (0.000000 --> 0.000000).  Saving model ...\n",
            "Validation loss decreased (0.000000 --> 0.000000).  Saving model ...\n",
            "Validation loss decreased (0.000000 --> 0.000000).  Saving model ...\n",
            "Validation loss decreased (0.000000 --> 0.000000).  Saving model ...\n",
            "EarlyStopping counter: 1 out of 500\n"
          ],
          "name": "stdout"
        },
        {
          "output_type": "stream",
          "text": [
            " 30%|██▉       | 746/2500 [00:25<01:00, 29.20it/s, entropy=8.905107, kl=0.07443572]"
          ],
          "name": "stderr"
        },
        {
          "output_type": "stream",
          "text": [
            "EarlyStopping counter: 2 out of 500\n",
            "EarlyStopping counter: 3 out of 500\n",
            "EarlyStopping counter: 4 out of 500\n",
            "EarlyStopping counter: 5 out of 500\n",
            "EarlyStopping counter: 6 out of 500\n",
            "EarlyStopping counter: 7 out of 500\n"
          ],
          "name": "stdout"
        },
        {
          "output_type": "stream",
          "text": [
            " 30%|███       | 752/2500 [00:26<01:00, 29.09it/s, entropy=8.916098, kl=0.20076987]"
          ],
          "name": "stderr"
        },
        {
          "output_type": "stream",
          "text": [
            "Validation loss decreased (0.000000 --> 0.000000).  Saving model ...\n",
            "Validation loss decreased (0.000000 --> 0.000000).  Saving model ...\n",
            "EarlyStopping counter: 1 out of 500\n",
            "EarlyStopping counter: 2 out of 500\n",
            "EarlyStopping counter: 3 out of 500\n",
            "EarlyStopping counter: 4 out of 500\n"
          ],
          "name": "stdout"
        },
        {
          "output_type": "stream",
          "text": [
            " 30%|███       | 758/2500 [00:26<01:00, 28.94it/s, entropy=8.92709, kl=0.0]"
          ],
          "name": "stderr"
        },
        {
          "output_type": "stream",
          "text": [
            "Validation loss decreased (0.000000 --> 0.000000).  Saving model ...\n",
            "EarlyStopping counter: 1 out of 500\n",
            "EarlyStopping counter: 2 out of 500\n",
            "EarlyStopping counter: 3 out of 500\n",
            "Validation loss decreased (0.000000 --> 0.000000).  Saving model ...\n",
            "Validation loss decreased (0.000000 --> 0.000000).  Saving model ...\n"
          ],
          "name": "stdout"
        },
        {
          "output_type": "stream",
          "text": [
            " 31%|███       | 764/2500 [00:26<01:00, 28.85it/s, entropy=8.938084, kl=0.0]"
          ],
          "name": "stderr"
        },
        {
          "output_type": "stream",
          "text": [
            "EarlyStopping counter: 1 out of 500\n",
            "EarlyStopping counter: 2 out of 500\n",
            "EarlyStopping counter: 3 out of 500\n",
            "EarlyStopping counter: 4 out of 500\n",
            "Validation loss decreased (0.000000 --> 0.000000).  Saving model ...\n",
            "Validation loss decreased (0.000000 --> 0.000000).  Saving model ...\n"
          ],
          "name": "stdout"
        },
        {
          "output_type": "stream",
          "text": [
            " 31%|███       | 770/2500 [00:26<01:03, 27.22it/s, entropy=8.949085, kl=0.2755119]"
          ],
          "name": "stderr"
        },
        {
          "output_type": "stream",
          "text": [
            "EarlyStopping counter: 1 out of 500\n",
            "Validation loss decreased (0.000000 --> 0.000000).  Saving model ...\n",
            "EarlyStopping counter: 1 out of 500\n",
            "EarlyStopping counter: 2 out of 500\n",
            "EarlyStopping counter: 3 out of 500\n",
            "EarlyStopping counter: 4 out of 500\n"
          ],
          "name": "stdout"
        },
        {
          "output_type": "stream",
          "text": [
            " 31%|███       | 776/2500 [00:27<01:01, 27.94it/s, entropy=8.960081, kl=0.01773632]"
          ],
          "name": "stderr"
        },
        {
          "output_type": "stream",
          "text": [
            "EarlyStopping counter: 5 out of 500\n",
            "EarlyStopping counter: 6 out of 500\n",
            "Validation loss decreased (0.000000 --> 0.000000).  Saving model ...\n",
            "EarlyStopping counter: 1 out of 500\n",
            "EarlyStopping counter: 2 out of 500\n",
            "EarlyStopping counter: 3 out of 500\n"
          ],
          "name": "stdout"
        },
        {
          "output_type": "stream",
          "text": [
            " 31%|███▏      | 782/2500 [00:27<01:00, 28.23it/s, entropy=8.971043, kl=0.19033422]"
          ],
          "name": "stderr"
        },
        {
          "output_type": "stream",
          "text": [
            "EarlyStopping counter: 4 out of 500\n",
            "EarlyStopping counter: 5 out of 500\n",
            "EarlyStopping counter: 6 out of 500\n",
            "EarlyStopping counter: 7 out of 500\n",
            "Validation loss decreased (0.000000 --> 0.000000).  Saving model ...\n",
            "EarlyStopping counter: 1 out of 500\n"
          ],
          "name": "stdout"
        },
        {
          "output_type": "stream",
          "text": [
            " 31%|███▏      | 785/2500 [00:27<01:00, 28.16it/s, entropy=8.982049, kl=0.0]        "
          ],
          "name": "stderr"
        },
        {
          "output_type": "stream",
          "text": [
            "EarlyStopping counter: 2 out of 500\n",
            "Validation loss decreased (0.000000 --> 0.000000).  Saving model ...\n",
            "Validation loss decreased (0.000000 --> 0.000000).  Saving model ...\n",
            "EarlyStopping counter: 1 out of 500\n",
            "EarlyStopping counter: 2 out of 500\n",
            "Validation loss decreased (0.000000 --> 0.000000).  Saving model ...\n"
          ],
          "name": "stdout"
        },
        {
          "output_type": "stream",
          "text": [
            " 32%|███▏      | 793/2500 [00:27<00:58, 29.09it/s, entropy=8.993071, kl=0.0]       "
          ],
          "name": "stderr"
        },
        {
          "output_type": "stream",
          "text": [
            "EarlyStopping counter: 1 out of 500\n",
            "Validation loss decreased (0.000000 --> 0.000000).  Saving model ...\n",
            "EarlyStopping counter: 1 out of 500\n",
            "Validation loss decreased (0.000000 --> 0.000000).  Saving model ...\n",
            "EarlyStopping counter: 1 out of 500\n",
            "Validation loss decreased (0.000000 --> 0.000000).  Saving model ...\n"
          ],
          "name": "stdout"
        },
        {
          "output_type": "stream",
          "text": [
            " 32%|███▏      | 799/2500 [00:27<00:59, 28.38it/s, entropy=9.004095, kl=0.0]        "
          ],
          "name": "stderr"
        },
        {
          "output_type": "stream",
          "text": [
            "Validation loss decreased (0.000000 --> 0.000000).  Saving model ...\n",
            "Validation loss decreased (0.000000 --> 0.000000).  Saving model ...\n",
            "Validation loss decreased (0.000000 --> 0.000000).  Saving model ...\n",
            "Validation loss decreased (0.000000 --> 0.000000).  Saving model ...\n",
            "EarlyStopping counter: 1 out of 500\n",
            "Validation loss decreased (0.000000 --> 0.000000).  Saving model ...\n"
          ],
          "name": "stdout"
        },
        {
          "output_type": "stream",
          "text": [
            " 32%|███▏      | 805/2500 [00:28<01:02, 27.30it/s, entropy=9.015186, kl=0.0044972366]"
          ],
          "name": "stderr"
        },
        {
          "output_type": "stream",
          "text": [
            "Validation loss decreased (0.000000 --> 0.000000).  Saving model ...\n",
            "Validation loss decreased (0.000000 --> 0.000000).  Saving model ...\n",
            "EarlyStopping counter: 1 out of 500\n",
            "EarlyStopping counter: 2 out of 500\n",
            "EarlyStopping counter: 3 out of 500\n",
            "EarlyStopping counter: 4 out of 500\n"
          ],
          "name": "stdout"
        },
        {
          "output_type": "stream",
          "text": [
            " 32%|███▏      | 811/2500 [00:28<01:01, 27.41it/s, entropy=9.026297, kl=0.0] "
          ],
          "name": "stderr"
        },
        {
          "output_type": "stream",
          "text": [
            "Validation loss decreased (0.000000 --> 0.000000).  Saving model ...\n",
            "Validation loss decreased (0.000000 --> 0.000000).  Saving model ...\n",
            "EarlyStopping counter: 1 out of 500\n",
            "EarlyStopping counter: 2 out of 500\n",
            "Validation loss decreased (0.000000 --> 0.000000).  Saving model ...\n",
            "Validation loss decreased (0.000000 --> 0.000000).  Saving model ...\n"
          ],
          "name": "stdout"
        },
        {
          "output_type": "stream",
          "text": [
            " 33%|███▎      | 817/2500 [00:28<01:01, 27.45it/s, entropy=9.037395, kl=0.0]      "
          ],
          "name": "stderr"
        },
        {
          "output_type": "stream",
          "text": [
            "EarlyStopping counter: 1 out of 500\n",
            "EarlyStopping counter: 2 out of 500\n",
            "EarlyStopping counter: 3 out of 500\n",
            "EarlyStopping counter: 4 out of 500\n",
            "EarlyStopping counter: 5 out of 500\n",
            "Validation loss decreased (0.000000 --> 0.000000).  Saving model ...\n"
          ],
          "name": "stdout"
        },
        {
          "output_type": "stream",
          "text": [
            " 33%|███▎      | 823/2500 [00:28<00:59, 28.27it/s, entropy=9.0484495, kl=0.0]     "
          ],
          "name": "stderr"
        },
        {
          "output_type": "stream",
          "text": [
            "EarlyStopping counter: 1 out of 500\n",
            "Validation loss decreased (0.000000 --> 0.000000).  Saving model ...\n",
            "EarlyStopping counter: 1 out of 500\n",
            "Validation loss decreased (0.000000 --> 0.000000).  Saving model ...\n",
            "EarlyStopping counter: 1 out of 500\n",
            "Validation loss decreased (0.000000 --> 0.000000).  Saving model ...\n"
          ],
          "name": "stdout"
        },
        {
          "output_type": "stream",
          "text": [
            " 33%|███▎      | 829/2500 [00:28<00:58, 28.63it/s, entropy=9.059549, kl=0.048203588]"
          ],
          "name": "stderr"
        },
        {
          "output_type": "stream",
          "text": [
            "EarlyStopping counter: 1 out of 500\n",
            "EarlyStopping counter: 2 out of 500\n",
            "EarlyStopping counter: 3 out of 500\n",
            "EarlyStopping counter: 4 out of 500\n",
            "EarlyStopping counter: 5 out of 500\n",
            "EarlyStopping counter: 6 out of 500\n"
          ],
          "name": "stdout"
        },
        {
          "output_type": "stream",
          "text": [
            " 33%|███▎      | 835/2500 [00:29<00:57, 28.97it/s, entropy=9.072563, kl=0.05956172]"
          ],
          "name": "stderr"
        },
        {
          "output_type": "stream",
          "text": [
            "Validation loss decreased (0.000000 --> 0.000000).  Saving model ...\n",
            "Validation loss decreased (0.000000 --> 0.000000).  Saving model ...\n",
            "Validation loss decreased (0.000000 --> 0.000000).  Saving model ...\n",
            "Validation loss decreased (0.000000 --> 0.000000).  Saving model ...\n",
            "EarlyStopping counter: 1 out of 500\n",
            "Validation loss decreased (0.000000 --> 0.000000).  Saving model ...\n",
            "EarlyStopping counter: 1 out of 500\n"
          ],
          "name": "stdout"
        },
        {
          "output_type": "stream",
          "text": [
            " 34%|███▎      | 841/2500 [00:29<00:57, 28.61it/s, entropy=9.08371, kl=0.0033729274]"
          ],
          "name": "stderr"
        },
        {
          "output_type": "stream",
          "text": [
            "EarlyStopping counter: 2 out of 500\n",
            "EarlyStopping counter: 3 out of 500\n",
            "Validation loss decreased (0.000000 --> 0.000000).  Saving model ...\n",
            "EarlyStopping counter: 1 out of 500\n",
            "EarlyStopping counter: 2 out of 500\n",
            "EarlyStopping counter: 3 out of 500\n"
          ],
          "name": "stdout"
        },
        {
          "output_type": "stream",
          "text": [
            " 34%|███▍      | 847/2500 [00:29<00:57, 28.99it/s, entropy=9.094858, kl=0.0]    "
          ],
          "name": "stderr"
        },
        {
          "output_type": "stream",
          "text": [
            "Validation loss decreased (0.000000 --> 0.000000).  Saving model ...\n",
            "Validation loss decreased (0.000000 --> 0.000000).  Saving model ...\n",
            "Validation loss decreased (0.000000 --> 0.000000).  Saving model ...\n",
            "EarlyStopping counter: 1 out of 500\n",
            "EarlyStopping counter: 2 out of 500\n",
            "Validation loss decreased (0.000000 --> 0.000000).  Saving model ...\n"
          ],
          "name": "stdout"
        },
        {
          "output_type": "stream",
          "text": [
            " 34%|███▍      | 854/2500 [00:29<00:55, 29.44it/s, entropy=9.106009, kl=0.26547512]"
          ],
          "name": "stderr"
        },
        {
          "output_type": "stream",
          "text": [
            "Validation loss decreased (0.000000 --> 0.000000).  Saving model ...\n",
            "EarlyStopping counter: 1 out of 500\n",
            "EarlyStopping counter: 2 out of 500\n",
            "EarlyStopping counter: 3 out of 500\n",
            "Validation loss decreased (0.000000 --> 0.000000).  Saving model ...\n",
            "EarlyStopping counter: 1 out of 500\n"
          ],
          "name": "stdout"
        },
        {
          "output_type": "stream",
          "text": [
            " 34%|███▍      | 860/2500 [00:30<00:56, 28.92it/s, entropy=9.117146, kl=0.0]        "
          ],
          "name": "stderr"
        },
        {
          "output_type": "stream",
          "text": [
            "EarlyStopping counter: 2 out of 500\n",
            "Validation loss decreased (0.000000 --> 0.000000).  Saving model ...\n",
            "EarlyStopping counter: 1 out of 500\n",
            "EarlyStopping counter: 2 out of 500\n",
            "EarlyStopping counter: 3 out of 500\n",
            "Validation loss decreased (0.000000 --> 0.000000).  Saving model ...\n"
          ],
          "name": "stdout"
        },
        {
          "output_type": "stream",
          "text": [
            " 35%|███▍      | 867/2500 [00:30<00:56, 28.69it/s, entropy=9.128288, kl=0.0]"
          ],
          "name": "stderr"
        },
        {
          "output_type": "stream",
          "text": [
            "Validation loss decreased (0.000000 --> 0.000000).  Saving model ...\n",
            "EarlyStopping counter: 1 out of 500\n",
            "EarlyStopping counter: 2 out of 500\n",
            "Validation loss decreased (0.000000 --> 0.000000).  Saving model ...\n",
            "EarlyStopping counter: 1 out of 500\n",
            "Validation loss decreased (0.000000 --> 0.000000).  Saving model ...\n"
          ],
          "name": "stdout"
        },
        {
          "output_type": "stream",
          "text": [
            " 35%|███▍      | 874/2500 [00:30<00:56, 29.02it/s, entropy=9.141316, kl=0.0011239401]"
          ],
          "name": "stderr"
        },
        {
          "output_type": "stream",
          "text": [
            "EarlyStopping counter: 1 out of 500\n",
            "Validation loss decreased (0.000000 --> 0.000000).  Saving model ...\n",
            "EarlyStopping counter: 1 out of 500\n",
            "EarlyStopping counter: 2 out of 500\n",
            "EarlyStopping counter: 3 out of 500\n",
            "EarlyStopping counter: 4 out of 500\n",
            "EarlyStopping counter: 5 out of 500\n"
          ],
          "name": "stdout"
        },
        {
          "output_type": "stream",
          "text": [
            " 35%|███▌      | 878/2500 [00:30<00:55, 29.42it/s, entropy=9.154328, kl=0.0033729274]"
          ],
          "name": "stderr"
        },
        {
          "output_type": "stream",
          "text": [
            "Validation loss decreased (0.000000 --> 0.000000).  Saving model ...\n",
            "Validation loss decreased (0.000000 --> 0.000000).  Saving model ...\n",
            "EarlyStopping counter: 1 out of 500\n",
            "EarlyStopping counter: 2 out of 500\n",
            "EarlyStopping counter: 3 out of 500\n",
            "Validation loss decreased (0.000000 --> 0.000000).  Saving model ...\n",
            "EarlyStopping counter: 1 out of 500\n"
          ],
          "name": "stdout"
        },
        {
          "output_type": "stream",
          "text": [
            " 35%|███▌      | 885/2500 [00:30<00:55, 28.98it/s, entropy=9.165461, kl=0.07415259]"
          ],
          "name": "stderr"
        },
        {
          "output_type": "stream",
          "text": [
            "EarlyStopping counter: 2 out of 500\n",
            "Validation loss decreased (0.000000 --> 0.000000).  Saving model ...\n",
            "EarlyStopping counter: 1 out of 500\n",
            "EarlyStopping counter: 2 out of 500\n",
            "Validation loss decreased (0.000000 --> 0.000000).  Saving model ...\n",
            "EarlyStopping counter: 1 out of 500\n"
          ],
          "name": "stdout"
        },
        {
          "output_type": "stream",
          "text": [
            " 36%|███▌      | 891/2500 [00:31<00:54, 29.31it/s, entropy=9.176617, kl=0.1319989]"
          ],
          "name": "stderr"
        },
        {
          "output_type": "stream",
          "text": [
            "Validation loss decreased (0.000000 --> 0.000000).  Saving model ...\n",
            "EarlyStopping counter: 1 out of 500\n",
            "EarlyStopping counter: 2 out of 500\n",
            "Validation loss decreased (0.000000 --> 0.000000).  Saving model ...\n",
            "EarlyStopping counter: 1 out of 500\n",
            "EarlyStopping counter: 2 out of 500\n"
          ],
          "name": "stdout"
        },
        {
          "output_type": "stream",
          "text": [
            " 36%|███▌      | 897/2500 [00:31<00:57, 27.88it/s, entropy=9.187788, kl=0.0]"
          ],
          "name": "stderr"
        },
        {
          "output_type": "stream",
          "text": [
            "Validation loss decreased (0.000000 --> 0.000000).  Saving model ...\n",
            "EarlyStopping counter: 1 out of 500\n",
            "EarlyStopping counter: 2 out of 500\n",
            "Validation loss decreased (0.000000 --> 0.000000).  Saving model ...\n",
            "Validation loss decreased (0.000000 --> 0.000000).  Saving model ...\n",
            "Validation loss decreased (0.000000 --> 0.000000).  Saving model ...\n"
          ],
          "name": "stdout"
        },
        {
          "output_type": "stream",
          "text": [
            " 36%|███▌      | 904/2500 [00:31<00:55, 28.70it/s, entropy=9.198985, kl=0.0]        "
          ],
          "name": "stderr"
        },
        {
          "output_type": "stream",
          "text": [
            "EarlyStopping counter: 1 out of 500\n",
            "EarlyStopping counter: 2 out of 500\n",
            "Validation loss decreased (0.000000 --> 0.000000).  Saving model ...\n",
            "EarlyStopping counter: 1 out of 500\n",
            "EarlyStopping counter: 2 out of 500\n",
            "Validation loss decreased (0.000000 --> 0.000000).  Saving model ...\n"
          ],
          "name": "stdout"
        },
        {
          "output_type": "stream",
          "text": [
            " 36%|███▋      | 911/2500 [00:31<00:55, 28.89it/s, entropy=9.210199, kl=0.0022486183]"
          ],
          "name": "stderr"
        },
        {
          "output_type": "stream",
          "text": [
            "Validation loss decreased (0.000000 --> 0.000000).  Saving model ...\n",
            "EarlyStopping counter: 1 out of 500\n",
            "EarlyStopping counter: 2 out of 500\n",
            "EarlyStopping counter: 3 out of 500\n",
            "EarlyStopping counter: 4 out of 500\n",
            "EarlyStopping counter: 5 out of 500\n"
          ],
          "name": "stdout"
        },
        {
          "output_type": "stream",
          "text": [
            " 37%|███▋      | 917/2500 [00:31<00:54, 28.83it/s, entropy=9.221437, kl=0.0]"
          ],
          "name": "stderr"
        },
        {
          "output_type": "stream",
          "text": [
            "EarlyStopping counter: 6 out of 500\n",
            "Validation loss decreased (0.000000 --> 0.000000).  Saving model ...\n",
            "EarlyStopping counter: 1 out of 500\n",
            "EarlyStopping counter: 2 out of 500\n",
            "EarlyStopping counter: 3 out of 500\n",
            "Validation loss decreased (0.000000 --> 0.000000).  Saving model ...\n"
          ],
          "name": "stdout"
        },
        {
          "output_type": "stream",
          "text": [
            " 37%|███▋      | 920/2500 [00:32<00:55, 28.69it/s, entropy=9.232692, kl=0.0011243091]"
          ],
          "name": "stderr"
        },
        {
          "output_type": "stream",
          "text": [
            "EarlyStopping counter: 1 out of 500\n",
            "EarlyStopping counter: 2 out of 500\n",
            "Validation loss decreased (0.000000 --> 0.000000).  Saving model ...\n",
            "EarlyStopping counter: 1 out of 500\n",
            "Validation loss decreased (0.000000 --> 0.000000).  Saving model ...\n",
            "EarlyStopping counter: 1 out of 500\n"
          ],
          "name": "stdout"
        },
        {
          "output_type": "stream",
          "text": [
            " 37%|███▋      | 927/2500 [00:32<00:55, 28.33it/s, entropy=9.243952, kl=0.0]        "
          ],
          "name": "stderr"
        },
        {
          "output_type": "stream",
          "text": [
            "EarlyStopping counter: 2 out of 500\n",
            "EarlyStopping counter: 3 out of 500\n",
            "Validation loss decreased (0.000000 --> 0.000000).  Saving model ...\n",
            "EarlyStopping counter: 1 out of 500\n",
            "EarlyStopping counter: 2 out of 500\n",
            "Validation loss decreased (0.000000 --> 0.000000).  Saving model ...\n"
          ],
          "name": "stdout"
        },
        {
          "output_type": "stream",
          "text": [
            " 37%|███▋      | 933/2500 [00:32<00:54, 28.76it/s, entropy=9.255199, kl=0.907926]  "
          ],
          "name": "stderr"
        },
        {
          "output_type": "stream",
          "text": [
            "EarlyStopping counter: 1 out of 500\n",
            "Validation loss decreased (0.000000 --> 0.000000).  Saving model ...\n",
            "Validation loss decreased (0.000000 --> 0.000000).  Saving model ...\n",
            "EarlyStopping counter: 1 out of 500\n",
            "EarlyStopping counter: 2 out of 500\n",
            "EarlyStopping counter: 3 out of 500\n"
          ],
          "name": "stdout"
        },
        {
          "output_type": "stream",
          "text": [
            " 38%|███▊      | 941/2500 [00:32<00:52, 29.58it/s, entropy=9.268337, kl=0.120085165]"
          ],
          "name": "stderr"
        },
        {
          "output_type": "stream",
          "text": [
            "Validation loss decreased (0.000000 --> 0.000000).  Saving model ...\n",
            "Validation loss decreased (0.000000 --> 0.000000).  Saving model ...\n",
            "Validation loss decreased (0.000000 --> 0.000000).  Saving model ...\n",
            "Validation loss decreased (0.000000 --> 0.000000).  Saving model ...\n",
            "Validation loss decreased (0.000000 --> 0.000000).  Saving model ...\n",
            "EarlyStopping counter: 1 out of 500\n",
            "EarlyStopping counter: 2 out of 500\n"
          ],
          "name": "stdout"
        },
        {
          "output_type": "stream",
          "text": [
            " 38%|███▊      | 947/2500 [00:33<00:53, 28.79it/s, entropy=9.279577, kl=0.0]"
          ],
          "name": "stderr"
        },
        {
          "output_type": "stream",
          "text": [
            "Validation loss decreased (0.000000 --> 0.000000).  Saving model ...\n",
            "Validation loss decreased (0.000000 --> 0.000000).  Saving model ...\n",
            "Validation loss decreased (0.000000 --> 0.000000).  Saving model ...\n",
            "Validation loss decreased (0.000000 --> 0.000000).  Saving model ...\n",
            "Validation loss decreased (0.000000 --> 0.000000).  Saving model ...\n",
            "Validation loss decreased (0.000000 --> 0.000000).  Saving model ...\n"
          ],
          "name": "stdout"
        },
        {
          "output_type": "stream",
          "text": [
            " 38%|███▊      | 953/2500 [00:33<00:53, 29.09it/s, entropy=9.290846, kl=0.0]         "
          ],
          "name": "stderr"
        },
        {
          "output_type": "stream",
          "text": [
            "EarlyStopping counter: 1 out of 500\n",
            "EarlyStopping counter: 2 out of 500\n",
            "Validation loss decreased (0.000000 --> 0.000000).  Saving model ...\n",
            "EarlyStopping counter: 1 out of 500\n",
            "EarlyStopping counter: 2 out of 500\n",
            "Validation loss decreased (0.000000 --> 0.000000).  Saving model ...\n"
          ],
          "name": "stdout"
        },
        {
          "output_type": "stream",
          "text": [
            " 38%|███▊      | 960/2500 [00:33<00:52, 29.15it/s, entropy=9.302137, kl=0.0067458553]"
          ],
          "name": "stderr"
        },
        {
          "output_type": "stream",
          "text": [
            "Validation loss decreased (0.000000 --> 0.000000).  Saving model ...\n",
            "Validation loss decreased (0.000000 --> 0.000000).  Saving model ...\n",
            "Validation loss decreased (0.000000 --> 0.000000).  Saving model ...\n",
            "EarlyStopping counter: 1 out of 500\n",
            "EarlyStopping counter: 2 out of 500\n",
            "EarlyStopping counter: 3 out of 500\n"
          ],
          "name": "stdout"
        },
        {
          "output_type": "stream",
          "text": [
            " 39%|███▊      | 967/2500 [00:33<00:51, 29.51it/s, entropy=9.315329, kl=0.0021731057]"
          ],
          "name": "stderr"
        },
        {
          "output_type": "stream",
          "text": [
            "Validation loss decreased (0.000000 --> 0.000000).  Saving model ...\n",
            "EarlyStopping counter: 1 out of 500\n",
            "EarlyStopping counter: 2 out of 500\n",
            "EarlyStopping counter: 3 out of 500\n",
            "Validation loss decreased (0.000000 --> 0.000000).  Saving model ...\n",
            "Validation loss decreased (0.000000 --> 0.000000).  Saving model ...\n",
            "EarlyStopping counter: 1 out of 500\n"
          ],
          "name": "stdout"
        },
        {
          "output_type": "stream",
          "text": [
            " 39%|███▉      | 973/2500 [00:33<00:52, 28.87it/s, entropy=9.326629, kl=3.2992784e-12]"
          ],
          "name": "stderr"
        },
        {
          "output_type": "stream",
          "text": [
            "EarlyStopping counter: 2 out of 500\n",
            "Validation loss decreased (0.000000 --> 0.000000).  Saving model ...\n",
            "EarlyStopping counter: 1 out of 500\n",
            "EarlyStopping counter: 2 out of 500\n",
            "EarlyStopping counter: 3 out of 500\n",
            "EarlyStopping counter: 4 out of 500\n"
          ],
          "name": "stdout"
        },
        {
          "output_type": "stream",
          "text": [
            " 39%|███▉      | 979/2500 [00:34<00:54, 28.11it/s, entropy=9.337928, kl=0.025443984]"
          ],
          "name": "stderr"
        },
        {
          "output_type": "stream",
          "text": [
            "EarlyStopping counter: 5 out of 500\n",
            "EarlyStopping counter: 6 out of 500\n",
            "EarlyStopping counter: 7 out of 500\n",
            "EarlyStopping counter: 8 out of 500\n",
            "EarlyStopping counter: 9 out of 500\n",
            "EarlyStopping counter: 10 out of 500\n"
          ],
          "name": "stdout"
        },
        {
          "output_type": "stream",
          "text": [
            " 39%|███▉      | 985/2500 [00:34<00:54, 27.94it/s, entropy=9.349224, kl=0.101514]"
          ],
          "name": "stderr"
        },
        {
          "output_type": "stream",
          "text": [
            "EarlyStopping counter: 11 out of 500\n",
            "EarlyStopping counter: 12 out of 500\n",
            "Validation loss decreased (0.000000 --> 0.000000).  Saving model ...\n",
            "EarlyStopping counter: 1 out of 500\n",
            "Validation loss decreased (0.000000 --> 0.000000).  Saving model ...\n",
            "EarlyStopping counter: 1 out of 500\n"
          ],
          "name": "stdout"
        },
        {
          "output_type": "stream",
          "text": [
            " 40%|███▉      | 991/2500 [00:34<00:52, 28.51it/s, entropy=9.360525, kl=0.0009176574]"
          ],
          "name": "stderr"
        },
        {
          "output_type": "stream",
          "text": [
            "Validation loss decreased (0.000000 --> 0.000000).  Saving model ...\n",
            "Validation loss decreased (0.000000 --> 0.000000).  Saving model ...\n",
            "Validation loss decreased (0.000000 --> 0.000000).  Saving model ...\n",
            "Validation loss decreased (0.000000 --> 0.000000).  Saving model ...\n",
            "Validation loss decreased (0.000000 --> 0.000000).  Saving model ...\n",
            "EarlyStopping counter: 1 out of 500\n"
          ],
          "name": "stdout"
        },
        {
          "output_type": "stream",
          "text": [
            " 40%|███▉      | 997/2500 [00:34<00:51, 29.14it/s, entropy=9.371843, kl=0.21471421]"
          ],
          "name": "stderr"
        },
        {
          "output_type": "stream",
          "text": [
            "EarlyStopping counter: 2 out of 500\n",
            "EarlyStopping counter: 3 out of 500\n",
            "EarlyStopping counter: 4 out of 500\n",
            "Validation loss decreased (0.000000 --> 0.000000).  Saving model ...\n",
            "Validation loss decreased (0.000000 --> 0.000000).  Saving model ...\n",
            "EarlyStopping counter: 1 out of 500\n"
          ],
          "name": "stdout"
        },
        {
          "output_type": "stream",
          "text": [
            " 40%|████      | 1003/2500 [00:34<00:52, 28.68it/s, entropy=9.383186, kl=0.32774723]"
          ],
          "name": "stderr"
        },
        {
          "output_type": "stream",
          "text": [
            "EarlyStopping counter: 2 out of 500\n",
            "EarlyStopping counter: 3 out of 500\n",
            "EarlyStopping counter: 4 out of 500\n",
            "Validation loss decreased (0.000000 --> 0.000000).  Saving model ...\n",
            "EarlyStopping counter: 1 out of 500\n",
            "EarlyStopping counter: 2 out of 500\n"
          ],
          "name": "stdout"
        },
        {
          "output_type": "stream",
          "text": [
            " 40%|████      | 1009/2500 [00:35<00:52, 28.67it/s, entropy=9.394515, kl=3.667724e-09]"
          ],
          "name": "stderr"
        },
        {
          "output_type": "stream",
          "text": [
            "Validation loss decreased (0.000000 --> 0.000000).  Saving model ...\n",
            "EarlyStopping counter: 1 out of 500\n",
            "Validation loss decreased (0.000000 --> 0.000000).  Saving model ...\n",
            "EarlyStopping counter: 1 out of 500\n",
            "Validation loss decreased (0.000000 --> 0.000000).  Saving model ...\n",
            "EarlyStopping counter: 1 out of 500\n"
          ],
          "name": "stdout"
        },
        {
          "output_type": "stream",
          "text": [
            " 41%|████      | 1015/2500 [00:35<00:52, 28.54it/s, entropy=9.405883, kl=0.0033729274]"
          ],
          "name": "stderr"
        },
        {
          "output_type": "stream",
          "text": [
            "EarlyStopping counter: 2 out of 500\n",
            "Validation loss decreased (0.000000 --> 0.000000).  Saving model ...\n",
            "Validation loss decreased (0.000000 --> 0.000000).  Saving model ...\n",
            "EarlyStopping counter: 1 out of 500\n",
            "Validation loss decreased (0.000000 --> 0.000000).  Saving model ...\n",
            "EarlyStopping counter: 1 out of 500\n"
          ],
          "name": "stdout"
        },
        {
          "output_type": "stream",
          "text": [
            " 41%|████      | 1021/2500 [00:35<00:51, 28.92it/s, entropy=9.417281, kl=0.0]"
          ],
          "name": "stderr"
        },
        {
          "output_type": "stream",
          "text": [
            "EarlyStopping counter: 2 out of 500\n",
            "EarlyStopping counter: 3 out of 500\n",
            "EarlyStopping counter: 4 out of 500\n",
            "Validation loss decreased (0.000000 --> 0.000000).  Saving model ...\n",
            "Validation loss decreased (0.000000 --> 0.000000).  Saving model ...\n",
            "Validation loss decreased (0.000000 --> 0.000000).  Saving model ...\n"
          ],
          "name": "stdout"
        },
        {
          "output_type": "stream",
          "text": [
            " 41%|████      | 1025/2500 [00:35<00:50, 29.30it/s, entropy=9.430595, kl=0.0101211835]"
          ],
          "name": "stderr"
        },
        {
          "output_type": "stream",
          "text": [
            "EarlyStopping counter: 1 out of 500\n",
            "EarlyStopping counter: 2 out of 500\n",
            "Validation loss decreased (0.000000 --> 0.000000).  Saving model ...\n",
            "Validation loss decreased (0.000000 --> 0.000000).  Saving model ...\n",
            "Validation loss decreased (0.000000 --> 0.000000).  Saving model ...\n",
            "EarlyStopping counter: 1 out of 500\n",
            "EarlyStopping counter: 2 out of 500\n"
          ],
          "name": "stdout"
        },
        {
          "output_type": "stream",
          "text": [
            " 41%|████▏     | 1032/2500 [00:36<00:50, 29.06it/s, entropy=9.442015, kl=0.02631319] "
          ],
          "name": "stderr"
        },
        {
          "output_type": "stream",
          "text": [
            "EarlyStopping counter: 3 out of 500\n",
            "EarlyStopping counter: 4 out of 500\n",
            "Validation loss decreased (0.000000 --> 0.000000).  Saving model ...\n",
            "EarlyStopping counter: 1 out of 500\n",
            "EarlyStopping counter: 2 out of 500\n",
            "EarlyStopping counter: 3 out of 500\n"
          ],
          "name": "stdout"
        },
        {
          "output_type": "stream",
          "text": [
            " 42%|████▏     | 1038/2500 [00:36<00:50, 28.97it/s, entropy=9.4534025, kl=0.08809177]"
          ],
          "name": "stderr"
        },
        {
          "output_type": "stream",
          "text": [
            "EarlyStopping counter: 4 out of 500\n",
            "Validation loss decreased (0.000000 --> 0.000000).  Saving model ...\n",
            "Validation loss decreased (0.000000 --> 0.000000).  Saving model ...\n",
            "EarlyStopping counter: 1 out of 500\n",
            "Validation loss decreased (0.000000 --> 0.000000).  Saving model ...\n",
            "EarlyStopping counter: 1 out of 500\n",
            "Validation loss decreased (0.000000 --> 0.000000).  Saving model ...\n"
          ],
          "name": "stdout"
        },
        {
          "output_type": "stream",
          "text": [
            " 42%|████▏     | 1045/2500 [00:36<00:50, 28.67it/s, entropy=9.466673, kl=0.23757292]"
          ],
          "name": "stderr"
        },
        {
          "output_type": "stream",
          "text": [
            "Validation loss decreased (0.000000 --> 0.000000).  Saving model ...\n",
            "Validation loss decreased (0.000000 --> 0.000000).  Saving model ...\n",
            "Validation loss decreased (0.000000 --> 0.000000).  Saving model ...\n",
            "EarlyStopping counter: 1 out of 500\n",
            "EarlyStopping counter: 2 out of 500\n",
            "EarlyStopping counter: 3 out of 500\n"
          ],
          "name": "stdout"
        },
        {
          "output_type": "stream",
          "text": [
            " 42%|████▏     | 1051/2500 [00:36<00:50, 28.97it/s, entropy=9.478051, kl=0.019113256]"
          ],
          "name": "stderr"
        },
        {
          "output_type": "stream",
          "text": [
            "Validation loss decreased (0.000000 --> 0.000000).  Saving model ...\n",
            "Validation loss decreased (0.000000 --> 0.000000).  Saving model ...\n",
            "Validation loss decreased (0.000000 --> 0.000000).  Saving model ...\n",
            "EarlyStopping counter: 1 out of 500\n",
            "Validation loss decreased (0.000000 --> 0.000000).  Saving model ...\n",
            "EarlyStopping counter: 1 out of 500\n"
          ],
          "name": "stdout"
        },
        {
          "output_type": "stream",
          "text": [
            " 42%|████▏     | 1058/2500 [00:36<00:49, 29.34it/s, entropy=9.491387, kl=0.0011243091]"
          ],
          "name": "stderr"
        },
        {
          "output_type": "stream",
          "text": [
            "Validation loss decreased (0.000000 --> 0.000000).  Saving model ...\n",
            "Validation loss decreased (0.000000 --> 0.000000).  Saving model ...\n",
            "EarlyStopping counter: 1 out of 500\n",
            "Validation loss decreased (0.000000 --> 0.000000).  Saving model ...\n",
            "EarlyStopping counter: 1 out of 500\n",
            "EarlyStopping counter: 2 out of 500\n",
            "EarlyStopping counter: 3 out of 500\n"
          ],
          "name": "stdout"
        },
        {
          "output_type": "stream",
          "text": [
            " 43%|████▎     | 1064/2500 [00:37<00:49, 28.78it/s, entropy=9.502865, kl=0.0037413626]"
          ],
          "name": "stderr"
        },
        {
          "output_type": "stream",
          "text": [
            "EarlyStopping counter: 4 out of 500\n",
            "Validation loss decreased (0.000000 --> 0.000000).  Saving model ...\n",
            "EarlyStopping counter: 1 out of 500\n",
            "EarlyStopping counter: 2 out of 500\n",
            "EarlyStopping counter: 3 out of 500\n",
            "EarlyStopping counter: 4 out of 500\n"
          ],
          "name": "stdout"
        },
        {
          "output_type": "stream",
          "text": [
            " 43%|████▎     | 1070/2500 [00:37<00:50, 28.58it/s, entropy=9.514347, kl=0.0]"
          ],
          "name": "stderr"
        },
        {
          "output_type": "stream",
          "text": [
            "EarlyStopping counter: 5 out of 500\n",
            "EarlyStopping counter: 6 out of 500\n",
            "EarlyStopping counter: 7 out of 500\n",
            "Validation loss decreased (0.000000 --> 0.000000).  Saving model ...\n",
            "Validation loss decreased (0.000000 --> 0.000000).  Saving model ...\n",
            "Validation loss decreased (0.000000 --> 0.000000).  Saving model ...\n"
          ],
          "name": "stdout"
        },
        {
          "output_type": "stream",
          "text": [
            " 43%|████▎     | 1076/2500 [00:37<00:51, 27.68it/s, entropy=9.5258465, kl=0.007490732] "
          ],
          "name": "stderr"
        },
        {
          "output_type": "stream",
          "text": [
            "Validation loss decreased (0.000000 --> 0.000000).  Saving model ...\n",
            "EarlyStopping counter: 1 out of 500\n",
            "EarlyStopping counter: 2 out of 500\n",
            "Validation loss decreased (0.000000 --> 0.000000).  Saving model ...\n",
            "Validation loss decreased (0.000000 --> -0.000000).  Saving model ...\n",
            "EarlyStopping counter: 1 out of 500\n"
          ],
          "name": "stdout"
        },
        {
          "output_type": "stream",
          "text": [
            " 43%|████▎     | 1083/2500 [00:37<00:49, 28.62it/s, entropy=9.539268, kl=0.0011243091]"
          ],
          "name": "stderr"
        },
        {
          "output_type": "stream",
          "text": [
            "EarlyStopping counter: 2 out of 500\n",
            "EarlyStopping counter: 3 out of 500\n",
            "Validation loss decreased (-0.000000 --> -0.000000).  Saving model ...\n",
            "EarlyStopping counter: 1 out of 500\n",
            "EarlyStopping counter: 2 out of 500\n",
            "EarlyStopping counter: 3 out of 500\n",
            "EarlyStopping counter: 4 out of 500\n"
          ],
          "name": "stdout"
        },
        {
          "output_type": "stream",
          "text": [
            " 44%|████▎     | 1090/2500 [00:37<00:48, 29.29it/s, entropy=9.550788, kl=0.0]        "
          ],
          "name": "stderr"
        },
        {
          "output_type": "stream",
          "text": [
            "EarlyStopping counter: 5 out of 500\n",
            "EarlyStopping counter: 6 out of 500\n",
            "EarlyStopping counter: 7 out of 500\n",
            "EarlyStopping counter: 8 out of 500\n",
            "EarlyStopping counter: 9 out of 500\n",
            "EarlyStopping counter: 10 out of 500\n"
          ],
          "name": "stdout"
        },
        {
          "output_type": "stream",
          "text": [
            " 44%|████▍     | 1097/2500 [00:38<00:48, 28.96it/s, entropy=9.562323, kl=0.0]"
          ],
          "name": "stderr"
        },
        {
          "output_type": "stream",
          "text": [
            "EarlyStopping counter: 11 out of 500\n",
            "EarlyStopping counter: 12 out of 500\n",
            "EarlyStopping counter: 13 out of 500\n",
            "EarlyStopping counter: 14 out of 500\n",
            "EarlyStopping counter: 15 out of 500\n",
            "EarlyStopping counter: 16 out of 500\n"
          ],
          "name": "stdout"
        },
        {
          "output_type": "stream",
          "text": [
            " 44%|████▍     | 1103/2500 [00:38<00:48, 28.77it/s, entropy=9.573872, kl=0.21060972]"
          ],
          "name": "stderr"
        },
        {
          "output_type": "stream",
          "text": [
            "EarlyStopping counter: 17 out of 500\n",
            "EarlyStopping counter: 18 out of 500\n",
            "EarlyStopping counter: 19 out of 500\n",
            "EarlyStopping counter: 20 out of 500\n",
            "EarlyStopping counter: 21 out of 500\n",
            "EarlyStopping counter: 22 out of 500\n"
          ],
          "name": "stdout"
        },
        {
          "output_type": "stream",
          "text": [
            " 44%|████▍     | 1110/2500 [00:38<00:47, 29.32it/s, entropy=9.587346, kl=0.0]"
          ],
          "name": "stderr"
        },
        {
          "output_type": "stream",
          "text": [
            "EarlyStopping counter: 23 out of 500\n",
            "EarlyStopping counter: 24 out of 500\n",
            "EarlyStopping counter: 25 out of 500\n",
            "EarlyStopping counter: 26 out of 500\n",
            "EarlyStopping counter: 27 out of 500\n",
            "EarlyStopping counter: 28 out of 500\n",
            "EarlyStopping counter: 29 out of 500\n"
          ],
          "name": "stdout"
        },
        {
          "output_type": "stream",
          "text": [
            " 45%|████▍     | 1116/2500 [00:38<00:47, 28.86it/s, entropy=9.598874, kl=0.0]"
          ],
          "name": "stderr"
        },
        {
          "output_type": "stream",
          "text": [
            "EarlyStopping counter: 30 out of 500\n",
            "EarlyStopping counter: 31 out of 500\n",
            "EarlyStopping counter: 32 out of 500\n",
            "EarlyStopping counter: 33 out of 500\n",
            "EarlyStopping counter: 34 out of 500\n",
            "EarlyStopping counter: 35 out of 500\n"
          ],
          "name": "stdout"
        },
        {
          "output_type": "stream",
          "text": [
            " 45%|████▍     | 1122/2500 [00:39<00:48, 28.63it/s, entropy=9.610432, kl=0.0044971947]"
          ],
          "name": "stderr"
        },
        {
          "output_type": "stream",
          "text": [
            "EarlyStopping counter: 36 out of 500\n",
            "EarlyStopping counter: 37 out of 500\n",
            "EarlyStopping counter: 38 out of 500\n",
            "EarlyStopping counter: 39 out of 500\n",
            "EarlyStopping counter: 40 out of 500\n",
            "EarlyStopping counter: 41 out of 500\n"
          ],
          "name": "stdout"
        },
        {
          "output_type": "stream",
          "text": [
            " 45%|████▌     | 1128/2500 [00:39<00:48, 28.56it/s, entropy=9.622017, kl=0.024291696]"
          ],
          "name": "stderr"
        },
        {
          "output_type": "stream",
          "text": [
            "EarlyStopping counter: 42 out of 500\n",
            "EarlyStopping counter: 43 out of 500\n",
            "EarlyStopping counter: 44 out of 500\n",
            "EarlyStopping counter: 45 out of 500\n",
            "EarlyStopping counter: 46 out of 500\n",
            "EarlyStopping counter: 47 out of 500\n"
          ],
          "name": "stdout"
        },
        {
          "output_type": "stream",
          "text": [
            " 45%|████▌     | 1134/2500 [00:39<00:47, 28.54it/s, entropy=9.633597, kl=0.0]"
          ],
          "name": "stderr"
        },
        {
          "output_type": "stream",
          "text": [
            "EarlyStopping counter: 48 out of 500\n",
            "EarlyStopping counter: 49 out of 500\n",
            "EarlyStopping counter: 50 out of 500\n",
            "EarlyStopping counter: 51 out of 500\n",
            "EarlyStopping counter: 52 out of 500\n",
            "EarlyStopping counter: 53 out of 500\n"
          ],
          "name": "stdout"
        },
        {
          "output_type": "stream",
          "text": [
            " 46%|████▌     | 1140/2500 [00:39<00:47, 28.35it/s, entropy=9.645193, kl=0.0011243091]"
          ],
          "name": "stderr"
        },
        {
          "output_type": "stream",
          "text": [
            "EarlyStopping counter: 54 out of 500\n",
            "EarlyStopping counter: 55 out of 500\n",
            "EarlyStopping counter: 56 out of 500\n",
            "EarlyStopping counter: 57 out of 500\n",
            "EarlyStopping counter: 58 out of 500\n",
            "EarlyStopping counter: 59 out of 500\n"
          ],
          "name": "stdout"
        },
        {
          "output_type": "stream",
          "text": [
            " 46%|████▌     | 1146/2500 [00:39<00:47, 28.74it/s, entropy=9.656811, kl=0.0022486183]"
          ],
          "name": "stderr"
        },
        {
          "output_type": "stream",
          "text": [
            "EarlyStopping counter: 60 out of 500\n",
            "EarlyStopping counter: 61 out of 500\n",
            "EarlyStopping counter: 62 out of 500\n",
            "EarlyStopping counter: 63 out of 500\n",
            "EarlyStopping counter: 64 out of 500\n",
            "EarlyStopping counter: 65 out of 500\n"
          ],
          "name": "stdout"
        },
        {
          "output_type": "stream",
          "text": [
            " 46%|████▌     | 1152/2500 [00:40<00:47, 28.13it/s, entropy=9.668444, kl=0.12485767]"
          ],
          "name": "stderr"
        },
        {
          "output_type": "stream",
          "text": [
            "EarlyStopping counter: 66 out of 500\n",
            "EarlyStopping counter: 67 out of 500\n",
            "EarlyStopping counter: 68 out of 500\n",
            "EarlyStopping counter: 69 out of 500\n",
            "EarlyStopping counter: 70 out of 500\n",
            "EarlyStopping counter: 71 out of 500\n"
          ],
          "name": "stdout"
        },
        {
          "output_type": "stream",
          "text": [
            " 46%|████▋     | 1158/2500 [00:40<00:47, 28.15it/s, entropy=9.680069, kl=0.0]"
          ],
          "name": "stderr"
        },
        {
          "output_type": "stream",
          "text": [
            "EarlyStopping counter: 72 out of 500\n",
            "EarlyStopping counter: 73 out of 500\n",
            "EarlyStopping counter: 74 out of 500\n",
            "EarlyStopping counter: 75 out of 500\n",
            "EarlyStopping counter: 76 out of 500\n",
            "EarlyStopping counter: 77 out of 500\n"
          ],
          "name": "stdout"
        },
        {
          "output_type": "stream",
          "text": [
            " 47%|████▋     | 1164/2500 [00:40<00:46, 28.46it/s, entropy=9.691715, kl=0.0]"
          ],
          "name": "stderr"
        },
        {
          "output_type": "stream",
          "text": [
            "EarlyStopping counter: 78 out of 500\n",
            "EarlyStopping counter: 79 out of 500\n",
            "EarlyStopping counter: 80 out of 500\n",
            "EarlyStopping counter: 81 out of 500\n",
            "EarlyStopping counter: 82 out of 500\n",
            "EarlyStopping counter: 83 out of 500\n"
          ],
          "name": "stdout"
        },
        {
          "output_type": "stream",
          "text": [
            " 47%|████▋     | 1167/2500 [00:40<00:46, 28.51it/s, entropy=9.705358, kl=0.0]"
          ],
          "name": "stderr"
        },
        {
          "output_type": "stream",
          "text": [
            "EarlyStopping counter: 84 out of 500\n",
            "EarlyStopping counter: 85 out of 500\n",
            "EarlyStopping counter: 86 out of 500\n",
            "EarlyStopping counter: 87 out of 500\n",
            "EarlyStopping counter: 88 out of 500\n",
            "EarlyStopping counter: 89 out of 500\n",
            "EarlyStopping counter: 90 out of 500\n"
          ],
          "name": "stdout"
        },
        {
          "output_type": "stream",
          "text": [
            " 47%|████▋     | 1174/2500 [00:41<00:46, 28.62it/s, entropy=9.719032, kl=0.0]"
          ],
          "name": "stderr"
        },
        {
          "output_type": "stream",
          "text": [
            "EarlyStopping counter: 91 out of 500\n",
            "EarlyStopping counter: 92 out of 500\n",
            "EarlyStopping counter: 93 out of 500\n",
            "EarlyStopping counter: 94 out of 500\n",
            "EarlyStopping counter: 95 out of 500\n",
            "EarlyStopping counter: 96 out of 500\n",
            "EarlyStopping counter: 97 out of 500\n"
          ],
          "name": "stdout"
        },
        {
          "output_type": "stream",
          "text": [
            " 47%|████▋     | 1181/2500 [00:41<00:46, 28.59it/s, entropy=9.730752, kl=0.0]         "
          ],
          "name": "stderr"
        },
        {
          "output_type": "stream",
          "text": [
            "EarlyStopping counter: 98 out of 500\n",
            "EarlyStopping counter: 99 out of 500\n",
            "EarlyStopping counter: 100 out of 500\n",
            "EarlyStopping counter: 101 out of 500\n",
            "EarlyStopping counter: 102 out of 500\n",
            "EarlyStopping counter: 103 out of 500\n"
          ],
          "name": "stdout"
        },
        {
          "output_type": "stream",
          "text": [
            " 48%|████▊     | 1188/2500 [00:41<00:46, 28.50it/s, entropy=9.742477, kl=0.008509462]"
          ],
          "name": "stderr"
        },
        {
          "output_type": "stream",
          "text": [
            "EarlyStopping counter: 104 out of 500\n",
            "EarlyStopping counter: 105 out of 500\n",
            "EarlyStopping counter: 106 out of 500\n",
            "EarlyStopping counter: 107 out of 500\n",
            "EarlyStopping counter: 108 out of 500\n",
            "EarlyStopping counter: 109 out of 500\n"
          ],
          "name": "stdout"
        },
        {
          "output_type": "stream",
          "text": [
            " 48%|████▊     | 1195/2500 [00:41<00:45, 28.55it/s, entropy=9.754189, kl=4.8362286e-05]"
          ],
          "name": "stderr"
        },
        {
          "output_type": "stream",
          "text": [
            "EarlyStopping counter: 110 out of 500\n",
            "EarlyStopping counter: 111 out of 500\n",
            "EarlyStopping counter: 112 out of 500\n",
            "EarlyStopping counter: 113 out of 500\n",
            "EarlyStopping counter: 114 out of 500\n",
            "EarlyStopping counter: 115 out of 500\n"
          ],
          "name": "stdout"
        },
        {
          "output_type": "stream",
          "text": [
            " 48%|████▊     | 1202/2500 [00:41<00:44, 29.24it/s, entropy=9.767863, kl=0.0]"
          ],
          "name": "stderr"
        },
        {
          "output_type": "stream",
          "text": [
            "EarlyStopping counter: 116 out of 500\n",
            "EarlyStopping counter: 117 out of 500\n",
            "EarlyStopping counter: 118 out of 500\n",
            "EarlyStopping counter: 119 out of 500\n",
            "EarlyStopping counter: 120 out of 500\n",
            "EarlyStopping counter: 121 out of 500\n",
            "EarlyStopping counter: 122 out of 500\n"
          ],
          "name": "stdout"
        },
        {
          "output_type": "stream",
          "text": [
            " 48%|████▊     | 1208/2500 [00:42<00:44, 29.24it/s, entropy=9.779608, kl=0.0071303714]"
          ],
          "name": "stderr"
        },
        {
          "output_type": "stream",
          "text": [
            "EarlyStopping counter: 123 out of 500\n",
            "EarlyStopping counter: 124 out of 500\n",
            "EarlyStopping counter: 125 out of 500\n",
            "EarlyStopping counter: 126 out of 500\n",
            "EarlyStopping counter: 127 out of 500\n",
            "EarlyStopping counter: 128 out of 500\n"
          ],
          "name": "stdout"
        },
        {
          "output_type": "stream",
          "text": [
            " 49%|████▊     | 1214/2500 [00:42<00:44, 28.65it/s, entropy=9.791333, kl=0.60693365]"
          ],
          "name": "stderr"
        },
        {
          "output_type": "stream",
          "text": [
            "EarlyStopping counter: 129 out of 500\n",
            "EarlyStopping counter: 130 out of 500\n",
            "EarlyStopping counter: 131 out of 500\n",
            "EarlyStopping counter: 132 out of 500\n",
            "EarlyStopping counter: 133 out of 500\n",
            "EarlyStopping counter: 134 out of 500\n"
          ],
          "name": "stdout"
        },
        {
          "output_type": "stream",
          "text": [
            " 49%|████▉     | 1220/2500 [00:42<00:44, 28.59it/s, entropy=9.803, kl=0.0]   "
          ],
          "name": "stderr"
        },
        {
          "output_type": "stream",
          "text": [
            "EarlyStopping counter: 135 out of 500\n",
            "EarlyStopping counter: 136 out of 500\n",
            "EarlyStopping counter: 137 out of 500\n",
            "EarlyStopping counter: 138 out of 500\n",
            "EarlyStopping counter: 139 out of 500\n",
            "EarlyStopping counter: 140 out of 500\n"
          ],
          "name": "stdout"
        },
        {
          "output_type": "stream",
          "text": [
            " 49%|████▉     | 1226/2500 [00:42<00:43, 29.12it/s, entropy=9.814711, kl=0.0011243091]"
          ],
          "name": "stderr"
        },
        {
          "output_type": "stream",
          "text": [
            "EarlyStopping counter: 141 out of 500\n",
            "EarlyStopping counter: 142 out of 500\n",
            "EarlyStopping counter: 143 out of 500\n",
            "EarlyStopping counter: 144 out of 500\n",
            "EarlyStopping counter: 145 out of 500\n",
            "EarlyStopping counter: 146 out of 500\n"
          ],
          "name": "stdout"
        },
        {
          "output_type": "stream",
          "text": [
            " 49%|████▉     | 1232/2500 [00:42<00:43, 28.97it/s, entropy=9.826469, kl=0.035977907]"
          ],
          "name": "stderr"
        },
        {
          "output_type": "stream",
          "text": [
            "EarlyStopping counter: 147 out of 500\n",
            "EarlyStopping counter: 148 out of 500\n",
            "EarlyStopping counter: 149 out of 500\n",
            "EarlyStopping counter: 150 out of 500\n",
            "EarlyStopping counter: 151 out of 500\n",
            "EarlyStopping counter: 152 out of 500\n",
            "EarlyStopping counter: 153 out of 500\n"
          ],
          "name": "stdout"
        },
        {
          "output_type": "stream",
          "text": [
            " 50%|████▉     | 1238/2500 [00:43<00:43, 29.05it/s, entropy=9.840214, kl=0.053691316]"
          ],
          "name": "stderr"
        },
        {
          "output_type": "stream",
          "text": [
            "EarlyStopping counter: 154 out of 500\n",
            "EarlyStopping counter: 155 out of 500\n",
            "EarlyStopping counter: 156 out of 500\n",
            "EarlyStopping counter: 157 out of 500\n",
            "EarlyStopping counter: 158 out of 500\n",
            "EarlyStopping counter: 159 out of 500\n"
          ],
          "name": "stdout"
        },
        {
          "output_type": "stream",
          "text": [
            " 50%|████▉     | 1244/2500 [00:43<00:44, 27.96it/s, entropy=9.8519945, kl=0.0]"
          ],
          "name": "stderr"
        },
        {
          "output_type": "stream",
          "text": [
            "EarlyStopping counter: 160 out of 500\n",
            "EarlyStopping counter: 161 out of 500\n",
            "EarlyStopping counter: 162 out of 500\n",
            "EarlyStopping counter: 163 out of 500\n",
            "EarlyStopping counter: 164 out of 500\n",
            "EarlyStopping counter: 165 out of 500\n"
          ],
          "name": "stdout"
        },
        {
          "output_type": "stream",
          "text": [
            " 50%|█████     | 1250/2500 [00:43<00:43, 28.55it/s, entropy=9.8638115, kl=0.0011243091]"
          ],
          "name": "stderr"
        },
        {
          "output_type": "stream",
          "text": [
            "EarlyStopping counter: 166 out of 500\n",
            "EarlyStopping counter: 167 out of 500\n",
            "EarlyStopping counter: 168 out of 500\n",
            "EarlyStopping counter: 169 out of 500\n",
            "EarlyStopping counter: 170 out of 500\n",
            "EarlyStopping counter: 171 out of 500\n"
          ],
          "name": "stdout"
        },
        {
          "output_type": "stream",
          "text": [
            " 50%|█████     | 1257/2500 [00:43<00:42, 29.16it/s, entropy=9.87761, kl=0.0] "
          ],
          "name": "stderr"
        },
        {
          "output_type": "stream",
          "text": [
            "EarlyStopping counter: 172 out of 500\n",
            "EarlyStopping counter: 173 out of 500\n",
            "EarlyStopping counter: 174 out of 500\n",
            "EarlyStopping counter: 175 out of 500\n",
            "EarlyStopping counter: 176 out of 500\n",
            "EarlyStopping counter: 177 out of 500\n",
            "EarlyStopping counter: 178 out of 500\n"
          ],
          "name": "stdout"
        },
        {
          "output_type": "stream",
          "text": [
            " 51%|█████     | 1263/2500 [00:44<00:42, 29.36it/s, entropy=9.891421, kl=0.0011243091]"
          ],
          "name": "stderr"
        },
        {
          "output_type": "stream",
          "text": [
            "EarlyStopping counter: 179 out of 500\n",
            "EarlyStopping counter: 180 out of 500\n",
            "EarlyStopping counter: 181 out of 500\n",
            "EarlyStopping counter: 182 out of 500\n",
            "EarlyStopping counter: 183 out of 500\n",
            "EarlyStopping counter: 184 out of 500\n",
            "EarlyStopping counter: 185 out of 500\n"
          ],
          "name": "stdout"
        },
        {
          "output_type": "stream",
          "text": [
            " 51%|█████     | 1270/2500 [00:44<00:43, 28.60it/s, entropy=9.903275, kl=0.0]      "
          ],
          "name": "stderr"
        },
        {
          "output_type": "stream",
          "text": [
            "EarlyStopping counter: 186 out of 500\n",
            "EarlyStopping counter: 187 out of 500\n",
            "EarlyStopping counter: 188 out of 500\n",
            "EarlyStopping counter: 189 out of 500\n",
            "EarlyStopping counter: 190 out of 500\n",
            "EarlyStopping counter: 191 out of 500\n"
          ],
          "name": "stdout"
        },
        {
          "output_type": "stream",
          "text": [
            " 51%|█████     | 1276/2500 [00:44<00:42, 28.71it/s, entropy=9.915129, kl=0.0]"
          ],
          "name": "stderr"
        },
        {
          "output_type": "stream",
          "text": [
            "EarlyStopping counter: 192 out of 500\n",
            "EarlyStopping counter: 193 out of 500\n",
            "EarlyStopping counter: 194 out of 500\n",
            "EarlyStopping counter: 195 out of 500\n",
            "EarlyStopping counter: 196 out of 500\n",
            "EarlyStopping counter: 197 out of 500\n"
          ],
          "name": "stdout"
        },
        {
          "output_type": "stream",
          "text": [
            " 51%|█████▏    | 1283/2500 [00:44<00:42, 28.97it/s, entropy=9.926994, kl=0.0]"
          ],
          "name": "stderr"
        },
        {
          "output_type": "stream",
          "text": [
            "EarlyStopping counter: 198 out of 500\n",
            "EarlyStopping counter: 199 out of 500\n",
            "EarlyStopping counter: 200 out of 500\n",
            "EarlyStopping counter: 201 out of 500\n",
            "EarlyStopping counter: 202 out of 500\n",
            "EarlyStopping counter: 203 out of 500\n"
          ],
          "name": "stdout"
        },
        {
          "output_type": "stream",
          "text": [
            " 52%|█████▏    | 1289/2500 [00:44<00:41, 29.18it/s, entropy=9.93888, kl=0.0044958945] "
          ],
          "name": "stderr"
        },
        {
          "output_type": "stream",
          "text": [
            "EarlyStopping counter: 204 out of 500\n",
            "EarlyStopping counter: 205 out of 500\n",
            "EarlyStopping counter: 206 out of 500\n",
            "EarlyStopping counter: 207 out of 500\n",
            "EarlyStopping counter: 208 out of 500\n",
            "EarlyStopping counter: 209 out of 500\n"
          ],
          "name": "stdout"
        },
        {
          "output_type": "stream",
          "text": [
            " 52%|█████▏    | 1295/2500 [00:45<00:41, 29.14it/s, entropy=9.950796, kl=0.0]        "
          ],
          "name": "stderr"
        },
        {
          "output_type": "stream",
          "text": [
            "EarlyStopping counter: 210 out of 500\n",
            "EarlyStopping counter: 211 out of 500\n",
            "EarlyStopping counter: 212 out of 500\n",
            "EarlyStopping counter: 213 out of 500\n",
            "EarlyStopping counter: 214 out of 500\n",
            "EarlyStopping counter: 215 out of 500\n"
          ],
          "name": "stdout"
        },
        {
          "output_type": "stream",
          "text": [
            " 52%|█████▏    | 1301/2500 [00:45<00:42, 27.97it/s, entropy=9.962729, kl=0.0]"
          ],
          "name": "stderr"
        },
        {
          "output_type": "stream",
          "text": [
            "EarlyStopping counter: 216 out of 500\n",
            "EarlyStopping counter: 217 out of 500\n",
            "EarlyStopping counter: 218 out of 500\n",
            "EarlyStopping counter: 219 out of 500\n",
            "EarlyStopping counter: 220 out of 500\n",
            "EarlyStopping counter: 221 out of 500\n"
          ],
          "name": "stdout"
        },
        {
          "output_type": "stream",
          "text": [
            " 52%|█████▏    | 1307/2500 [00:45<00:42, 28.00it/s, entropy=9.974682, kl=0.015740328]"
          ],
          "name": "stderr"
        },
        {
          "output_type": "stream",
          "text": [
            "EarlyStopping counter: 222 out of 500\n",
            "EarlyStopping counter: 223 out of 500\n",
            "EarlyStopping counter: 224 out of 500\n",
            "EarlyStopping counter: 225 out of 500\n",
            "EarlyStopping counter: 226 out of 500\n",
            "EarlyStopping counter: 227 out of 500\n"
          ],
          "name": "stdout"
        },
        {
          "output_type": "stream",
          "text": [
            " 53%|█████▎    | 1313/2500 [00:45<00:41, 28.43it/s, entropy=9.986654, kl=0.0]"
          ],
          "name": "stderr"
        },
        {
          "output_type": "stream",
          "text": [
            "EarlyStopping counter: 228 out of 500\n",
            "EarlyStopping counter: 229 out of 500\n",
            "EarlyStopping counter: 230 out of 500\n",
            "EarlyStopping counter: 231 out of 500\n",
            "EarlyStopping counter: 232 out of 500\n",
            "EarlyStopping counter: 233 out of 500\n"
          ],
          "name": "stdout"
        },
        {
          "output_type": "stream",
          "text": [
            " 53%|█████▎    | 1319/2500 [00:45<00:40, 29.14it/s, entropy=10.000598, kl=0.0]      "
          ],
          "name": "stderr"
        },
        {
          "output_type": "stream",
          "text": [
            "EarlyStopping counter: 234 out of 500\n",
            "EarlyStopping counter: 235 out of 500\n",
            "EarlyStopping counter: 236 out of 500\n",
            "EarlyStopping counter: 237 out of 500\n",
            "EarlyStopping counter: 238 out of 500\n",
            "EarlyStopping counter: 239 out of 500\n",
            "EarlyStopping counter: 240 out of 500\n"
          ],
          "name": "stdout"
        },
        {
          "output_type": "stream",
          "text": [
            " 53%|█████▎    | 1326/2500 [00:46<00:39, 29.35it/s, entropy=10.012547, kl=0.0]"
          ],
          "name": "stderr"
        },
        {
          "output_type": "stream",
          "text": [
            "EarlyStopping counter: 241 out of 500\n",
            "EarlyStopping counter: 242 out of 500\n",
            "EarlyStopping counter: 243 out of 500\n",
            "EarlyStopping counter: 244 out of 500\n",
            "EarlyStopping counter: 245 out of 500\n",
            "EarlyStopping counter: 246 out of 500\n"
          ],
          "name": "stdout"
        },
        {
          "output_type": "stream",
          "text": [
            " 53%|█████▎    | 1332/2500 [00:46<00:40, 28.98it/s, entropy=10.024532, kl=0.0]"
          ],
          "name": "stderr"
        },
        {
          "output_type": "stream",
          "text": [
            "EarlyStopping counter: 247 out of 500\n",
            "EarlyStopping counter: 248 out of 500\n",
            "EarlyStopping counter: 249 out of 500\n",
            "EarlyStopping counter: 250 out of 500\n",
            "EarlyStopping counter: 251 out of 500\n",
            "EarlyStopping counter: 252 out of 500\n"
          ],
          "name": "stdout"
        },
        {
          "output_type": "stream",
          "text": [
            " 54%|█████▎    | 1339/2500 [00:46<00:40, 28.93it/s, entropy=10.036547, kl=0.0011243091]"
          ],
          "name": "stderr"
        },
        {
          "output_type": "stream",
          "text": [
            "EarlyStopping counter: 253 out of 500\n",
            "EarlyStopping counter: 254 out of 500\n",
            "EarlyStopping counter: 255 out of 500\n",
            "EarlyStopping counter: 256 out of 500\n",
            "EarlyStopping counter: 257 out of 500\n",
            "EarlyStopping counter: 258 out of 500\n"
          ],
          "name": "stdout"
        },
        {
          "output_type": "stream",
          "text": [
            " 54%|█████▍    | 1345/2500 [00:46<00:39, 29.23it/s, entropy=10.048581, kl=0.017935205]"
          ],
          "name": "stderr"
        },
        {
          "output_type": "stream",
          "text": [
            "EarlyStopping counter: 259 out of 500\n",
            "EarlyStopping counter: 260 out of 500\n",
            "EarlyStopping counter: 261 out of 500\n",
            "EarlyStopping counter: 262 out of 500\n",
            "EarlyStopping counter: 263 out of 500\n",
            "EarlyStopping counter: 264 out of 500\n"
          ],
          "name": "stdout"
        },
        {
          "output_type": "stream",
          "text": [
            " 54%|█████▍    | 1351/2500 [00:47<00:41, 27.70it/s, entropy=10.060636, kl=0.039980765]"
          ],
          "name": "stderr"
        },
        {
          "output_type": "stream",
          "text": [
            "EarlyStopping counter: 265 out of 500\n",
            "EarlyStopping counter: 266 out of 500\n",
            "EarlyStopping counter: 267 out of 500\n",
            "EarlyStopping counter: 268 out of 500\n",
            "EarlyStopping counter: 269 out of 500\n",
            "EarlyStopping counter: 270 out of 500\n"
          ],
          "name": "stdout"
        },
        {
          "output_type": "stream",
          "text": [
            " 54%|█████▍    | 1357/2500 [00:47<00:41, 27.74it/s, entropy=10.072715, kl=0.041921735]"
          ],
          "name": "stderr"
        },
        {
          "output_type": "stream",
          "text": [
            "EarlyStopping counter: 271 out of 500\n",
            "EarlyStopping counter: 272 out of 500\n",
            "EarlyStopping counter: 273 out of 500\n",
            "EarlyStopping counter: 274 out of 500\n",
            "EarlyStopping counter: 275 out of 500\n",
            "EarlyStopping counter: 276 out of 500\n"
          ],
          "name": "stdout"
        },
        {
          "output_type": "stream",
          "text": [
            " 54%|█████▍    | 1360/2500 [00:47<00:40, 28.22it/s, entropy=10.084763, kl=0.010084532]"
          ],
          "name": "stderr"
        },
        {
          "output_type": "stream",
          "text": [
            "EarlyStopping counter: 277 out of 500\n",
            "EarlyStopping counter: 278 out of 500\n",
            "EarlyStopping counter: 279 out of 500\n",
            "EarlyStopping counter: 280 out of 500\n",
            "EarlyStopping counter: 281 out of 500\n",
            "EarlyStopping counter: 282 out of 500\n"
          ],
          "name": "stdout"
        },
        {
          "output_type": "stream",
          "text": [
            " 55%|█████▍    | 1367/2500 [00:47<00:39, 28.76it/s, entropy=10.0968275, kl=0.0]        "
          ],
          "name": "stderr"
        },
        {
          "output_type": "stream",
          "text": [
            "EarlyStopping counter: 283 out of 500\n",
            "EarlyStopping counter: 284 out of 500\n",
            "EarlyStopping counter: 285 out of 500\n",
            "EarlyStopping counter: 286 out of 500\n",
            "EarlyStopping counter: 287 out of 500\n",
            "EarlyStopping counter: 288 out of 500\n"
          ],
          "name": "stdout"
        },
        {
          "output_type": "stream",
          "text": [
            " 55%|█████▍    | 1374/2500 [00:47<00:38, 29.29it/s, entropy=10.108916, kl=0.0]       "
          ],
          "name": "stderr"
        },
        {
          "output_type": "stream",
          "text": [
            "EarlyStopping counter: 289 out of 500\n",
            "EarlyStopping counter: 290 out of 500\n",
            "EarlyStopping counter: 291 out of 500\n",
            "EarlyStopping counter: 292 out of 500\n",
            "EarlyStopping counter: 293 out of 500\n",
            "EarlyStopping counter: 294 out of 500\n"
          ],
          "name": "stdout"
        },
        {
          "output_type": "stream",
          "text": [
            " 55%|█████▌    | 1381/2500 [00:48<00:38, 29.31it/s, entropy=10.123037, kl=4.924545e-14]"
          ],
          "name": "stderr"
        },
        {
          "output_type": "stream",
          "text": [
            "EarlyStopping counter: 295 out of 500\n",
            "EarlyStopping counter: 296 out of 500\n",
            "EarlyStopping counter: 297 out of 500\n",
            "EarlyStopping counter: 298 out of 500\n",
            "EarlyStopping counter: 299 out of 500\n",
            "EarlyStopping counter: 300 out of 500\n",
            "EarlyStopping counter: 301 out of 500\n"
          ],
          "name": "stdout"
        },
        {
          "output_type": "stream",
          "text": [
            " 55%|█████▌    | 1387/2500 [00:48<00:39, 28.44it/s, entropy=10.135166, kl=0.0]"
          ],
          "name": "stderr"
        },
        {
          "output_type": "stream",
          "text": [
            "EarlyStopping counter: 302 out of 500\n",
            "EarlyStopping counter: 303 out of 500\n",
            "EarlyStopping counter: 304 out of 500\n",
            "EarlyStopping counter: 305 out of 500\n",
            "EarlyStopping counter: 306 out of 500\n",
            "EarlyStopping counter: 307 out of 500\n"
          ],
          "name": "stdout"
        },
        {
          "output_type": "stream",
          "text": [
            " 56%|█████▌    | 1393/2500 [00:48<00:38, 28.82it/s, entropy=10.147317, kl=0.0044959774]"
          ],
          "name": "stderr"
        },
        {
          "output_type": "stream",
          "text": [
            "EarlyStopping counter: 308 out of 500\n",
            "EarlyStopping counter: 309 out of 500\n",
            "EarlyStopping counter: 310 out of 500\n",
            "EarlyStopping counter: 311 out of 500\n",
            "EarlyStopping counter: 312 out of 500\n",
            "EarlyStopping counter: 313 out of 500\n"
          ],
          "name": "stdout"
        },
        {
          "output_type": "stream",
          "text": [
            " 56%|█████▌    | 1399/2500 [00:48<00:37, 29.32it/s, entropy=10.159489, kl=0.007870164]"
          ],
          "name": "stderr"
        },
        {
          "output_type": "stream",
          "text": [
            "EarlyStopping counter: 314 out of 500\n",
            "EarlyStopping counter: 315 out of 500\n",
            "EarlyStopping counter: 316 out of 500\n",
            "EarlyStopping counter: 317 out of 500\n",
            "EarlyStopping counter: 318 out of 500\n",
            "EarlyStopping counter: 319 out of 500\n"
          ],
          "name": "stdout"
        },
        {
          "output_type": "stream",
          "text": [
            " 56%|█████▌    | 1406/2500 [00:48<00:37, 29.02it/s, entropy=10.171642, kl=0.0]"
          ],
          "name": "stderr"
        },
        {
          "output_type": "stream",
          "text": [
            "EarlyStopping counter: 320 out of 500\n",
            "EarlyStopping counter: 321 out of 500\n",
            "EarlyStopping counter: 322 out of 500\n",
            "EarlyStopping counter: 323 out of 500\n",
            "EarlyStopping counter: 324 out of 500\n",
            "EarlyStopping counter: 325 out of 500\n"
          ],
          "name": "stdout"
        },
        {
          "output_type": "stream",
          "text": [
            " 56%|█████▋    | 1412/2500 [00:49<00:37, 29.23it/s, entropy=10.183793, kl=0.18802014]"
          ],
          "name": "stderr"
        },
        {
          "output_type": "stream",
          "text": [
            "EarlyStopping counter: 326 out of 500\n",
            "EarlyStopping counter: 327 out of 500\n",
            "EarlyStopping counter: 328 out of 500\n",
            "EarlyStopping counter: 329 out of 500\n",
            "EarlyStopping counter: 330 out of 500\n",
            "EarlyStopping counter: 331 out of 500\n"
          ],
          "name": "stdout"
        },
        {
          "output_type": "stream",
          "text": [
            " 57%|█████▋    | 1418/2500 [00:49<00:37, 28.72it/s, entropy=10.195978, kl=0.0]"
          ],
          "name": "stderr"
        },
        {
          "output_type": "stream",
          "text": [
            "EarlyStopping counter: 332 out of 500\n",
            "EarlyStopping counter: 333 out of 500\n",
            "EarlyStopping counter: 334 out of 500\n",
            "EarlyStopping counter: 335 out of 500\n",
            "EarlyStopping counter: 336 out of 500\n",
            "EarlyStopping counter: 337 out of 500\n"
          ],
          "name": "stdout"
        },
        {
          "output_type": "stream",
          "text": [
            " 57%|█████▋    | 1424/2500 [00:49<00:37, 28.42it/s, entropy=10.208183, kl=0.0033913997]"
          ],
          "name": "stderr"
        },
        {
          "output_type": "stream",
          "text": [
            "EarlyStopping counter: 338 out of 500\n",
            "EarlyStopping counter: 339 out of 500\n",
            "EarlyStopping counter: 340 out of 500\n",
            "EarlyStopping counter: 341 out of 500\n",
            "EarlyStopping counter: 342 out of 500\n",
            "EarlyStopping counter: 343 out of 500\n"
          ],
          "name": "stdout"
        },
        {
          "output_type": "stream",
          "text": [
            " 57%|█████▋    | 1431/2500 [00:49<00:36, 29.09it/s, entropy=10.22244, kl=0.0]"
          ],
          "name": "stderr"
        },
        {
          "output_type": "stream",
          "text": [
            "EarlyStopping counter: 344 out of 500\n",
            "EarlyStopping counter: 345 out of 500\n",
            "EarlyStopping counter: 346 out of 500\n",
            "EarlyStopping counter: 347 out of 500\n",
            "EarlyStopping counter: 348 out of 500\n",
            "EarlyStopping counter: 349 out of 500\n",
            "EarlyStopping counter: 350 out of 500\n"
          ],
          "name": "stdout"
        },
        {
          "output_type": "stream",
          "text": [
            " 58%|█████▊    | 1438/2500 [00:50<00:36, 29.25it/s, entropy=10.236715, kl=0.0]"
          ],
          "name": "stderr"
        },
        {
          "output_type": "stream",
          "text": [
            "EarlyStopping counter: 351 out of 500\n",
            "EarlyStopping counter: 352 out of 500\n",
            "EarlyStopping counter: 353 out of 500\n",
            "EarlyStopping counter: 354 out of 500\n",
            "EarlyStopping counter: 355 out of 500\n",
            "EarlyStopping counter: 356 out of 500\n",
            "EarlyStopping counter: 357 out of 500\n"
          ],
          "name": "stdout"
        },
        {
          "output_type": "stream",
          "text": [
            " 58%|█████▊    | 1444/2500 [00:50<00:36, 29.06it/s, entropy=10.248975, kl=0.0]"
          ],
          "name": "stderr"
        },
        {
          "output_type": "stream",
          "text": [
            "EarlyStopping counter: 358 out of 500\n",
            "EarlyStopping counter: 359 out of 500\n",
            "EarlyStopping counter: 360 out of 500\n",
            "EarlyStopping counter: 361 out of 500\n",
            "EarlyStopping counter: 362 out of 500\n",
            "EarlyStopping counter: 363 out of 500\n"
          ],
          "name": "stdout"
        },
        {
          "output_type": "stream",
          "text": [
            " 58%|█████▊    | 1450/2500 [00:50<00:36, 28.75it/s, entropy=10.261255, kl=0.0]"
          ],
          "name": "stderr"
        },
        {
          "output_type": "stream",
          "text": [
            "EarlyStopping counter: 364 out of 500\n",
            "EarlyStopping counter: 365 out of 500\n",
            "EarlyStopping counter: 366 out of 500\n",
            "EarlyStopping counter: 367 out of 500\n",
            "EarlyStopping counter: 368 out of 500\n",
            "EarlyStopping counter: 369 out of 500\n"
          ],
          "name": "stdout"
        },
        {
          "output_type": "stream",
          "text": [
            " 58%|█████▊    | 1456/2500 [00:50<00:36, 28.73it/s, entropy=10.273552, kl=0.0]"
          ],
          "name": "stderr"
        },
        {
          "output_type": "stream",
          "text": [
            "EarlyStopping counter: 370 out of 500\n",
            "EarlyStopping counter: 371 out of 500\n",
            "EarlyStopping counter: 372 out of 500\n",
            "EarlyStopping counter: 373 out of 500\n",
            "EarlyStopping counter: 374 out of 500\n",
            "EarlyStopping counter: 375 out of 500\n"
          ],
          "name": "stdout"
        },
        {
          "output_type": "stream",
          "text": [
            " 59%|█████▊    | 1463/2500 [00:50<00:35, 29.52it/s, entropy=10.287921, kl=0.0]"
          ],
          "name": "stderr"
        },
        {
          "output_type": "stream",
          "text": [
            "EarlyStopping counter: 376 out of 500\n",
            "EarlyStopping counter: 377 out of 500\n",
            "EarlyStopping counter: 378 out of 500\n",
            "EarlyStopping counter: 379 out of 500\n",
            "EarlyStopping counter: 380 out of 500\n",
            "EarlyStopping counter: 381 out of 500\n",
            "EarlyStopping counter: 382 out of 500\n"
          ],
          "name": "stdout"
        },
        {
          "output_type": "stream",
          "text": [
            " 59%|█████▉    | 1469/2500 [00:51<00:35, 28.93it/s, entropy=10.300268, kl=0.0]"
          ],
          "name": "stderr"
        },
        {
          "output_type": "stream",
          "text": [
            "EarlyStopping counter: 383 out of 500\n",
            "EarlyStopping counter: 384 out of 500\n",
            "EarlyStopping counter: 385 out of 500\n",
            "EarlyStopping counter: 386 out of 500\n",
            "EarlyStopping counter: 387 out of 500\n",
            "EarlyStopping counter: 388 out of 500\n"
          ],
          "name": "stdout"
        },
        {
          "output_type": "stream",
          "text": [
            " 59%|█████▉    | 1475/2500 [00:51<00:35, 29.07it/s, entropy=10.312639, kl=0.0]"
          ],
          "name": "stderr"
        },
        {
          "output_type": "stream",
          "text": [
            "EarlyStopping counter: 389 out of 500\n",
            "EarlyStopping counter: 390 out of 500\n",
            "EarlyStopping counter: 391 out of 500\n",
            "EarlyStopping counter: 392 out of 500\n",
            "EarlyStopping counter: 393 out of 500\n",
            "EarlyStopping counter: 394 out of 500\n"
          ],
          "name": "stdout"
        },
        {
          "output_type": "stream",
          "text": [
            " 59%|█████▉    | 1481/2500 [00:51<00:36, 28.22it/s, entropy=10.3250065, kl=0.0]"
          ],
          "name": "stderr"
        },
        {
          "output_type": "stream",
          "text": [
            "EarlyStopping counter: 395 out of 500\n",
            "EarlyStopping counter: 396 out of 500\n",
            "EarlyStopping counter: 397 out of 500\n",
            "EarlyStopping counter: 398 out of 500\n",
            "EarlyStopping counter: 399 out of 500\n",
            "EarlyStopping counter: 400 out of 500\n"
          ],
          "name": "stdout"
        },
        {
          "output_type": "stream",
          "text": [
            " 59%|█████▉    | 1487/2500 [00:51<00:35, 28.88it/s, entropy=10.337383, kl=0.03146898]"
          ],
          "name": "stderr"
        },
        {
          "output_type": "stream",
          "text": [
            "EarlyStopping counter: 401 out of 500\n",
            "EarlyStopping counter: 402 out of 500\n",
            "EarlyStopping counter: 403 out of 500\n",
            "EarlyStopping counter: 404 out of 500\n",
            "EarlyStopping counter: 405 out of 500\n",
            "EarlyStopping counter: 406 out of 500\n"
          ],
          "name": "stdout"
        },
        {
          "output_type": "stream",
          "text": [
            " 60%|█████▉    | 1493/2500 [00:51<00:34, 28.98it/s, entropy=10.349775, kl=0.0]"
          ],
          "name": "stderr"
        },
        {
          "output_type": "stream",
          "text": [
            "EarlyStopping counter: 407 out of 500\n",
            "EarlyStopping counter: 408 out of 500\n",
            "EarlyStopping counter: 409 out of 500\n",
            "EarlyStopping counter: 410 out of 500\n",
            "EarlyStopping counter: 411 out of 500\n",
            "EarlyStopping counter: 412 out of 500\n"
          ],
          "name": "stdout"
        },
        {
          "output_type": "stream",
          "text": [
            " 60%|██████    | 1500/2500 [00:52<00:33, 29.52it/s, entropy=10.364254, kl=0.0]"
          ],
          "name": "stderr"
        },
        {
          "output_type": "stream",
          "text": [
            "EarlyStopping counter: 413 out of 500\n",
            "EarlyStopping counter: 414 out of 500\n",
            "EarlyStopping counter: 415 out of 500\n",
            "EarlyStopping counter: 416 out of 500\n",
            "EarlyStopping counter: 417 out of 500\n",
            "EarlyStopping counter: 418 out of 500\n",
            "EarlyStopping counter: 419 out of 500\n"
          ],
          "name": "stdout"
        },
        {
          "output_type": "stream",
          "text": [
            " 60%|██████    | 1506/2500 [00:52<00:34, 28.86it/s, entropy=10.37668, kl=3.456329e-13]"
          ],
          "name": "stderr"
        },
        {
          "output_type": "stream",
          "text": [
            "EarlyStopping counter: 420 out of 500\n",
            "EarlyStopping counter: 421 out of 500\n",
            "EarlyStopping counter: 422 out of 500\n",
            "EarlyStopping counter: 423 out of 500\n",
            "EarlyStopping counter: 424 out of 500\n",
            "EarlyStopping counter: 425 out of 500\n"
          ],
          "name": "stdout"
        },
        {
          "output_type": "stream",
          "text": [
            " 60%|██████    | 1512/2500 [00:52<00:34, 28.62it/s, entropy=10.38912, kl=0.0]"
          ],
          "name": "stderr"
        },
        {
          "output_type": "stream",
          "text": [
            "Validation loss decreased (-0.000000 --> -0.000000).  Saving model ...\n",
            "EarlyStopping counter: 1 out of 500\n",
            "EarlyStopping counter: 2 out of 500\n",
            "EarlyStopping counter: 3 out of 500\n",
            "EarlyStopping counter: 4 out of 500\n",
            "EarlyStopping counter: 5 out of 500\n"
          ],
          "name": "stdout"
        },
        {
          "output_type": "stream",
          "text": [
            " 61%|██████    | 1518/2500 [00:52<00:34, 28.09it/s, entropy=10.401577, kl=0.0]"
          ],
          "name": "stderr"
        },
        {
          "output_type": "stream",
          "text": [
            "EarlyStopping counter: 6 out of 500\n",
            "EarlyStopping counter: 7 out of 500\n",
            "EarlyStopping counter: 8 out of 500\n",
            "EarlyStopping counter: 9 out of 500\n",
            "EarlyStopping counter: 10 out of 500\n",
            "EarlyStopping counter: 11 out of 500\n"
          ],
          "name": "stdout"
        },
        {
          "output_type": "stream",
          "text": [
            " 61%|██████    | 1524/2500 [00:53<00:34, 28.28it/s, entropy=10.414047, kl=0.0]"
          ],
          "name": "stderr"
        },
        {
          "output_type": "stream",
          "text": [
            "EarlyStopping counter: 12 out of 500\n",
            "EarlyStopping counter: 13 out of 500\n",
            "EarlyStopping counter: 14 out of 500\n",
            "EarlyStopping counter: 15 out of 500\n",
            "EarlyStopping counter: 16 out of 500\n",
            "EarlyStopping counter: 17 out of 500\n"
          ],
          "name": "stdout"
        },
        {
          "output_type": "stream",
          "text": [
            " 61%|██████    | 1531/2500 [00:53<00:33, 28.95it/s, entropy=10.428598, kl=0.0]"
          ],
          "name": "stderr"
        },
        {
          "output_type": "stream",
          "text": [
            "EarlyStopping counter: 18 out of 500\n",
            "EarlyStopping counter: 19 out of 500\n",
            "EarlyStopping counter: 20 out of 500\n",
            "EarlyStopping counter: 21 out of 500\n",
            "EarlyStopping counter: 22 out of 500\n",
            "EarlyStopping counter: 23 out of 500\n",
            "EarlyStopping counter: 24 out of 500\n"
          ],
          "name": "stdout"
        },
        {
          "output_type": "stream",
          "text": [
            " 61%|██████▏   | 1537/2500 [00:53<00:33, 28.61it/s, entropy=10.441084, kl=0.0022485983]"
          ],
          "name": "stderr"
        },
        {
          "output_type": "stream",
          "text": [
            "EarlyStopping counter: 25 out of 500\n",
            "EarlyStopping counter: 26 out of 500\n",
            "EarlyStopping counter: 27 out of 500\n",
            "EarlyStopping counter: 28 out of 500\n",
            "EarlyStopping counter: 29 out of 500\n",
            "EarlyStopping counter: 30 out of 500\n"
          ],
          "name": "stdout"
        },
        {
          "output_type": "stream",
          "text": [
            " 62%|██████▏   | 1540/2500 [00:53<00:34, 27.79it/s, entropy=10.453581, kl=0.0]"
          ],
          "name": "stderr"
        },
        {
          "output_type": "stream",
          "text": [
            "EarlyStopping counter: 31 out of 500\n",
            "EarlyStopping counter: 32 out of 500\n",
            "EarlyStopping counter: 33 out of 500\n",
            "EarlyStopping counter: 34 out of 500\n",
            "EarlyStopping counter: 35 out of 500\n",
            "EarlyStopping counter: 36 out of 500\n"
          ],
          "name": "stdout"
        },
        {
          "output_type": "stream",
          "text": [
            " 62%|██████▏   | 1548/2500 [00:53<00:32, 28.91it/s, entropy=10.466099, kl=0.0]"
          ],
          "name": "stderr"
        },
        {
          "output_type": "stream",
          "text": [
            "EarlyStopping counter: 37 out of 500\n",
            "EarlyStopping counter: 38 out of 500\n",
            "EarlyStopping counter: 39 out of 500\n",
            "EarlyStopping counter: 40 out of 500\n",
            "EarlyStopping counter: 41 out of 500\n",
            "EarlyStopping counter: 42 out of 500\n"
          ],
          "name": "stdout"
        },
        {
          "output_type": "stream",
          "text": [
            " 62%|██████▏   | 1555/2500 [00:54<00:32, 29.29it/s, entropy=10.480729, kl=0.0]"
          ],
          "name": "stderr"
        },
        {
          "output_type": "stream",
          "text": [
            "EarlyStopping counter: 43 out of 500\n",
            "EarlyStopping counter: 44 out of 500\n",
            "EarlyStopping counter: 45 out of 500\n",
            "EarlyStopping counter: 46 out of 500\n",
            "EarlyStopping counter: 47 out of 500\n",
            "EarlyStopping counter: 48 out of 500\n",
            "EarlyStopping counter: 49 out of 500\n"
          ],
          "name": "stdout"
        },
        {
          "output_type": "stream",
          "text": [
            " 62%|██████▏   | 1561/2500 [00:54<00:33, 28.43it/s, entropy=10.49329, kl=0.0011243091]"
          ],
          "name": "stderr"
        },
        {
          "output_type": "stream",
          "text": [
            "EarlyStopping counter: 50 out of 500\n",
            "EarlyStopping counter: 51 out of 500\n",
            "EarlyStopping counter: 52 out of 500\n",
            "EarlyStopping counter: 53 out of 500\n",
            "EarlyStopping counter: 54 out of 500\n",
            "EarlyStopping counter: 55 out of 500\n"
          ],
          "name": "stdout"
        },
        {
          "output_type": "stream",
          "text": [
            " 63%|██████▎   | 1567/2500 [00:54<00:33, 27.90it/s, entropy=10.505859, kl=0.0]"
          ],
          "name": "stderr"
        },
        {
          "output_type": "stream",
          "text": [
            "EarlyStopping counter: 56 out of 500\n",
            "EarlyStopping counter: 57 out of 500\n",
            "EarlyStopping counter: 58 out of 500\n",
            "EarlyStopping counter: 59 out of 500\n",
            "EarlyStopping counter: 60 out of 500\n",
            "EarlyStopping counter: 61 out of 500\n"
          ],
          "name": "stdout"
        },
        {
          "output_type": "stream",
          "text": [
            " 63%|██████▎   | 1573/2500 [00:54<00:32, 28.39it/s, entropy=10.518448, kl=0.0]         "
          ],
          "name": "stderr"
        },
        {
          "output_type": "stream",
          "text": [
            "EarlyStopping counter: 62 out of 500\n",
            "EarlyStopping counter: 63 out of 500\n",
            "EarlyStopping counter: 64 out of 500\n",
            "EarlyStopping counter: 65 out of 500\n",
            "EarlyStopping counter: 66 out of 500\n",
            "EarlyStopping counter: 67 out of 500\n",
            "EarlyStopping counter: 68 out of 500\n"
          ],
          "name": "stdout"
        },
        {
          "output_type": "stream",
          "text": [
            " 63%|██████▎   | 1579/2500 [00:55<00:31, 28.83it/s, entropy=10.533209, kl=0.0011243091] "
          ],
          "name": "stderr"
        },
        {
          "output_type": "stream",
          "text": [
            "EarlyStopping counter: 69 out of 500\n",
            "EarlyStopping counter: 70 out of 500\n",
            "EarlyStopping counter: 71 out of 500\n",
            "EarlyStopping counter: 72 out of 500\n",
            "EarlyStopping counter: 73 out of 500\n",
            "EarlyStopping counter: 74 out of 500\n"
          ],
          "name": "stdout"
        },
        {
          "output_type": "stream",
          "text": [
            " 63%|██████▎   | 1585/2500 [00:55<00:31, 29.29it/s, entropy=10.54586, kl=0.0] "
          ],
          "name": "stderr"
        },
        {
          "output_type": "stream",
          "text": [
            "EarlyStopping counter: 75 out of 500\n",
            "EarlyStopping counter: 76 out of 500\n",
            "EarlyStopping counter: 77 out of 500\n",
            "EarlyStopping counter: 78 out of 500\n",
            "EarlyStopping counter: 79 out of 500\n",
            "EarlyStopping counter: 80 out of 500\n"
          ],
          "name": "stdout"
        },
        {
          "output_type": "stream",
          "text": [
            " 64%|██████▎   | 1591/2500 [00:55<00:31, 28.58it/s, entropy=10.558512, kl=0.0]"
          ],
          "name": "stderr"
        },
        {
          "output_type": "stream",
          "text": [
            "EarlyStopping counter: 81 out of 500\n",
            "EarlyStopping counter: 82 out of 500\n",
            "EarlyStopping counter: 83 out of 500\n",
            "EarlyStopping counter: 84 out of 500\n",
            "EarlyStopping counter: 85 out of 500\n",
            "EarlyStopping counter: 86 out of 500\n"
          ],
          "name": "stdout"
        },
        {
          "output_type": "stream",
          "text": [
            " 64%|██████▍   | 1598/2500 [00:55<00:31, 28.24it/s, entropy=10.571175, kl=0.0]       "
          ],
          "name": "stderr"
        },
        {
          "output_type": "stream",
          "text": [
            "EarlyStopping counter: 87 out of 500\n",
            "EarlyStopping counter: 88 out of 500\n",
            "EarlyStopping counter: 89 out of 500\n",
            "EarlyStopping counter: 90 out of 500\n",
            "EarlyStopping counter: 91 out of 500\n",
            "EarlyStopping counter: 92 out of 500\n"
          ],
          "name": "stdout"
        },
        {
          "output_type": "stream",
          "text": [
            " 64%|██████▍   | 1605/2500 [00:55<00:30, 29.20it/s, entropy=10.585941, kl=0.0]"
          ],
          "name": "stderr"
        },
        {
          "output_type": "stream",
          "text": [
            "EarlyStopping counter: 93 out of 500\n",
            "EarlyStopping counter: 94 out of 500\n",
            "EarlyStopping counter: 95 out of 500\n",
            "EarlyStopping counter: 96 out of 500\n",
            "EarlyStopping counter: 97 out of 500\n",
            "EarlyStopping counter: 98 out of 500\n",
            "EarlyStopping counter: 99 out of 500\n"
          ],
          "name": "stdout"
        },
        {
          "output_type": "stream",
          "text": [
            " 64%|██████▍   | 1611/2500 [00:56<00:31, 28.61it/s, entropy=10.598614, kl=0.0]"
          ],
          "name": "stderr"
        },
        {
          "output_type": "stream",
          "text": [
            "EarlyStopping counter: 100 out of 500\n",
            "EarlyStopping counter: 101 out of 500\n",
            "EarlyStopping counter: 102 out of 500\n",
            "EarlyStopping counter: 103 out of 500\n",
            "EarlyStopping counter: 104 out of 500\n",
            "EarlyStopping counter: 105 out of 500\n"
          ],
          "name": "stdout"
        },
        {
          "output_type": "stream",
          "text": [
            " 65%|██████▍   | 1617/2500 [00:56<00:30, 29.04it/s, entropy=10.611309, kl=0.0]"
          ],
          "name": "stderr"
        },
        {
          "output_type": "stream",
          "text": [
            "EarlyStopping counter: 106 out of 500\n",
            "EarlyStopping counter: 107 out of 500\n",
            "EarlyStopping counter: 108 out of 500\n",
            "EarlyStopping counter: 109 out of 500\n",
            "EarlyStopping counter: 110 out of 500\n",
            "EarlyStopping counter: 111 out of 500\n"
          ],
          "name": "stdout"
        },
        {
          "output_type": "stream",
          "text": [
            " 65%|██████▍   | 1623/2500 [00:56<00:30, 28.35it/s, entropy=10.624025, kl=0.0]"
          ],
          "name": "stderr"
        },
        {
          "output_type": "stream",
          "text": [
            "EarlyStopping counter: 112 out of 500\n",
            "EarlyStopping counter: 113 out of 500\n",
            "EarlyStopping counter: 114 out of 500\n",
            "EarlyStopping counter: 115 out of 500\n",
            "EarlyStopping counter: 116 out of 500\n",
            "EarlyStopping counter: 117 out of 500\n"
          ],
          "name": "stdout"
        },
        {
          "output_type": "stream",
          "text": [
            " 65%|██████▌   | 1629/2500 [00:56<00:30, 28.52it/s, entropy=10.636747, kl=0.0011243093]"
          ],
          "name": "stderr"
        },
        {
          "output_type": "stream",
          "text": [
            "EarlyStopping counter: 118 out of 500\n",
            "EarlyStopping counter: 119 out of 500\n",
            "EarlyStopping counter: 120 out of 500\n",
            "EarlyStopping counter: 121 out of 500\n",
            "EarlyStopping counter: 122 out of 500\n",
            "EarlyStopping counter: 123 out of 500\n"
          ],
          "name": "stdout"
        },
        {
          "output_type": "stream",
          "text": [
            " 65%|██████▌   | 1635/2500 [00:56<00:30, 28.79it/s, entropy=10.649485, kl=0.0]       "
          ],
          "name": "stderr"
        },
        {
          "output_type": "stream",
          "text": [
            "EarlyStopping counter: 124 out of 500\n",
            "EarlyStopping counter: 125 out of 500\n",
            "EarlyStopping counter: 126 out of 500\n",
            "EarlyStopping counter: 127 out of 500\n",
            "EarlyStopping counter: 128 out of 500\n",
            "EarlyStopping counter: 129 out of 500\n"
          ],
          "name": "stdout"
        },
        {
          "output_type": "stream",
          "text": [
            " 66%|██████▌   | 1641/2500 [00:57<00:29, 29.10it/s, entropy=10.662304, kl=0.009315108]"
          ],
          "name": "stderr"
        },
        {
          "output_type": "stream",
          "text": [
            "EarlyStopping counter: 130 out of 500\n",
            "EarlyStopping counter: 131 out of 500\n",
            "EarlyStopping counter: 132 out of 500\n",
            "EarlyStopping counter: 133 out of 500\n",
            "EarlyStopping counter: 134 out of 500\n",
            "EarlyStopping counter: 135 out of 500\n"
          ],
          "name": "stdout"
        },
        {
          "output_type": "stream",
          "text": [
            " 66%|██████▌   | 1647/2500 [00:57<00:29, 29.07it/s, entropy=10.675113, kl=0.0011243091]"
          ],
          "name": "stderr"
        },
        {
          "output_type": "stream",
          "text": [
            "EarlyStopping counter: 136 out of 500\n",
            "EarlyStopping counter: 137 out of 500\n",
            "EarlyStopping counter: 138 out of 500\n",
            "EarlyStopping counter: 139 out of 500\n",
            "EarlyStopping counter: 140 out of 500\n",
            "EarlyStopping counter: 141 out of 500\n"
          ],
          "name": "stdout"
        },
        {
          "output_type": "stream",
          "text": [
            " 66%|██████▌   | 1653/2500 [00:57<00:29, 28.62it/s, entropy=10.687919, kl=0.0011243091]"
          ],
          "name": "stderr"
        },
        {
          "output_type": "stream",
          "text": [
            "EarlyStopping counter: 142 out of 500\n",
            "EarlyStopping counter: 143 out of 500\n",
            "EarlyStopping counter: 144 out of 500\n",
            "EarlyStopping counter: 145 out of 500\n",
            "EarlyStopping counter: 146 out of 500\n",
            "EarlyStopping counter: 147 out of 500\n"
          ],
          "name": "stdout"
        },
        {
          "output_type": "stream",
          "text": [
            " 66%|██████▋   | 1660/2500 [00:57<00:28, 29.02it/s, entropy=10.700724, kl=0.0]"
          ],
          "name": "stderr"
        },
        {
          "output_type": "stream",
          "text": [
            "EarlyStopping counter: 148 out of 500\n",
            "EarlyStopping counter: 149 out of 500\n",
            "EarlyStopping counter: 150 out of 500\n",
            "EarlyStopping counter: 151 out of 500\n",
            "EarlyStopping counter: 152 out of 500\n",
            "EarlyStopping counter: 153 out of 500\n"
          ],
          "name": "stdout"
        },
        {
          "output_type": "stream",
          "text": [
            " 67%|██████▋   | 1663/2500 [00:57<00:29, 28.17it/s, entropy=10.713547, kl=0.0022486376]"
          ],
          "name": "stderr"
        },
        {
          "output_type": "stream",
          "text": [
            "EarlyStopping counter: 154 out of 500\n",
            "EarlyStopping counter: 155 out of 500\n",
            "EarlyStopping counter: 156 out of 500\n",
            "EarlyStopping counter: 157 out of 500\n",
            "EarlyStopping counter: 158 out of 500\n",
            "EarlyStopping counter: 159 out of 500\n"
          ],
          "name": "stdout"
        },
        {
          "output_type": "stream",
          "text": [
            " 67%|██████▋   | 1670/2500 [00:58<00:29, 28.43it/s, entropy=10.726389, kl=0.0]"
          ],
          "name": "stderr"
        },
        {
          "output_type": "stream",
          "text": [
            "EarlyStopping counter: 160 out of 500\n",
            "EarlyStopping counter: 161 out of 500\n",
            "EarlyStopping counter: 162 out of 500\n",
            "EarlyStopping counter: 163 out of 500\n",
            "EarlyStopping counter: 164 out of 500\n",
            "EarlyStopping counter: 165 out of 500\n"
          ],
          "name": "stdout"
        },
        {
          "output_type": "stream",
          "text": [
            " 67%|██████▋   | 1676/2500 [00:58<00:28, 28.89it/s, entropy=10.739249, kl=0.0]"
          ],
          "name": "stderr"
        },
        {
          "output_type": "stream",
          "text": [
            "EarlyStopping counter: 166 out of 500\n",
            "EarlyStopping counter: 167 out of 500\n",
            "EarlyStopping counter: 168 out of 500\n",
            "EarlyStopping counter: 169 out of 500\n",
            "EarlyStopping counter: 170 out of 500\n",
            "EarlyStopping counter: 171 out of 500\n"
          ],
          "name": "stdout"
        },
        {
          "output_type": "stream",
          "text": [
            " 67%|██████▋   | 1682/2500 [00:58<00:28, 28.54it/s, entropy=10.752127, kl=0.0]"
          ],
          "name": "stderr"
        },
        {
          "output_type": "stream",
          "text": [
            "EarlyStopping counter: 172 out of 500\n",
            "EarlyStopping counter: 173 out of 500\n",
            "EarlyStopping counter: 174 out of 500\n",
            "EarlyStopping counter: 175 out of 500\n",
            "EarlyStopping counter: 176 out of 500\n",
            "EarlyStopping counter: 177 out of 500\n"
          ],
          "name": "stdout"
        },
        {
          "output_type": "stream",
          "text": [
            " 68%|██████▊   | 1689/2500 [00:58<00:28, 28.92it/s, entropy=10.765022, kl=0.0]"
          ],
          "name": "stderr"
        },
        {
          "output_type": "stream",
          "text": [
            "EarlyStopping counter: 178 out of 500\n",
            "EarlyStopping counter: 179 out of 500\n",
            "EarlyStopping counter: 180 out of 500\n",
            "EarlyStopping counter: 181 out of 500\n",
            "EarlyStopping counter: 182 out of 500\n",
            "EarlyStopping counter: 183 out of 500\n",
            "EarlyStopping counter: 184 out of 500\n"
          ],
          "name": "stdout"
        },
        {
          "output_type": "stream",
          "text": [
            " 68%|██████▊   | 1696/2500 [00:59<00:27, 29.27it/s, entropy=10.782242, kl=0.0022486183]"
          ],
          "name": "stderr"
        },
        {
          "output_type": "stream",
          "text": [
            "EarlyStopping counter: 185 out of 500\n",
            "EarlyStopping counter: 186 out of 500\n",
            "EarlyStopping counter: 187 out of 500\n",
            "EarlyStopping counter: 188 out of 500\n",
            "EarlyStopping counter: 189 out of 500\n",
            "EarlyStopping counter: 190 out of 500\n",
            "EarlyStopping counter: 191 out of 500\n"
          ],
          "name": "stdout"
        },
        {
          "output_type": "stream",
          "text": [
            " 68%|██████▊   | 1702/2500 [00:59<00:27, 28.53it/s, entropy=10.795162, kl=0.0]"
          ],
          "name": "stderr"
        },
        {
          "output_type": "stream",
          "text": [
            "EarlyStopping counter: 192 out of 500\n",
            "EarlyStopping counter: 193 out of 500\n",
            "EarlyStopping counter: 194 out of 500\n",
            "EarlyStopping counter: 195 out of 500\n",
            "EarlyStopping counter: 196 out of 500\n",
            "EarlyStopping counter: 197 out of 500\n"
          ],
          "name": "stdout"
        },
        {
          "output_type": "stream",
          "text": [
            " 68%|██████▊   | 1708/2500 [00:59<00:28, 27.96it/s, entropy=10.808087, kl=0.0]       "
          ],
          "name": "stderr"
        },
        {
          "output_type": "stream",
          "text": [
            "EarlyStopping counter: 198 out of 500\n",
            "EarlyStopping counter: 199 out of 500\n",
            "EarlyStopping counter: 200 out of 500\n",
            "EarlyStopping counter: 201 out of 500\n",
            "EarlyStopping counter: 202 out of 500\n",
            "EarlyStopping counter: 203 out of 500\n"
          ],
          "name": "stdout"
        },
        {
          "output_type": "stream",
          "text": [
            " 69%|██████▊   | 1714/2500 [00:59<00:28, 27.68it/s, entropy=10.821029, kl=0.0]         "
          ],
          "name": "stderr"
        },
        {
          "output_type": "stream",
          "text": [
            "EarlyStopping counter: 204 out of 500\n",
            "EarlyStopping counter: 205 out of 500\n",
            "EarlyStopping counter: 206 out of 500\n",
            "EarlyStopping counter: 207 out of 500\n",
            "EarlyStopping counter: 208 out of 500\n",
            "EarlyStopping counter: 209 out of 500\n"
          ],
          "name": "stdout"
        },
        {
          "output_type": "stream",
          "text": [
            " 69%|██████▉   | 1720/2500 [00:59<00:27, 28.46it/s, entropy=10.833996, kl=0.0]         "
          ],
          "name": "stderr"
        },
        {
          "output_type": "stream",
          "text": [
            "EarlyStopping counter: 210 out of 500\n",
            "EarlyStopping counter: 211 out of 500\n",
            "EarlyStopping counter: 212 out of 500\n",
            "EarlyStopping counter: 213 out of 500\n",
            "EarlyStopping counter: 214 out of 500\n",
            "EarlyStopping counter: 215 out of 500\n"
          ],
          "name": "stdout"
        },
        {
          "output_type": "stream",
          "text": [
            " 69%|██████▉   | 1727/2500 [01:00<00:26, 28.99it/s, entropy=10.846983, kl=0.0]"
          ],
          "name": "stderr"
        },
        {
          "output_type": "stream",
          "text": [
            "EarlyStopping counter: 216 out of 500\n",
            "EarlyStopping counter: 217 out of 500\n",
            "EarlyStopping counter: 218 out of 500\n",
            "EarlyStopping counter: 219 out of 500\n",
            "EarlyStopping counter: 220 out of 500\n",
            "EarlyStopping counter: 221 out of 500\n"
          ],
          "name": "stdout"
        },
        {
          "output_type": "stream",
          "text": [
            " 69%|██████▉   | 1733/2500 [01:00<00:26, 28.88it/s, entropy=10.859997, kl=0.0]"
          ],
          "name": "stderr"
        },
        {
          "output_type": "stream",
          "text": [
            "EarlyStopping counter: 222 out of 500\n",
            "EarlyStopping counter: 223 out of 500\n",
            "EarlyStopping counter: 224 out of 500\n",
            "EarlyStopping counter: 225 out of 500\n",
            "EarlyStopping counter: 226 out of 500\n",
            "EarlyStopping counter: 227 out of 500\n"
          ],
          "name": "stdout"
        },
        {
          "output_type": "stream",
          "text": [
            " 70%|██████▉   | 1739/2500 [01:00<00:26, 29.25it/s, entropy=10.873034, kl=-3.6379788e-20]"
          ],
          "name": "stderr"
        },
        {
          "output_type": "stream",
          "text": [
            "EarlyStopping counter: 228 out of 500\n",
            "EarlyStopping counter: 229 out of 500\n",
            "EarlyStopping counter: 230 out of 500\n",
            "EarlyStopping counter: 231 out of 500\n",
            "EarlyStopping counter: 232 out of 500\n",
            "EarlyStopping counter: 233 out of 500\n"
          ],
          "name": "stdout"
        },
        {
          "output_type": "stream",
          "text": [
            " 70%|██████▉   | 1745/2500 [01:00<00:26, 28.30it/s, entropy=10.886081, kl=0.0]"
          ],
          "name": "stderr"
        },
        {
          "output_type": "stream",
          "text": [
            "EarlyStopping counter: 234 out of 500\n",
            "EarlyStopping counter: 235 out of 500\n",
            "EarlyStopping counter: 236 out of 500\n",
            "EarlyStopping counter: 237 out of 500\n",
            "EarlyStopping counter: 238 out of 500\n",
            "EarlyStopping counter: 239 out of 500\n"
          ],
          "name": "stdout"
        },
        {
          "output_type": "stream",
          "text": [
            " 70%|███████   | 1751/2500 [01:00<00:26, 28.26it/s, entropy=10.89913, kl=0.0011243091]"
          ],
          "name": "stderr"
        },
        {
          "output_type": "stream",
          "text": [
            "EarlyStopping counter: 240 out of 500\n",
            "EarlyStopping counter: 241 out of 500\n",
            "EarlyStopping counter: 242 out of 500\n",
            "EarlyStopping counter: 243 out of 500\n",
            "EarlyStopping counter: 244 out of 500\n",
            "EarlyStopping counter: 245 out of 500\n"
          ],
          "name": "stdout"
        },
        {
          "output_type": "stream",
          "text": [
            " 70%|███████   | 1757/2500 [01:01<00:26, 28.38it/s, entropy=10.912182, kl=0.0]"
          ],
          "name": "stderr"
        },
        {
          "output_type": "stream",
          "text": [
            "EarlyStopping counter: 246 out of 500\n",
            "EarlyStopping counter: 247 out of 500\n",
            "EarlyStopping counter: 248 out of 500\n",
            "EarlyStopping counter: 249 out of 500\n",
            "EarlyStopping counter: 250 out of 500\n",
            "EarlyStopping counter: 251 out of 500\n"
          ],
          "name": "stdout"
        },
        {
          "output_type": "stream",
          "text": [
            " 71%|███████   | 1763/2500 [01:01<00:25, 28.89it/s, entropy=10.9252615, kl=0.002248618]"
          ],
          "name": "stderr"
        },
        {
          "output_type": "stream",
          "text": [
            "EarlyStopping counter: 252 out of 500\n",
            "EarlyStopping counter: 253 out of 500\n",
            "EarlyStopping counter: 254 out of 500\n",
            "EarlyStopping counter: 255 out of 500\n",
            "EarlyStopping counter: 256 out of 500\n",
            "EarlyStopping counter: 257 out of 500\n"
          ],
          "name": "stdout"
        },
        {
          "output_type": "stream",
          "text": [
            " 71%|███████   | 1769/2500 [01:01<00:25, 29.18it/s, entropy=10.9383545, kl=0.0]        "
          ],
          "name": "stderr"
        },
        {
          "output_type": "stream",
          "text": [
            "EarlyStopping counter: 258 out of 500\n",
            "EarlyStopping counter: 259 out of 500\n",
            "EarlyStopping counter: 260 out of 500\n",
            "EarlyStopping counter: 261 out of 500\n",
            "EarlyStopping counter: 262 out of 500\n",
            "EarlyStopping counter: 263 out of 500\n"
          ],
          "name": "stdout"
        },
        {
          "output_type": "stream",
          "text": [
            " 71%|███████   | 1775/2500 [01:01<00:25, 28.40it/s, entropy=10.9514675, kl=0.0]      "
          ],
          "name": "stderr"
        },
        {
          "output_type": "stream",
          "text": [
            "EarlyStopping counter: 264 out of 500\n",
            "EarlyStopping counter: 265 out of 500\n",
            "EarlyStopping counter: 266 out of 500\n",
            "EarlyStopping counter: 267 out of 500\n",
            "EarlyStopping counter: 268 out of 500\n",
            "EarlyStopping counter: 269 out of 500\n"
          ],
          "name": "stdout"
        },
        {
          "output_type": "stream",
          "text": [
            " 71%|███████   | 1781/2500 [01:02<00:24, 29.04it/s, entropy=10.964602, kl=0.0]"
          ],
          "name": "stderr"
        },
        {
          "output_type": "stream",
          "text": [
            "EarlyStopping counter: 270 out of 500\n",
            "EarlyStopping counter: 271 out of 500\n",
            "EarlyStopping counter: 272 out of 500\n",
            "EarlyStopping counter: 273 out of 500\n",
            "EarlyStopping counter: 274 out of 500\n",
            "EarlyStopping counter: 275 out of 500\n",
            "EarlyStopping counter: 276 out of 500\n"
          ],
          "name": "stdout"
        },
        {
          "output_type": "stream",
          "text": [
            " 71%|███████▏  | 1787/2500 [01:02<00:24, 29.00it/s, entropy=10.979858, kl=0.0]       "
          ],
          "name": "stderr"
        },
        {
          "output_type": "stream",
          "text": [
            "EarlyStopping counter: 277 out of 500\n",
            "EarlyStopping counter: 278 out of 500\n",
            "EarlyStopping counter: 279 out of 500\n",
            "EarlyStopping counter: 280 out of 500\n",
            "EarlyStopping counter: 281 out of 500\n",
            "EarlyStopping counter: 282 out of 500\n"
          ],
          "name": "stdout"
        },
        {
          "output_type": "stream",
          "text": [
            " 72%|███████▏  | 1794/2500 [01:02<00:23, 29.46it/s, entropy=10.9929495, kl=0.014619657]"
          ],
          "name": "stderr"
        },
        {
          "output_type": "stream",
          "text": [
            "EarlyStopping counter: 283 out of 500\n",
            "EarlyStopping counter: 284 out of 500\n",
            "EarlyStopping counter: 285 out of 500\n",
            "EarlyStopping counter: 286 out of 500\n",
            "EarlyStopping counter: 287 out of 500\n",
            "EarlyStopping counter: 288 out of 500\n",
            "EarlyStopping counter: 289 out of 500\n"
          ],
          "name": "stdout"
        },
        {
          "output_type": "stream",
          "text": [
            " 72%|███████▏  | 1800/2500 [01:02<00:24, 29.01it/s, entropy=11.008284, kl=0.0]"
          ],
          "name": "stderr"
        },
        {
          "output_type": "stream",
          "text": [
            "EarlyStopping counter: 290 out of 500\n",
            "EarlyStopping counter: 291 out of 500\n",
            "EarlyStopping counter: 292 out of 500\n",
            "EarlyStopping counter: 293 out of 500\n",
            "EarlyStopping counter: 294 out of 500\n",
            "EarlyStopping counter: 295 out of 500\n"
          ],
          "name": "stdout"
        },
        {
          "output_type": "stream",
          "text": [
            " 72%|███████▏  | 1806/2500 [01:02<00:24, 28.14it/s, entropy=11.021462, kl=0.0]"
          ],
          "name": "stderr"
        },
        {
          "output_type": "stream",
          "text": [
            "EarlyStopping counter: 296 out of 500\n",
            "EarlyStopping counter: 297 out of 500\n",
            "EarlyStopping counter: 298 out of 500\n",
            "EarlyStopping counter: 299 out of 500\n",
            "EarlyStopping counter: 300 out of 500\n",
            "EarlyStopping counter: 301 out of 500\n"
          ],
          "name": "stdout"
        },
        {
          "output_type": "stream",
          "text": [
            " 73%|███████▎  | 1813/2500 [01:03<00:23, 28.79it/s, entropy=11.034666, kl=0.0]        "
          ],
          "name": "stderr"
        },
        {
          "output_type": "stream",
          "text": [
            "EarlyStopping counter: 302 out of 500\n",
            "EarlyStopping counter: 303 out of 500\n",
            "EarlyStopping counter: 304 out of 500\n",
            "EarlyStopping counter: 305 out of 500\n",
            "EarlyStopping counter: 306 out of 500\n",
            "EarlyStopping counter: 307 out of 500\n",
            "EarlyStopping counter: 308 out of 500\n"
          ],
          "name": "stdout"
        },
        {
          "output_type": "stream",
          "text": [
            " 73%|███████▎  | 1819/2500 [01:03<00:23, 29.09it/s, entropy=11.050106, kl=0.0011243097]"
          ],
          "name": "stderr"
        },
        {
          "output_type": "stream",
          "text": [
            "EarlyStopping counter: 309 out of 500\n",
            "EarlyStopping counter: 310 out of 500\n",
            "EarlyStopping counter: 311 out of 500\n",
            "EarlyStopping counter: 312 out of 500\n",
            "EarlyStopping counter: 313 out of 500\n",
            "EarlyStopping counter: 314 out of 500\n"
          ],
          "name": "stdout"
        },
        {
          "output_type": "stream",
          "text": [
            " 73%|███████▎  | 1825/2500 [01:03<00:23, 28.84it/s, entropy=11.063358, kl=0.0]        "
          ],
          "name": "stderr"
        },
        {
          "output_type": "stream",
          "text": [
            "EarlyStopping counter: 315 out of 500\n",
            "EarlyStopping counter: 316 out of 500\n",
            "EarlyStopping counter: 317 out of 500\n",
            "EarlyStopping counter: 318 out of 500\n",
            "EarlyStopping counter: 319 out of 500\n",
            "EarlyStopping counter: 320 out of 500\n"
          ],
          "name": "stdout"
        },
        {
          "output_type": "stream",
          "text": [
            " 73%|███████▎  | 1831/2500 [01:03<00:23, 28.18it/s, entropy=11.076614, kl=0.0027262024]"
          ],
          "name": "stderr"
        },
        {
          "output_type": "stream",
          "text": [
            "EarlyStopping counter: 321 out of 500\n",
            "EarlyStopping counter: 322 out of 500\n",
            "EarlyStopping counter: 323 out of 500\n",
            "EarlyStopping counter: 324 out of 500\n",
            "EarlyStopping counter: 325 out of 500\n",
            "EarlyStopping counter: 326 out of 500\n"
          ],
          "name": "stdout"
        },
        {
          "output_type": "stream",
          "text": [
            " 73%|███████▎  | 1837/2500 [01:03<00:23, 28.78it/s, entropy=11.089855, kl=0.021885835]"
          ],
          "name": "stderr"
        },
        {
          "output_type": "stream",
          "text": [
            "EarlyStopping counter: 327 out of 500\n",
            "EarlyStopping counter: 328 out of 500\n",
            "EarlyStopping counter: 329 out of 500\n",
            "EarlyStopping counter: 330 out of 500\n",
            "EarlyStopping counter: 331 out of 500\n",
            "EarlyStopping counter: 332 out of 500\n"
          ],
          "name": "stdout"
        },
        {
          "output_type": "stream",
          "text": [
            " 74%|███████▍  | 1844/2500 [01:04<00:22, 29.13it/s, entropy=11.10312, kl=0.0] "
          ],
          "name": "stderr"
        },
        {
          "output_type": "stream",
          "text": [
            "EarlyStopping counter: 333 out of 500\n",
            "EarlyStopping counter: 334 out of 500\n",
            "EarlyStopping counter: 335 out of 500\n",
            "EarlyStopping counter: 336 out of 500\n",
            "EarlyStopping counter: 337 out of 500\n",
            "EarlyStopping counter: 338 out of 500\n"
          ],
          "name": "stdout"
        },
        {
          "output_type": "stream",
          "text": [
            " 74%|███████▍  | 1850/2500 [01:04<00:22, 28.58it/s, entropy=11.116391, kl=0.0]         "
          ],
          "name": "stderr"
        },
        {
          "output_type": "stream",
          "text": [
            "EarlyStopping counter: 339 out of 500\n",
            "EarlyStopping counter: 340 out of 500\n",
            "EarlyStopping counter: 341 out of 500\n",
            "EarlyStopping counter: 342 out of 500\n",
            "EarlyStopping counter: 343 out of 500\n",
            "EarlyStopping counter: 344 out of 500\n"
          ],
          "name": "stdout"
        },
        {
          "output_type": "stream",
          "text": [
            " 74%|███████▍  | 1857/2500 [01:04<00:22, 29.19it/s, entropy=11.131916, kl=0.0]"
          ],
          "name": "stderr"
        },
        {
          "output_type": "stream",
          "text": [
            "EarlyStopping counter: 345 out of 500\n",
            "EarlyStopping counter: 346 out of 500\n",
            "EarlyStopping counter: 347 out of 500\n",
            "EarlyStopping counter: 348 out of 500\n",
            "EarlyStopping counter: 349 out of 500\n",
            "EarlyStopping counter: 350 out of 500\n",
            "EarlyStopping counter: 351 out of 500\n"
          ],
          "name": "stdout"
        },
        {
          "output_type": "stream",
          "text": [
            " 75%|███████▍  | 1863/2500 [01:04<00:22, 28.59it/s, entropy=11.145252, kl=0.0]"
          ],
          "name": "stderr"
        },
        {
          "output_type": "stream",
          "text": [
            "EarlyStopping counter: 352 out of 500\n",
            "EarlyStopping counter: 353 out of 500\n",
            "EarlyStopping counter: 354 out of 500\n",
            "EarlyStopping counter: 355 out of 500\n",
            "EarlyStopping counter: 356 out of 500\n",
            "EarlyStopping counter: 357 out of 500\n"
          ],
          "name": "stdout"
        },
        {
          "output_type": "stream",
          "text": [
            " 75%|███████▍  | 1869/2500 [01:05<00:21, 29.03it/s, entropy=11.158613, kl=0.0]        "
          ],
          "name": "stderr"
        },
        {
          "output_type": "stream",
          "text": [
            "EarlyStopping counter: 358 out of 500\n",
            "EarlyStopping counter: 359 out of 500\n",
            "EarlyStopping counter: 360 out of 500\n",
            "EarlyStopping counter: 361 out of 500\n",
            "EarlyStopping counter: 362 out of 500\n",
            "EarlyStopping counter: 363 out of 500\n"
          ],
          "name": "stdout"
        },
        {
          "output_type": "stream",
          "text": [
            " 75%|███████▌  | 1875/2500 [01:05<00:21, 29.21it/s, entropy=11.171987, kl=1.515882e-09]"
          ],
          "name": "stderr"
        },
        {
          "output_type": "stream",
          "text": [
            "EarlyStopping counter: 364 out of 500\n",
            "EarlyStopping counter: 365 out of 500\n",
            "EarlyStopping counter: 366 out of 500\n",
            "EarlyStopping counter: 367 out of 500\n",
            "EarlyStopping counter: 368 out of 500\n",
            "EarlyStopping counter: 369 out of 500\n"
          ],
          "name": "stdout"
        },
        {
          "output_type": "stream",
          "text": [
            " 75%|███████▌  | 1882/2500 [01:05<00:20, 29.63it/s, entropy=11.187591, kl=0.0]       "
          ],
          "name": "stderr"
        },
        {
          "output_type": "stream",
          "text": [
            "EarlyStopping counter: 370 out of 500\n",
            "EarlyStopping counter: 371 out of 500\n",
            "EarlyStopping counter: 372 out of 500\n",
            "EarlyStopping counter: 373 out of 500\n",
            "EarlyStopping counter: 374 out of 500\n",
            "EarlyStopping counter: 375 out of 500\n",
            "EarlyStopping counter: 376 out of 500\n"
          ],
          "name": "stdout"
        },
        {
          "output_type": "stream",
          "text": [
            " 76%|███████▌  | 1888/2500 [01:05<00:20, 29.24it/s, entropy=11.200989, kl=0.0]"
          ],
          "name": "stderr"
        },
        {
          "output_type": "stream",
          "text": [
            "EarlyStopping counter: 377 out of 500\n",
            "EarlyStopping counter: 378 out of 500\n",
            "EarlyStopping counter: 379 out of 500\n",
            "EarlyStopping counter: 380 out of 500\n",
            "EarlyStopping counter: 381 out of 500\n",
            "EarlyStopping counter: 382 out of 500\n"
          ],
          "name": "stdout"
        },
        {
          "output_type": "stream",
          "text": [
            " 76%|███████▌  | 1894/2500 [01:05<00:21, 28.55it/s, entropy=11.214404, kl=0.0]"
          ],
          "name": "stderr"
        },
        {
          "output_type": "stream",
          "text": [
            "EarlyStopping counter: 383 out of 500\n",
            "EarlyStopping counter: 384 out of 500\n",
            "EarlyStopping counter: 385 out of 500\n",
            "EarlyStopping counter: 386 out of 500\n",
            "EarlyStopping counter: 387 out of 500\n",
            "EarlyStopping counter: 388 out of 500\n"
          ],
          "name": "stdout"
        },
        {
          "output_type": "stream",
          "text": [
            " 76%|███████▌  | 1900/2500 [01:06<00:20, 28.75it/s, entropy=11.227831, kl=0.0]        "
          ],
          "name": "stderr"
        },
        {
          "output_type": "stream",
          "text": [
            "EarlyStopping counter: 389 out of 500\n",
            "EarlyStopping counter: 390 out of 500\n",
            "EarlyStopping counter: 391 out of 500\n",
            "EarlyStopping counter: 392 out of 500\n",
            "EarlyStopping counter: 393 out of 500\n",
            "EarlyStopping counter: 394 out of 500\n"
          ],
          "name": "stdout"
        },
        {
          "output_type": "stream",
          "text": [
            " 76%|███████▌  | 1906/2500 [01:06<00:20, 28.69it/s, entropy=11.241285, kl=0.0]"
          ],
          "name": "stderr"
        },
        {
          "output_type": "stream",
          "text": [
            "EarlyStopping counter: 395 out of 500\n",
            "EarlyStopping counter: 396 out of 500\n",
            "EarlyStopping counter: 397 out of 500\n",
            "EarlyStopping counter: 398 out of 500\n",
            "EarlyStopping counter: 399 out of 500\n",
            "EarlyStopping counter: 400 out of 500\n"
          ],
          "name": "stdout"
        },
        {
          "output_type": "stream",
          "text": [
            " 76%|███████▋  | 1912/2500 [01:06<00:20, 29.11it/s, entropy=11.254759, kl=0.0011243]"
          ],
          "name": "stderr"
        },
        {
          "output_type": "stream",
          "text": [
            "EarlyStopping counter: 401 out of 500\n",
            "EarlyStopping counter: 402 out of 500\n",
            "EarlyStopping counter: 403 out of 500\n",
            "EarlyStopping counter: 404 out of 500\n",
            "EarlyStopping counter: 405 out of 500\n",
            "EarlyStopping counter: 406 out of 500\n"
          ],
          "name": "stdout"
        },
        {
          "output_type": "stream",
          "text": [
            " 77%|███████▋  | 1918/2500 [01:06<00:20, 28.38it/s, entropy=11.268251, kl=0.0]"
          ],
          "name": "stderr"
        },
        {
          "output_type": "stream",
          "text": [
            "EarlyStopping counter: 407 out of 500\n",
            "EarlyStopping counter: 408 out of 500\n",
            "EarlyStopping counter: 409 out of 500\n",
            "EarlyStopping counter: 410 out of 500\n",
            "EarlyStopping counter: 411 out of 500\n",
            "EarlyStopping counter: 412 out of 500\n"
          ],
          "name": "stdout"
        },
        {
          "output_type": "stream",
          "text": [
            " 77%|███████▋  | 1924/2500 [01:06<00:20, 28.28it/s, entropy=11.281765, kl=0.0]"
          ],
          "name": "stderr"
        },
        {
          "output_type": "stream",
          "text": [
            "EarlyStopping counter: 413 out of 500\n",
            "EarlyStopping counter: 414 out of 500\n",
            "EarlyStopping counter: 415 out of 500\n",
            "EarlyStopping counter: 416 out of 500\n",
            "EarlyStopping counter: 417 out of 500\n",
            "EarlyStopping counter: 418 out of 500\n"
          ],
          "name": "stdout"
        },
        {
          "output_type": "stream",
          "text": [
            " 77%|███████▋  | 1930/2500 [01:07<00:19, 28.79it/s, entropy=11.2953, kl=0.31969053]    "
          ],
          "name": "stderr"
        },
        {
          "output_type": "stream",
          "text": [
            "EarlyStopping counter: 419 out of 500\n",
            "EarlyStopping counter: 420 out of 500\n",
            "EarlyStopping counter: 421 out of 500\n",
            "EarlyStopping counter: 422 out of 500\n",
            "EarlyStopping counter: 423 out of 500\n",
            "EarlyStopping counter: 424 out of 500\n"
          ],
          "name": "stdout"
        },
        {
          "output_type": "stream",
          "text": [
            " 77%|███████▋  | 1936/2500 [01:07<00:19, 29.32it/s, entropy=11.311063, kl=0.06764336]"
          ],
          "name": "stderr"
        },
        {
          "output_type": "stream",
          "text": [
            "EarlyStopping counter: 425 out of 500\n",
            "EarlyStopping counter: 426 out of 500\n",
            "EarlyStopping counter: 427 out of 500\n",
            "EarlyStopping counter: 428 out of 500\n",
            "EarlyStopping counter: 429 out of 500\n",
            "EarlyStopping counter: 430 out of 500\n",
            "EarlyStopping counter: 431 out of 500\n"
          ],
          "name": "stdout"
        },
        {
          "output_type": "stream",
          "text": [
            " 78%|███████▊  | 1942/2500 [01:07<00:19, 29.31it/s, entropy=11.324596, kl=0.0]"
          ],
          "name": "stderr"
        },
        {
          "output_type": "stream",
          "text": [
            "EarlyStopping counter: 432 out of 500\n",
            "EarlyStopping counter: 433 out of 500\n",
            "EarlyStopping counter: 434 out of 500\n",
            "EarlyStopping counter: 435 out of 500\n",
            "EarlyStopping counter: 436 out of 500\n",
            "EarlyStopping counter: 437 out of 500\n",
            "EarlyStopping counter: 438 out of 500\n"
          ],
          "name": "stdout"
        },
        {
          "output_type": "stream",
          "text": [
            " 78%|███████▊  | 1949/2500 [01:07<00:19, 28.37it/s, entropy=11.340418, kl=0.0]       "
          ],
          "name": "stderr"
        },
        {
          "output_type": "stream",
          "text": [
            "EarlyStopping counter: 439 out of 500\n",
            "EarlyStopping counter: 440 out of 500\n",
            "EarlyStopping counter: 441 out of 500\n",
            "EarlyStopping counter: 442 out of 500\n",
            "EarlyStopping counter: 443 out of 500\n",
            "EarlyStopping counter: 444 out of 500\n"
          ],
          "name": "stdout"
        },
        {
          "output_type": "stream",
          "text": [
            " 78%|███████▊  | 1955/2500 [01:08<00:19, 27.96it/s, entropy=11.353996, kl=0.0]"
          ],
          "name": "stderr"
        },
        {
          "output_type": "stream",
          "text": [
            "EarlyStopping counter: 445 out of 500\n",
            "EarlyStopping counter: 446 out of 500\n",
            "EarlyStopping counter: 447 out of 500\n",
            "EarlyStopping counter: 448 out of 500\n",
            "EarlyStopping counter: 449 out of 500\n",
            "EarlyStopping counter: 450 out of 500\n"
          ],
          "name": "stdout"
        },
        {
          "output_type": "stream",
          "text": [
            " 78%|███████▊  | 1961/2500 [01:08<00:18, 28.69it/s, entropy=11.3675995, kl=0.0]       "
          ],
          "name": "stderr"
        },
        {
          "output_type": "stream",
          "text": [
            "EarlyStopping counter: 451 out of 500\n",
            "EarlyStopping counter: 452 out of 500\n",
            "EarlyStopping counter: 453 out of 500\n",
            "EarlyStopping counter: 454 out of 500\n",
            "EarlyStopping counter: 455 out of 500\n",
            "EarlyStopping counter: 456 out of 500\n"
          ],
          "name": "stdout"
        },
        {
          "output_type": "stream",
          "text": [
            " 79%|███████▊  | 1967/2500 [01:08<00:18, 29.19it/s, entropy=11.381224, kl=0.0]"
          ],
          "name": "stderr"
        },
        {
          "output_type": "stream",
          "text": [
            "EarlyStopping counter: 457 out of 500\n",
            "EarlyStopping counter: 458 out of 500\n",
            "EarlyStopping counter: 459 out of 500\n",
            "EarlyStopping counter: 460 out of 500\n",
            "EarlyStopping counter: 461 out of 500\n",
            "EarlyStopping counter: 462 out of 500\n"
          ],
          "name": "stdout"
        },
        {
          "output_type": "stream",
          "text": [
            " 79%|███████▉  | 1974/2500 [01:08<00:17, 29.48it/s, entropy=11.394955, kl=0.54184014]"
          ],
          "name": "stderr"
        },
        {
          "output_type": "stream",
          "text": [
            "EarlyStopping counter: 463 out of 500\n",
            "EarlyStopping counter: 464 out of 500\n",
            "EarlyStopping counter: 465 out of 500\n",
            "EarlyStopping counter: 466 out of 500\n",
            "EarlyStopping counter: 467 out of 500\n",
            "EarlyStopping counter: 468 out of 500\n"
          ],
          "name": "stdout"
        },
        {
          "output_type": "stream",
          "text": [
            " 79%|███████▉  | 1981/2500 [01:08<00:18, 28.82it/s, entropy=11.408674, kl=0.0]"
          ],
          "name": "stderr"
        },
        {
          "output_type": "stream",
          "text": [
            "EarlyStopping counter: 469 out of 500\n",
            "EarlyStopping counter: 470 out of 500\n",
            "EarlyStopping counter: 471 out of 500\n",
            "EarlyStopping counter: 472 out of 500\n",
            "EarlyStopping counter: 473 out of 500\n",
            "EarlyStopping counter: 474 out of 500\n"
          ],
          "name": "stdout"
        },
        {
          "output_type": "stream",
          "text": [
            " 80%|███████▉  | 1988/2500 [01:09<00:17, 29.09it/s, entropy=11.424651, kl=0.0]"
          ],
          "name": "stderr"
        },
        {
          "output_type": "stream",
          "text": [
            "EarlyStopping counter: 475 out of 500\n",
            "EarlyStopping counter: 476 out of 500\n",
            "EarlyStopping counter: 477 out of 500\n",
            "EarlyStopping counter: 478 out of 500\n",
            "EarlyStopping counter: 479 out of 500\n",
            "EarlyStopping counter: 480 out of 500\n",
            "EarlyStopping counter: 481 out of 500\n"
          ],
          "name": "stdout"
        },
        {
          "output_type": "stream",
          "text": [
            " 80%|███████▉  | 1991/2500 [01:09<00:17, 29.02it/s, entropy=11.440628, kl=0.0]"
          ],
          "name": "stderr"
        },
        {
          "output_type": "stream",
          "text": [
            "EarlyStopping counter: 482 out of 500\n",
            "EarlyStopping counter: 483 out of 500\n",
            "EarlyStopping counter: 484 out of 500\n",
            "EarlyStopping counter: 485 out of 500\n",
            "EarlyStopping counter: 486 out of 500\n",
            "EarlyStopping counter: 487 out of 500\n",
            "EarlyStopping counter: 488 out of 500\n"
          ],
          "name": "stdout"
        },
        {
          "output_type": "stream",
          "text": [
            " 80%|████████  | 2001/2500 [01:09<00:17, 29.29it/s, entropy=11.454339, kl=0.0]"
          ],
          "name": "stderr"
        },
        {
          "output_type": "stream",
          "text": [
            "EarlyStopping counter: 489 out of 500\n",
            "EarlyStopping counter: 490 out of 500\n",
            "EarlyStopping counter: 491 out of 500\n",
            "EarlyStopping counter: 492 out of 500\n",
            "EarlyStopping counter: 493 out of 500\n",
            "EarlyStopping counter: 494 out of 500\n"
          ],
          "name": "stdout"
        },
        {
          "output_type": "stream",
          "text": [
            " 80%|████████  | 2004/2500 [01:09<00:16, 29.34it/s, entropy=11.465776, kl=0.13200986]\n",
            "  0%|          | 0/10 [00:00<?, ?it/s]\u001b[A"
          ],
          "name": "stderr"
        },
        {
          "output_type": "stream",
          "text": [
            "EarlyStopping counter: 495 out of 500\n",
            "EarlyStopping counter: 496 out of 500\n",
            "EarlyStopping counter: 497 out of 500\n",
            "EarlyStopping counter: 498 out of 500\n",
            "EarlyStopping counter: 499 out of 500\n",
            "EarlyStopping counter: 500 out of 500\n",
            "Early stopping\n",
            "-----------------------------------------------------------------\n",
            "Evaluate model...\n"
          ],
          "name": "stdout"
        },
        {
          "output_type": "stream",
          "text": [
            "\n",
            "  0%|          | 0/10 [00:02<?, ?it/s, entropy=11.470348, kl=0.0, loss=11.470348]\u001b[A\n",
            "  0%|          | 0/10 [00:04<?, ?it/s, entropy=11.470348, kl=0.3958702, loss=11.074478]\u001b[A\n",
            "  0%|          | 0/10 [00:06<?, ?it/s, entropy=11.470348, kl=0.0, loss=11.470348]      \u001b[A\n",
            " 80%|████████  | 2004/2500 [01:20<00:16, 29.34it/s, entropy=11.465776, kl=0.13200986]\n",
            "  0%|          | 0/10 [00:11<?, ?it/s, entropy=11.470348, kl=0.0, loss=11.470348]\u001b[A\n",
            "  0%|          | 0/10 [00:13<?, ?it/s, entropy=11.470348, kl=0.0, loss=11.470348]\u001b[A\n",
            "  0%|          | 0/10 [00:16<?, ?it/s, entropy=11.470348, kl=0.0, loss=11.470348]\u001b[A\n",
            "  0%|          | 0/10 [00:18<?, ?it/s, entropy=11.470348, kl=0.0, loss=11.470348]\u001b[A\n",
            "  0%|          | 0/10 [00:20<?, ?it/s, entropy=11.470348, kl=0.0, loss=11.470348]\u001b[A\n",
            "  0%|          | 0/10 [00:22<?, ?it/s, entropy=11.470348, kl=0.0, loss=11.470348]\u001b[A\n",
            "  0%|          | 0/10 [00:25<?, ?it/s, entropy=11.470348, kl=0.0, loss=11.470348]\u001b[A\n",
            "  0%|          | 0/10 [00:27<?, ?it/s, entropy=11.470348, kl=0.0, loss=11.470348]\u001b[A\n",
            "  0%|          | 0/10 [00:29<?, ?it/s, entropy=11.470348, kl=0.0, loss=11.470348]\u001b[A\n",
            "  0%|          | 0/10 [00:32<?, ?it/s, entropy=11.470348, kl=0.05396684, loss=11.416382]\u001b[A\n",
            "  0%|          | 0/10 [00:34<?, ?it/s, entropy=11.470348, kl=0.0, loss=11.470348]       \u001b[A\n",
            "  0%|          | 0/10 [00:36<?, ?it/s, entropy=11.470348, kl=0.0, loss=11.470348]\u001b[A\n",
            "  0%|          | 0/10 [00:39<?, ?it/s, entropy=11.470348, kl=0.0, loss=11.470348]\u001b[A\n",
            "  0%|          | 0/10 [00:41<?, ?it/s, entropy=11.470348, kl=0.0, loss=11.470348]\u001b[A\n",
            "  0%|          | 0/10 [00:43<?, ?it/s, entropy=11.470348, kl=0.0, loss=11.470348]\u001b[A\n",
            "  0%|          | 0/10 [00:45<?, ?it/s, entropy=11.470348, kl=0.0, loss=11.470348]\u001b[A\n",
            "  0%|          | 0/10 [00:48<?, ?it/s, entropy=11.470348, kl=0.0, loss=11.470348]\u001b[A\n",
            "  0%|          | 0/10 [00:50<?, ?it/s, entropy=11.470348, kl=0.0, loss=11.470348]\u001b[A\n",
            "  0%|          | 0/10 [00:52<?, ?it/s, entropy=11.470348, kl=0.0, loss=11.470348]\u001b[A\n",
            "  0%|          | 0/10 [00:55<?, ?it/s, entropy=11.470348, kl=0.0, loss=11.470348]\u001b[A\n",
            "  0%|          | 0/10 [00:57<?, ?it/s, entropy=11.470348, kl=0.0, loss=11.470348]\u001b[A\n",
            "  0%|          | 0/10 [00:59<?, ?it/s, entropy=11.470348, kl=0.0, loss=11.470348]\u001b[A\n",
            "  0%|          | 0/10 [01:02<?, ?it/s, entropy=11.470348, kl=0.0, loss=11.470348]\u001b[A\n",
            "  0%|          | 0/10 [01:04<?, ?it/s, entropy=11.470348, kl=0.0, loss=11.470348]\u001b[A\n",
            "  0%|          | 0/10 [01:06<?, ?it/s, entropy=11.470348, kl=0.0, loss=11.470348]\u001b[A\n",
            "  0%|          | 0/10 [01:08<?, ?it/s, entropy=11.470348, kl=0.0, loss=11.470348]\u001b[A\n",
            "  0%|          | 0/10 [01:11<?, ?it/s, entropy=11.470348, kl=0.0, loss=11.470348]\u001b[A\n",
            "  0%|          | 0/10 [01:13<?, ?it/s, entropy=11.470348, kl=0.0, loss=11.470348]\u001b[A\n",
            "  0%|          | 0/10 [01:15<?, ?it/s, entropy=11.470348, kl=0.0, loss=11.470348]\u001b[A\n",
            "  0%|          | 0/10 [01:18<?, ?it/s, entropy=11.470348, kl=0.0, loss=11.470348]\u001b[A\n",
            "  0%|          | 0/10 [01:20<?, ?it/s, entropy=11.470348, kl=0.0, loss=11.470348]\u001b[A\n",
            "  0%|          | 0/10 [01:22<?, ?it/s, entropy=11.470348, kl=0.0, loss=11.470348]\u001b[A\n",
            "  0%|          | 0/10 [01:24<?, ?it/s, entropy=11.470348, kl=0.0, loss=11.470348]\u001b[A\n",
            "  0%|          | 0/10 [01:27<?, ?it/s, entropy=11.470348, kl=0.0, loss=11.470348]\u001b[A\n",
            "  0%|          | 0/10 [01:29<?, ?it/s, entropy=11.470348, kl=0.0, loss=11.470348]\u001b[A\n",
            "  0%|          | 0/10 [01:31<?, ?it/s, entropy=11.470348, kl=0.0, loss=11.470348]\u001b[A\n",
            "  0%|          | 0/10 [01:34<?, ?it/s, entropy=11.470348, kl=0.0, loss=11.470348]\u001b[A\n",
            "  0%|          | 0/10 [01:36<?, ?it/s, entropy=11.470348, kl=0.0, loss=11.470348]\u001b[A\n",
            "  0%|          | 0/10 [01:38<?, ?it/s, entropy=11.470348, kl=0.0, loss=11.470348]\u001b[A\n",
            "  0%|          | 0/10 [01:40<?, ?it/s, entropy=11.470348, kl=0.0, loss=11.470348]\u001b[A\n",
            "  0%|          | 0/10 [01:43<?, ?it/s, entropy=11.470348, kl=0.0, loss=11.470348]\u001b[A\n",
            "  0%|          | 0/10 [01:45<?, ?it/s, entropy=11.470348, kl=0.0, loss=11.470348]\u001b[A\n",
            "  0%|          | 0/10 [01:47<?, ?it/s, entropy=11.470348, kl=0.0, loss=11.470348]\u001b[A\n",
            "  0%|          | 0/10 [01:50<?, ?it/s, entropy=11.470348, kl=0.0, loss=11.470348]\u001b[A\n",
            "  0%|          | 0/10 [01:52<?, ?it/s, entropy=11.470348, kl=0.0, loss=11.470348]\u001b[A\n",
            "  0%|          | 0/10 [01:54<?, ?it/s, entropy=11.470348, kl=0.0, loss=11.470348]\u001b[A\n",
            "  0%|          | 0/10 [01:57<?, ?it/s, entropy=11.470348, kl=0.0, loss=11.470348]\u001b[A\n",
            "  0%|          | 0/10 [01:59<?, ?it/s, entropy=11.470348, kl=0.0, loss=11.470348]\u001b[A\n",
            "  0%|          | 0/10 [02:01<?, ?it/s, entropy=11.470348, kl=0.0, loss=11.470348]\u001b[A\n",
            "  0%|          | 0/10 [02:03<?, ?it/s, entropy=11.470348, kl=0.0, loss=11.470348]\u001b[A\n",
            "  0%|          | 0/10 [02:06<?, ?it/s, entropy=11.470348, kl=0.0, loss=11.470348]\u001b[A\n",
            "  0%|          | 0/10 [02:08<?, ?it/s, entropy=11.470348, kl=0.0, loss=11.470348]\u001b[A\n",
            "  0%|          | 0/10 [02:10<?, ?it/s, entropy=11.470348, kl=0.0, loss=11.470348]\u001b[A\n",
            "  0%|          | 0/10 [02:13<?, ?it/s, entropy=11.470348, kl=0.0, loss=11.470348]\u001b[A\n",
            "  0%|          | 0/10 [02:14<?, ?it/s, entropy=11.470348, kl=0.0, loss=11.470348]\u001b[A\n",
            " 10%|█         | 1/10 [02:14<20:10, 134.50s/it, entropy=11.470348, kl=0.0, loss=11.470348]\u001b[A\n",
            " 10%|█         | 1/10 [02:16<20:10, 134.50s/it, entropy=11.470348, kl=0.0, loss=11.470348]\u001b[A\n",
            " 10%|█         | 1/10 [02:19<20:10, 134.50s/it, entropy=11.470348, kl=0.0, loss=11.470348]\u001b[A\n",
            " 10%|█         | 1/10 [02:21<20:10, 134.50s/it, entropy=11.470348, kl=0.0, loss=11.470348]\u001b[A\n",
            " 10%|█         | 1/10 [02:23<20:10, 134.50s/it, entropy=11.470348, kl=0.0, loss=11.470348]\u001b[A\n",
            " 10%|█         | 1/10 [02:25<20:10, 134.50s/it, entropy=11.470348, kl=0.0, loss=11.470348]\u001b[A\n",
            " 10%|█         | 1/10 [02:28<20:10, 134.50s/it, entropy=11.470348, kl=0.0, loss=11.470348]\u001b[A\n",
            " 10%|█         | 1/10 [02:30<20:10, 134.50s/it, entropy=11.470348, kl=0.0, loss=11.470348]\u001b[A\n",
            " 10%|█         | 1/10 [02:32<20:10, 134.50s/it, entropy=11.470348, kl=0.0, loss=11.470348]\u001b[A\n",
            " 10%|█         | 1/10 [02:35<20:10, 134.50s/it, entropy=11.470348, kl=0.0, loss=11.470348]\u001b[A\n",
            " 10%|█         | 1/10 [02:37<20:10, 134.50s/it, entropy=11.470348, kl=0.0, loss=11.470348]\u001b[A\n",
            " 10%|█         | 1/10 [02:39<20:10, 134.50s/it, entropy=11.470348, kl=0.0, loss=11.470348]\u001b[A\n",
            " 10%|█         | 1/10 [02:42<20:10, 134.50s/it, entropy=11.470348, kl=0.0, loss=11.470348]\u001b[A\n",
            " 10%|█         | 1/10 [02:44<20:10, 134.50s/it, entropy=11.470348, kl=0.0, loss=11.470348]\u001b[A\n",
            " 10%|█         | 1/10 [02:46<20:10, 134.50s/it, entropy=11.470348, kl=0.0, loss=11.470348]\u001b[A\n",
            " 10%|█         | 1/10 [02:48<20:10, 134.50s/it, entropy=11.470348, kl=0.0, loss=11.470348]\u001b[A\n",
            " 10%|█         | 1/10 [02:51<20:10, 134.50s/it, entropy=11.470348, kl=0.0, loss=11.470348]\u001b[A\n",
            " 10%|█         | 1/10 [02:53<20:10, 134.50s/it, entropy=11.470348, kl=0.0, loss=11.470348]\u001b[A\n",
            " 10%|█         | 1/10 [02:55<20:10, 134.50s/it, entropy=11.470348, kl=0.0, loss=11.470348]\u001b[A\n",
            " 10%|█         | 1/10 [02:58<20:10, 134.50s/it, entropy=11.470348, kl=0.0, loss=11.470348]\u001b[A\n",
            " 10%|█         | 1/10 [03:00<20:10, 134.50s/it, entropy=11.470348, kl=0.0, loss=11.470348]\u001b[A\n",
            " 10%|█         | 1/10 [03:02<20:10, 134.50s/it, entropy=11.470348, kl=0.0, loss=11.470348]\u001b[A\n",
            " 10%|█         | 1/10 [03:05<20:10, 134.50s/it, entropy=11.470348, kl=0.0, loss=11.470348]\u001b[A\n",
            " 10%|█         | 1/10 [03:07<20:10, 134.50s/it, entropy=11.470348, kl=0.0, loss=11.470348]\u001b[A\n",
            " 10%|█         | 1/10 [03:09<20:10, 134.50s/it, entropy=11.470348, kl=0.0, loss=11.470348]\u001b[A\n",
            " 10%|█         | 1/10 [03:11<20:10, 134.50s/it, entropy=11.470348, kl=0.0, loss=11.470348]\u001b[A\n",
            " 10%|█         | 1/10 [03:14<20:10, 134.50s/it, entropy=11.470348, kl=0.0, loss=11.470348]\u001b[A\n",
            " 10%|█         | 1/10 [03:16<20:10, 134.50s/it, entropy=11.470348, kl=0.0, loss=11.470348]\u001b[A\n",
            " 10%|█         | 1/10 [03:18<20:10, 134.50s/it, entropy=11.470348, kl=0.0, loss=11.470348]\u001b[A\n",
            " 10%|█         | 1/10 [03:21<20:10, 134.50s/it, entropy=11.470348, kl=0.0, loss=11.470348]\u001b[A\n",
            " 10%|█         | 1/10 [03:23<20:10, 134.50s/it, entropy=11.470348, kl=0.0, loss=11.470348]\u001b[A\n",
            " 10%|█         | 1/10 [03:25<20:10, 134.50s/it, entropy=11.470348, kl=0.0, loss=11.470348]\u001b[A\n",
            " 10%|█         | 1/10 [03:27<20:10, 134.50s/it, entropy=11.470348, kl=0.0, loss=11.470348]\u001b[A\n",
            " 10%|█         | 1/10 [03:30<20:10, 134.50s/it, entropy=11.470348, kl=0.0, loss=11.470348]\u001b[A\n",
            " 10%|█         | 1/10 [03:32<20:10, 134.50s/it, entropy=11.470348, kl=0.0, loss=11.470348]\u001b[A\n",
            " 10%|█         | 1/10 [03:34<20:10, 134.50s/it, entropy=11.470348, kl=0.0, loss=11.470348]\u001b[A\n",
            " 10%|█         | 1/10 [03:37<20:10, 134.50s/it, entropy=11.470348, kl=0.0, loss=11.470348]\u001b[A\n",
            " 10%|█         | 1/10 [03:39<20:10, 134.50s/it, entropy=11.470348, kl=0.0, loss=11.470348]\u001b[A\n",
            " 10%|█         | 1/10 [03:41<20:10, 134.50s/it, entropy=11.470348, kl=0.0, loss=11.470348]\u001b[A\n",
            " 10%|█         | 1/10 [03:43<20:10, 134.50s/it, entropy=11.470348, kl=0.0, loss=11.470348]\u001b[A\n",
            " 10%|█         | 1/10 [03:46<20:10, 134.50s/it, entropy=11.470348, kl=0.0, loss=11.470348]\u001b[A\n",
            " 10%|█         | 1/10 [03:48<20:10, 134.50s/it, entropy=11.470348, kl=0.0, loss=11.470348]\u001b[A\n",
            " 10%|█         | 1/10 [03:50<20:10, 134.50s/it, entropy=11.470348, kl=0.0, loss=11.470348]\u001b[A\n",
            " 10%|█         | 1/10 [03:53<20:10, 134.50s/it, entropy=11.470348, kl=0.0, loss=11.470348]\u001b[A\n",
            " 10%|█         | 1/10 [03:55<20:10, 134.50s/it, entropy=11.470348, kl=0.0, loss=11.470348]\u001b[A\n",
            " 10%|█         | 1/10 [03:57<20:10, 134.50s/it, entropy=11.470348, kl=0.0, loss=11.470348]\u001b[A\n",
            " 10%|█         | 1/10 [04:00<20:10, 134.50s/it, entropy=11.470348, kl=0.0, loss=11.470348]\u001b[A\n",
            " 10%|█         | 1/10 [04:02<20:10, 134.50s/it, entropy=11.470348, kl=0.0, loss=11.470348]\u001b[A\n",
            " 10%|█         | 1/10 [04:04<20:10, 134.50s/it, entropy=11.470348, kl=0.0, loss=11.470348]\u001b[A\n",
            " 10%|█         | 1/10 [04:07<20:10, 134.50s/it, entropy=11.470348, kl=0.0, loss=11.470348]\u001b[A\n",
            " 10%|█         | 1/10 [04:09<20:10, 134.50s/it, entropy=11.470348, kl=0.0, loss=11.470348]\u001b[A\n",
            " 10%|█         | 1/10 [04:11<20:10, 134.50s/it, entropy=11.470348, kl=0.0, loss=11.470348]\u001b[A\n",
            " 10%|█         | 1/10 [04:14<20:10, 134.50s/it, entropy=11.470348, kl=0.0, loss=11.470348]\u001b[A\n",
            " 10%|█         | 1/10 [04:16<20:10, 134.50s/it, entropy=11.470348, kl=0.0, loss=11.470348]\u001b[A\n",
            " 10%|█         | 1/10 [04:18<20:10, 134.50s/it, entropy=11.470348, kl=0.0, loss=11.470348]\u001b[A\n",
            " 10%|█         | 1/10 [04:21<20:10, 134.50s/it, entropy=11.470348, kl=0.0, loss=11.470348]\u001b[A\n",
            " 10%|█         | 1/10 [04:23<20:10, 134.50s/it, entropy=11.470348, kl=0.0, loss=11.470348]\u001b[A\n",
            " 10%|█         | 1/10 [04:25<20:10, 134.50s/it, entropy=11.470348, kl=0.0, loss=11.470348]\u001b[A\n",
            " 10%|█         | 1/10 [04:28<20:10, 134.50s/it, entropy=11.470348, kl=0.0, loss=11.470348]\u001b[A\n",
            " 10%|█         | 1/10 [04:29<20:10, 134.50s/it, entropy=11.470348, kl=0.0, loss=11.470348]\u001b[A\n",
            " 20%|██        | 2/10 [04:29<17:56, 134.62s/it, entropy=11.470348, kl=0.0, loss=11.470348]\u001b[A\n",
            " 20%|██        | 2/10 [04:31<17:56, 134.62s/it, entropy=11.470348, kl=0.0, loss=11.470348]\u001b[A\n",
            " 20%|██        | 2/10 [04:34<17:56, 134.62s/it, entropy=11.470348, kl=0.0, loss=11.470348]\u001b[A\n",
            " 20%|██        | 2/10 [04:36<17:56, 134.62s/it, entropy=11.470348, kl=0.0, loss=11.470348]\u001b[A\n",
            " 20%|██        | 2/10 [04:38<17:56, 134.62s/it, entropy=11.470348, kl=0.0, loss=11.470348]\u001b[A\n",
            " 20%|██        | 2/10 [04:40<17:56, 134.62s/it, entropy=11.470348, kl=0.0, loss=11.470348]\u001b[A\n",
            " 20%|██        | 2/10 [04:43<17:56, 134.62s/it, entropy=11.470348, kl=0.0, loss=11.470348]\u001b[A\n",
            " 20%|██        | 2/10 [04:45<17:56, 134.62s/it, entropy=11.470348, kl=0.0, loss=11.470348]\u001b[A\n",
            " 20%|██        | 2/10 [04:47<17:56, 134.62s/it, entropy=11.470348, kl=0.0, loss=11.470348]\u001b[A\n",
            " 20%|██        | 2/10 [04:50<17:56, 134.62s/it, entropy=11.470348, kl=0.0, loss=11.470348]\u001b[A\n",
            " 20%|██        | 2/10 [04:52<17:56, 134.62s/it, entropy=11.470348, kl=0.0, loss=11.470348]\u001b[A\n",
            " 20%|██        | 2/10 [04:54<17:56, 134.62s/it, entropy=11.470348, kl=0.0, loss=11.470348]\u001b[A\n",
            " 20%|██        | 2/10 [04:57<17:56, 134.62s/it, entropy=11.470348, kl=0.0, loss=11.470348]\u001b[A\n",
            " 20%|██        | 2/10 [04:59<17:56, 134.62s/it, entropy=11.470348, kl=0.017988946, loss=11.452359]\u001b[A\n",
            " 20%|██        | 2/10 [05:01<17:56, 134.62s/it, entropy=11.470348, kl=0.0, loss=11.470348]        \u001b[A\n",
            " 20%|██        | 2/10 [05:04<17:56, 134.62s/it, entropy=11.470348, kl=0.0, loss=11.470348]\u001b[A\n",
            " 20%|██        | 2/10 [05:06<17:56, 134.62s/it, entropy=11.470348, kl=0.0, loss=11.470348]\u001b[A\n",
            " 20%|██        | 2/10 [05:08<17:56, 134.62s/it, entropy=11.470348, kl=0.0, loss=11.470348]\u001b[A\n",
            " 20%|██        | 2/10 [05:11<17:56, 134.62s/it, entropy=11.470348, kl=0.0, loss=11.470348]\u001b[A\n",
            " 20%|██        | 2/10 [05:13<17:56, 134.62s/it, entropy=11.470348, kl=0.0, loss=11.470348]\u001b[A\n",
            " 20%|██        | 2/10 [05:15<17:56, 134.62s/it, entropy=11.470348, kl=0.0, loss=11.470348]\u001b[A\n",
            " 20%|██        | 2/10 [05:18<17:56, 134.62s/it, entropy=11.470348, kl=0.0, loss=11.470348]\u001b[A\n",
            " 20%|██        | 2/10 [05:20<17:56, 134.62s/it, entropy=11.470348, kl=0.0, loss=11.470348]\u001b[A\n",
            " 20%|██        | 2/10 [05:22<17:56, 134.62s/it, entropy=11.470348, kl=0.0, loss=11.470348]\u001b[A\n",
            " 20%|██        | 2/10 [05:25<17:56, 134.62s/it, entropy=11.470348, kl=0.0, loss=11.470348]\u001b[A\n",
            " 20%|██        | 2/10 [05:27<17:56, 134.62s/it, entropy=11.470348, kl=0.0, loss=11.470348]\u001b[A\n",
            " 20%|██        | 2/10 [05:29<17:56, 134.62s/it, entropy=11.470348, kl=0.0, loss=11.470348]\u001b[A\n",
            " 20%|██        | 2/10 [05:31<17:56, 134.62s/it, entropy=11.470348, kl=0.0, loss=11.470348]\u001b[A\n",
            " 20%|██        | 2/10 [05:34<17:56, 134.62s/it, entropy=11.470348, kl=0.0, loss=11.470348]\u001b[A\n",
            " 20%|██        | 2/10 [05:36<17:56, 134.62s/it, entropy=11.470348, kl=0.0, loss=11.470348]\u001b[A\n",
            " 20%|██        | 2/10 [05:38<17:56, 134.62s/it, entropy=11.470348, kl=0.0, loss=11.470348]\u001b[A\n",
            " 20%|██        | 2/10 [05:41<17:56, 134.62s/it, entropy=11.470348, kl=0.0, loss=11.470348]\u001b[A\n",
            " 20%|██        | 2/10 [05:43<17:56, 134.62s/it, entropy=11.470348, kl=0.0, loss=11.470348]\u001b[A\n",
            " 20%|██        | 2/10 [05:45<17:56, 134.62s/it, entropy=11.470348, kl=0.0, loss=11.470348]\u001b[A\n",
            " 20%|██        | 2/10 [05:48<17:56, 134.62s/it, entropy=11.470348, kl=0.0, loss=11.470348]\u001b[A\n",
            " 20%|██        | 2/10 [05:50<17:56, 134.62s/it, entropy=11.470348, kl=0.0, loss=11.470348]\u001b[A\n",
            " 20%|██        | 2/10 [05:52<17:56, 134.62s/it, entropy=11.470348, kl=0.0, loss=11.470348]\u001b[A\n",
            " 20%|██        | 2/10 [05:54<17:56, 134.62s/it, entropy=11.470348, kl=0.0, loss=11.470348]\u001b[A\n",
            " 20%|██        | 2/10 [05:57<17:56, 134.62s/it, entropy=11.470348, kl=0.0, loss=11.470348]\u001b[A\n",
            " 20%|██        | 2/10 [05:59<17:56, 134.62s/it, entropy=11.470348, kl=0.0, loss=11.470348]\u001b[A\n",
            " 20%|██        | 2/10 [06:01<17:56, 134.62s/it, entropy=11.470348, kl=0.0, loss=11.470348]\u001b[A\n",
            " 20%|██        | 2/10 [06:04<17:56, 134.62s/it, entropy=11.470348, kl=0.0, loss=11.470348]\u001b[A\n",
            " 20%|██        | 2/10 [06:06<17:56, 134.62s/it, entropy=11.470348, kl=0.0, loss=11.470348]\u001b[A\n",
            " 20%|██        | 2/10 [06:08<17:56, 134.62s/it, entropy=11.470348, kl=0.0, loss=11.470348]\u001b[A\n",
            " 20%|██        | 2/10 [06:11<17:56, 134.62s/it, entropy=11.470348, kl=0.0, loss=11.470348]\u001b[A\n",
            " 20%|██        | 2/10 [06:13<17:56, 134.62s/it, entropy=11.470348, kl=0.0, loss=11.470348]\u001b[A\n",
            " 20%|██        | 2/10 [06:15<17:56, 134.62s/it, entropy=11.470348, kl=0.0, loss=11.470348]\u001b[A\n",
            " 20%|██        | 2/10 [06:17<17:56, 134.62s/it, entropy=11.470348, kl=0.0, loss=11.470348]\u001b[A\n",
            " 20%|██        | 2/10 [06:20<17:56, 134.62s/it, entropy=11.470348, kl=0.0, loss=11.470348]\u001b[A\n",
            " 20%|██        | 2/10 [06:22<17:56, 134.62s/it, entropy=11.470348, kl=0.0, loss=11.470348]\u001b[A\n",
            " 20%|██        | 2/10 [06:24<17:56, 134.62s/it, entropy=11.470348, kl=0.0, loss=11.470348]\u001b[A\n",
            " 20%|██        | 2/10 [06:27<17:56, 134.62s/it, entropy=11.470348, kl=0.0, loss=11.470348]\u001b[A\n",
            " 20%|██        | 2/10 [06:29<17:56, 134.62s/it, entropy=11.470348, kl=0.0, loss=11.470348]\u001b[A\n",
            " 20%|██        | 2/10 [06:31<17:56, 134.62s/it, entropy=11.470348, kl=0.0, loss=11.470348]\u001b[A\n",
            " 20%|██        | 2/10 [06:34<17:56, 134.62s/it, entropy=11.470348, kl=0.0, loss=11.470348]\u001b[A\n",
            " 20%|██        | 2/10 [06:36<17:56, 134.62s/it, entropy=11.470348, kl=0.0, loss=11.470348]\u001b[A\n",
            " 20%|██        | 2/10 [06:38<17:56, 134.62s/it, entropy=11.470348, kl=0.0, loss=11.470348]\u001b[A\n",
            " 20%|██        | 2/10 [06:40<17:56, 134.62s/it, entropy=11.470348, kl=0.0, loss=11.470348]\u001b[A\n",
            " 20%|██        | 2/10 [06:43<17:56, 134.62s/it, entropy=11.470348, kl=0.0, loss=11.470348]\u001b[A\n",
            " 20%|██        | 2/10 [06:44<17:56, 134.62s/it, entropy=11.470348, kl=0.0, loss=11.470348]\u001b[A\n",
            " 30%|███       | 3/10 [06:44<15:43, 134.79s/it, entropy=11.470348, kl=0.0, loss=11.470348]\u001b[A\n",
            " 30%|███       | 3/10 [06:46<15:43, 134.79s/it, entropy=11.470348, kl=0.0, loss=11.470348]\u001b[A\n",
            " 30%|███       | 3/10 [06:49<15:43, 134.79s/it, entropy=11.470348, kl=0.0, loss=11.470348]\u001b[A\n",
            " 30%|███       | 3/10 [06:51<15:43, 134.79s/it, entropy=11.470348, kl=0.0, loss=11.470348]\u001b[A\n",
            " 30%|███       | 3/10 [06:53<15:43, 134.79s/it, entropy=11.470348, kl=0.0, loss=11.470348]\u001b[A\n",
            " 30%|███       | 3/10 [06:55<15:43, 134.79s/it, entropy=11.470348, kl=0.0, loss=11.470348]\u001b[A\n",
            " 30%|███       | 3/10 [06:58<15:43, 134.79s/it, entropy=11.470348, kl=0.0, loss=11.470348]\u001b[A\n",
            " 30%|███       | 3/10 [07:00<15:43, 134.79s/it, entropy=11.470348, kl=0.0, loss=11.470348]\u001b[A\n",
            " 30%|███       | 3/10 [07:02<15:43, 134.79s/it, entropy=11.470348, kl=0.0, loss=11.470348]\u001b[A\n",
            " 30%|███       | 3/10 [07:05<15:43, 134.79s/it, entropy=11.470348, kl=0.0, loss=11.470348]\u001b[A\n",
            " 30%|███       | 3/10 [07:07<15:43, 134.79s/it, entropy=11.470348, kl=0.0, loss=11.470348]\u001b[A\n",
            " 30%|███       | 3/10 [07:09<15:43, 134.79s/it, entropy=11.470348, kl=0.0, loss=11.470348]\u001b[A\n",
            " 30%|███       | 3/10 [07:12<15:43, 134.79s/it, entropy=11.470348, kl=0.0, loss=11.470348]\u001b[A\n",
            " 30%|███       | 3/10 [07:14<15:43, 134.79s/it, entropy=11.470348, kl=0.0, loss=11.470348]\u001b[A\n",
            " 30%|███       | 3/10 [07:16<15:43, 134.79s/it, entropy=11.470348, kl=0.0, loss=11.470348]\u001b[A\n",
            " 30%|███       | 3/10 [07:19<15:43, 134.79s/it, entropy=11.470348, kl=0.0, loss=11.470348]\u001b[A\n",
            " 30%|███       | 3/10 [07:21<15:43, 134.79s/it, entropy=11.470348, kl=0.0, loss=11.470348]\u001b[A\n",
            " 30%|███       | 3/10 [07:23<15:43, 134.79s/it, entropy=11.470348, kl=0.0, loss=11.470348]\u001b[A\n",
            " 30%|███       | 3/10 [07:26<15:43, 134.79s/it, entropy=11.470348, kl=0.0, loss=11.470348]\u001b[A\n",
            " 30%|███       | 3/10 [07:28<15:43, 134.79s/it, entropy=11.470348, kl=0.0, loss=11.470348]\u001b[A\n",
            " 30%|███       | 3/10 [07:30<15:43, 134.79s/it, entropy=11.470348, kl=0.0, loss=11.470348]\u001b[A\n",
            " 30%|███       | 3/10 [07:32<15:43, 134.79s/it, entropy=11.470348, kl=0.0, loss=11.470348]\u001b[A\n",
            " 30%|███       | 3/10 [07:35<15:43, 134.79s/it, entropy=11.470348, kl=0.0, loss=11.470348]\u001b[A\n",
            " 30%|███       | 3/10 [07:37<15:43, 134.79s/it, entropy=11.470348, kl=0.0, loss=11.470348]\u001b[A\n",
            " 30%|███       | 3/10 [07:39<15:43, 134.79s/it, entropy=11.470348, kl=0.0, loss=11.470348]\u001b[A\n",
            " 30%|███       | 3/10 [07:42<15:43, 134.79s/it, entropy=11.470348, kl=0.0, loss=11.470348]\u001b[A\n",
            " 30%|███       | 3/10 [07:44<15:43, 134.79s/it, entropy=11.470348, kl=0.0, loss=11.470348]\u001b[A\n",
            " 30%|███       | 3/10 [07:46<15:43, 134.79s/it, entropy=11.470348, kl=0.0, loss=11.470348]\u001b[A\n",
            " 30%|███       | 3/10 [07:48<15:43, 134.79s/it, entropy=11.470348, kl=0.0, loss=11.470348]\u001b[A\n",
            " 30%|███       | 3/10 [07:51<15:43, 134.79s/it, entropy=11.470348, kl=0.0, loss=11.470348]\u001b[A\n",
            " 30%|███       | 3/10 [07:53<15:43, 134.79s/it, entropy=11.470348, kl=0.0, loss=11.470348]\u001b[A\n",
            " 30%|███       | 3/10 [07:55<15:43, 134.79s/it, entropy=11.470348, kl=0.0, loss=11.470348]\u001b[A\n",
            " 30%|███       | 3/10 [07:58<15:43, 134.79s/it, entropy=11.470348, kl=0.0, loss=11.470348]\u001b[A\n",
            " 30%|███       | 3/10 [08:00<15:43, 134.79s/it, entropy=11.470348, kl=0.0, loss=11.470348]\u001b[A\n",
            " 30%|███       | 3/10 [08:02<15:43, 134.79s/it, entropy=11.470348, kl=0.0, loss=11.470348]\u001b[A\n",
            " 30%|███       | 3/10 [08:05<15:43, 134.79s/it, entropy=11.470348, kl=0.017988946, loss=11.452359]\u001b[A\n",
            " 30%|███       | 3/10 [08:07<15:43, 134.79s/it, entropy=11.470348, kl=0.0, loss=11.470348]        \u001b[A\n",
            " 30%|███       | 3/10 [08:09<15:43, 134.79s/it, entropy=11.470348, kl=0.0, loss=11.470348]\u001b[A\n",
            " 30%|███       | 3/10 [08:11<15:43, 134.79s/it, entropy=11.470348, kl=0.0, loss=11.470348]\u001b[A\n",
            " 30%|███       | 3/10 [08:14<15:43, 134.79s/it, entropy=11.470348, kl=0.0, loss=11.470348]\u001b[A\n",
            " 30%|███       | 3/10 [08:16<15:43, 134.79s/it, entropy=11.470348, kl=0.0, loss=11.470348]\u001b[A\n",
            " 30%|███       | 3/10 [08:18<15:43, 134.79s/it, entropy=11.470348, kl=0.0, loss=11.470348]\u001b[A\n",
            " 30%|███       | 3/10 [08:21<15:43, 134.79s/it, entropy=11.470348, kl=0.0, loss=11.470348]\u001b[A\n",
            " 30%|███       | 3/10 [08:23<15:43, 134.79s/it, entropy=11.470348, kl=0.0, loss=11.470348]\u001b[A\n",
            " 30%|███       | 3/10 [08:25<15:43, 134.79s/it, entropy=11.470348, kl=0.0, loss=11.470348]\u001b[A\n",
            " 30%|███       | 3/10 [08:27<15:43, 134.79s/it, entropy=11.470348, kl=0.0, loss=11.470348]\u001b[A\n",
            " 30%|███       | 3/10 [08:30<15:43, 134.79s/it, entropy=11.470348, kl=0.0, loss=11.470348]\u001b[A\n",
            " 30%|███       | 3/10 [08:32<15:43, 134.79s/it, entropy=11.470348, kl=0.0, loss=11.470348]\u001b[A\n",
            " 30%|███       | 3/10 [08:34<15:43, 134.79s/it, entropy=11.470348, kl=0.0, loss=11.470348]\u001b[A\n",
            " 30%|███       | 3/10 [08:37<15:43, 134.79s/it, entropy=11.470348, kl=0.0, loss=11.470348]\u001b[A\n",
            " 30%|███       | 3/10 [08:39<15:43, 134.79s/it, entropy=11.470348, kl=0.0, loss=11.470348]\u001b[A\n",
            " 30%|███       | 3/10 [08:41<15:43, 134.79s/it, entropy=11.470348, kl=0.0, loss=11.470348]\u001b[A\n",
            " 30%|███       | 3/10 [08:43<15:43, 134.79s/it, entropy=11.470348, kl=0.0, loss=11.470348]\u001b[A\n",
            " 30%|███       | 3/10 [08:46<15:43, 134.79s/it, entropy=11.470348, kl=0.0, loss=11.470348]\u001b[A\n",
            " 30%|███       | 3/10 [08:48<15:43, 134.79s/it, entropy=11.470348, kl=0.0, loss=11.470348]\u001b[A\n",
            " 30%|███       | 3/10 [08:50<15:43, 134.79s/it, entropy=11.470348, kl=0.0, loss=11.470348]\u001b[A\n",
            " 30%|███       | 3/10 [08:53<15:43, 134.79s/it, entropy=11.470348, kl=0.0, loss=11.470348]\u001b[A\n",
            " 30%|███       | 3/10 [08:55<15:43, 134.79s/it, entropy=11.470348, kl=0.0, loss=11.470348]\u001b[A\n",
            " 30%|███       | 3/10 [08:57<15:43, 134.79s/it, entropy=11.470348, kl=0.0, loss=11.470348]\u001b[A\n",
            " 30%|███       | 3/10 [08:58<15:43, 134.79s/it, entropy=11.470348, kl=0.030297173, loss=11.440051]\u001b[A\n",
            " 40%|████      | 4/10 [08:58<13:27, 134.67s/it, entropy=11.470348, kl=0.030297173, loss=11.440051]\u001b[A\n",
            " 40%|████      | 4/10 [09:01<13:27, 134.67s/it, entropy=11.470348, kl=0.0, loss=11.470348]        \u001b[A\n",
            " 40%|████      | 4/10 [09:03<13:27, 134.67s/it, entropy=11.470348, kl=0.0, loss=11.470348]\u001b[A\n",
            " 40%|████      | 4/10 [09:05<13:27, 134.67s/it, entropy=11.470348, kl=0.0, loss=11.470348]\u001b[A\n",
            " 40%|████      | 4/10 [09:08<13:27, 134.67s/it, entropy=11.470348, kl=0.0, loss=11.470348]\u001b[A\n",
            " 40%|████      | 4/10 [09:10<13:27, 134.67s/it, entropy=11.470348, kl=0.0, loss=11.470348]\u001b[A\n",
            " 40%|████      | 4/10 [09:12<13:27, 134.67s/it, entropy=11.470348, kl=0.0, loss=11.470348]\u001b[A\n",
            " 40%|████      | 4/10 [09:14<13:27, 134.67s/it, entropy=11.470348, kl=0.0, loss=11.470348]\u001b[A\n",
            " 40%|████      | 4/10 [09:17<13:27, 134.67s/it, entropy=11.470348, kl=0.0, loss=11.470348]\u001b[A\n",
            " 40%|████      | 4/10 [09:19<13:27, 134.67s/it, entropy=11.470348, kl=0.0, loss=11.470348]\u001b[A\n",
            " 40%|████      | 4/10 [09:21<13:27, 134.67s/it, entropy=11.470348, kl=0.0, loss=11.470348]\u001b[A\n",
            " 40%|████      | 4/10 [09:23<13:27, 134.67s/it, entropy=11.470348, kl=0.0, loss=11.470348]\u001b[A\n",
            " 40%|████      | 4/10 [09:26<13:27, 134.67s/it, entropy=11.470348, kl=0.0, loss=11.470348]\u001b[A\n",
            " 40%|████      | 4/10 [09:28<13:27, 134.67s/it, entropy=11.470348, kl=0.0, loss=11.470348]\u001b[A\n",
            " 40%|████      | 4/10 [09:30<13:27, 134.67s/it, entropy=11.470348, kl=0.0, loss=11.470348]\u001b[A\n",
            " 40%|████      | 4/10 [09:33<13:27, 134.67s/it, entropy=11.470348, kl=0.0, loss=11.470348]\u001b[A\n",
            " 40%|████      | 4/10 [09:35<13:27, 134.67s/it, entropy=11.470348, kl=0.0, loss=11.470348]\u001b[A\n",
            " 40%|████      | 4/10 [09:37<13:27, 134.67s/it, entropy=11.470348, kl=0.0, loss=11.470348]\u001b[A\n",
            " 40%|████      | 4/10 [09:39<13:27, 134.67s/it, entropy=11.470348, kl=0.0, loss=11.470348]\u001b[A\n",
            " 40%|████      | 4/10 [09:42<13:27, 134.67s/it, entropy=11.470348, kl=0.0, loss=11.470348]\u001b[A\n",
            " 40%|████      | 4/10 [09:44<13:27, 134.67s/it, entropy=11.470348, kl=0.0, loss=11.470348]\u001b[A\n",
            " 40%|████      | 4/10 [09:46<13:27, 134.67s/it, entropy=11.470348, kl=0.0, loss=11.470348]\u001b[A\n",
            " 40%|████      | 4/10 [09:49<13:27, 134.67s/it, entropy=11.470348, kl=0.0, loss=11.470348]\u001b[A\n",
            " 40%|████      | 4/10 [09:51<13:27, 134.67s/it, entropy=11.470348, kl=0.0, loss=11.470348]\u001b[A\n",
            " 40%|████      | 4/10 [09:53<13:27, 134.67s/it, entropy=11.470348, kl=0.0, loss=11.470348]\u001b[A\n",
            " 40%|████      | 4/10 [09:55<13:27, 134.67s/it, entropy=11.470348, kl=0.0, loss=11.470348]\u001b[A\n",
            " 40%|████      | 4/10 [09:58<13:27, 134.67s/it, entropy=11.470348, kl=0.0, loss=11.470348]\u001b[A\n",
            " 40%|████      | 4/10 [10:00<13:27, 134.67s/it, entropy=11.470348, kl=0.0, loss=11.470348]\u001b[A\n",
            " 40%|████      | 4/10 [10:02<13:27, 134.67s/it, entropy=11.470348, kl=0.0, loss=11.470348]\u001b[A\n",
            " 40%|████      | 4/10 [10:04<13:27, 134.67s/it, entropy=11.470348, kl=0.0, loss=11.470348]\u001b[A\n",
            " 40%|████      | 4/10 [10:07<13:27, 134.67s/it, entropy=11.470348, kl=0.0, loss=11.470348]\u001b[A\n",
            " 40%|████      | 4/10 [10:09<13:27, 134.67s/it, entropy=11.470348, kl=0.0, loss=11.470348]\u001b[A\n",
            " 40%|████      | 4/10 [10:11<13:27, 134.67s/it, entropy=11.470348, kl=0.0, loss=11.470348]\u001b[A\n",
            " 40%|████      | 4/10 [10:14<13:27, 134.67s/it, entropy=11.470348, kl=0.0, loss=11.470348]\u001b[A\n",
            " 40%|████      | 4/10 [10:16<13:27, 134.67s/it, entropy=11.470348, kl=0.0, loss=11.470348]\u001b[A\n",
            " 40%|████      | 4/10 [10:18<13:27, 134.67s/it, entropy=11.470348, kl=0.0, loss=11.470348]\u001b[A\n",
            " 40%|████      | 4/10 [10:20<13:27, 134.67s/it, entropy=11.470348, kl=0.0, loss=11.470348]\u001b[A\n",
            " 40%|████      | 4/10 [10:23<13:27, 134.67s/it, entropy=11.470348, kl=0.0, loss=11.470348]\u001b[A\n",
            " 40%|████      | 4/10 [10:25<13:27, 134.67s/it, entropy=11.470348, kl=0.0, loss=11.470348]\u001b[A\n",
            " 40%|████      | 4/10 [10:27<13:27, 134.67s/it, entropy=11.470348, kl=0.0, loss=11.470348]\u001b[A\n",
            " 40%|████      | 4/10 [10:30<13:27, 134.67s/it, entropy=11.470348, kl=0.0, loss=11.470348]\u001b[A\n",
            " 40%|████      | 4/10 [10:32<13:27, 134.67s/it, entropy=11.470348, kl=0.0, loss=11.470348]\u001b[A\n",
            " 40%|████      | 4/10 [10:34<13:27, 134.67s/it, entropy=11.470348, kl=0.0, loss=11.470348]\u001b[A\n",
            " 40%|████      | 4/10 [10:36<13:27, 134.67s/it, entropy=11.470348, kl=0.0, loss=11.470348]\u001b[A\n",
            " 40%|████      | 4/10 [10:39<13:27, 134.67s/it, entropy=11.470348, kl=0.0, loss=11.470348]\u001b[A\n",
            " 40%|████      | 4/10 [10:41<13:27, 134.67s/it, entropy=11.470348, kl=0.0, loss=11.470348]\u001b[A\n",
            " 40%|████      | 4/10 [10:43<13:27, 134.67s/it, entropy=11.470348, kl=0.0, loss=11.470348]\u001b[A\n",
            " 40%|████      | 4/10 [10:46<13:27, 134.67s/it, entropy=11.470348, kl=0.0, loss=11.470348]\u001b[A\n",
            " 40%|████      | 4/10 [10:48<13:27, 134.67s/it, entropy=11.470348, kl=0.0, loss=11.470348]\u001b[A\n",
            " 40%|████      | 4/10 [10:50<13:27, 134.67s/it, entropy=11.470348, kl=0.0, loss=11.470348]\u001b[A\n",
            " 40%|████      | 4/10 [10:52<13:27, 134.67s/it, entropy=11.470348, kl=0.0, loss=11.470348]\u001b[A\n",
            " 40%|████      | 4/10 [10:55<13:27, 134.67s/it, entropy=11.470348, kl=0.0, loss=11.470348]\u001b[A\n",
            " 40%|████      | 4/10 [10:57<13:27, 134.67s/it, entropy=11.470348, kl=0.0, loss=11.470348]\u001b[A\n",
            " 40%|████      | 4/10 [10:59<13:27, 134.67s/it, entropy=11.470348, kl=0.0, loss=11.470348]\u001b[A\n",
            " 40%|████      | 4/10 [11:01<13:27, 134.67s/it, entropy=11.470348, kl=0.0, loss=11.470348]\u001b[A\n",
            " 40%|████      | 4/10 [11:04<13:27, 134.67s/it, entropy=11.470348, kl=0.0, loss=11.470348]\u001b[A\n",
            " 40%|████      | 4/10 [11:06<13:27, 134.67s/it, entropy=11.470348, kl=0.0, loss=11.470348]\u001b[A\n",
            " 40%|████      | 4/10 [11:08<13:27, 134.67s/it, entropy=11.470348, kl=0.0, loss=11.470348]\u001b[A\n",
            " 40%|████      | 4/10 [11:11<13:27, 134.67s/it, entropy=11.470348, kl=0.0, loss=11.470348]\u001b[A\n",
            " 40%|████      | 4/10 [11:12<13:27, 134.67s/it, entropy=11.470348, kl=0.0, loss=11.470348]\u001b[A\n",
            " 50%|█████     | 5/10 [11:12<11:11, 134.29s/it, entropy=11.470348, kl=0.0, loss=11.470348]\u001b[A\n",
            " 50%|█████     | 5/10 [11:14<11:11, 134.29s/it, entropy=11.470348, kl=0.0, loss=11.470348]\u001b[A\n",
            " 50%|█████     | 5/10 [11:16<11:11, 134.29s/it, entropy=11.470348, kl=0.0, loss=11.470348]\u001b[A\n",
            " 50%|█████     | 5/10 [11:19<11:11, 134.29s/it, entropy=11.470348, kl=0.0, loss=11.470348]\u001b[A\n",
            " 50%|█████     | 5/10 [11:21<11:11, 134.29s/it, entropy=11.470348, kl=0.0, loss=11.470348]\u001b[A\n",
            " 50%|█████     | 5/10 [11:23<11:11, 134.29s/it, entropy=11.470348, kl=0.0, loss=11.470348]\u001b[A\n",
            " 50%|█████     | 5/10 [11:25<11:11, 134.29s/it, entropy=11.470348, kl=0.0, loss=11.470348]\u001b[A\n",
            " 50%|█████     | 5/10 [11:28<11:11, 134.29s/it, entropy=11.470348, kl=0.0, loss=11.470348]\u001b[A\n",
            " 50%|█████     | 5/10 [11:30<11:11, 134.29s/it, entropy=11.470348, kl=0.0, loss=11.470348]\u001b[A\n",
            " 50%|█████     | 5/10 [11:32<11:11, 134.29s/it, entropy=11.470348, kl=0.0, loss=11.470348]\u001b[A\n",
            " 50%|█████     | 5/10 [11:34<11:11, 134.29s/it, entropy=11.470348, kl=0.0, loss=11.470348]\u001b[A\n",
            " 50%|█████     | 5/10 [11:37<11:11, 134.29s/it, entropy=11.470348, kl=0.0, loss=11.470348]\u001b[A\n",
            " 50%|█████     | 5/10 [11:39<11:11, 134.29s/it, entropy=11.470348, kl=0.0, loss=11.470348]\u001b[A\n",
            " 50%|█████     | 5/10 [11:41<11:11, 134.29s/it, entropy=11.470348, kl=0.0, loss=11.470348]\u001b[A\n",
            " 50%|█████     | 5/10 [11:44<11:11, 134.29s/it, entropy=11.470348, kl=0.0, loss=11.470348]\u001b[A\n",
            " 50%|█████     | 5/10 [11:46<11:11, 134.29s/it, entropy=11.470348, kl=0.0, loss=11.470348]\u001b[A\n",
            " 50%|█████     | 5/10 [11:48<11:11, 134.29s/it, entropy=11.470348, kl=0.0, loss=11.470348]\u001b[A\n",
            " 50%|█████     | 5/10 [11:50<11:11, 134.29s/it, entropy=11.470348, kl=0.0, loss=11.470348]\u001b[A\n",
            " 50%|█████     | 5/10 [11:53<11:11, 134.29s/it, entropy=11.470348, kl=0.0, loss=11.470348]\u001b[A\n",
            " 50%|█████     | 5/10 [11:55<11:11, 134.29s/it, entropy=11.470348, kl=0.0, loss=11.470348]\u001b[A\n",
            " 50%|█████     | 5/10 [11:57<11:11, 134.29s/it, entropy=11.470348, kl=0.0, loss=11.470348]\u001b[A\n",
            " 50%|█████     | 5/10 [11:59<11:11, 134.29s/it, entropy=11.470348, kl=0.0, loss=11.470348]\u001b[A\n",
            " 50%|█████     | 5/10 [12:02<11:11, 134.29s/it, entropy=11.470348, kl=0.0, loss=11.470348]\u001b[A\n",
            " 50%|█████     | 5/10 [12:04<11:11, 134.29s/it, entropy=11.470348, kl=0.0, loss=11.470348]\u001b[A\n",
            " 50%|█████     | 5/10 [12:06<11:11, 134.29s/it, entropy=11.470348, kl=0.0, loss=11.470348]\u001b[A\n",
            " 50%|█████     | 5/10 [12:08<11:11, 134.29s/it, entropy=11.470348, kl=0.0, loss=11.470348]\u001b[A\n",
            " 50%|█████     | 5/10 [12:11<11:11, 134.29s/it, entropy=11.470348, kl=0.0, loss=11.470348]\u001b[A\n",
            " 50%|█████     | 5/10 [12:13<11:11, 134.29s/it, entropy=11.470348, kl=0.0, loss=11.470348]\u001b[A\n",
            " 50%|█████     | 5/10 [12:15<11:11, 134.29s/it, entropy=11.470348, kl=0.0, loss=11.470348]\u001b[A\n",
            " 50%|█████     | 5/10 [12:18<11:11, 134.29s/it, entropy=11.470348, kl=0.0, loss=11.470348]\u001b[A\n",
            " 50%|█████     | 5/10 [12:20<11:11, 134.29s/it, entropy=11.470348, kl=0.0, loss=11.470348]\u001b[A\n",
            " 50%|█████     | 5/10 [12:22<11:11, 134.29s/it, entropy=11.470348, kl=0.0, loss=11.470348]\u001b[A\n",
            " 50%|█████     | 5/10 [12:24<11:11, 134.29s/it, entropy=11.470348, kl=0.0, loss=11.470348]\u001b[A\n",
            " 50%|█████     | 5/10 [12:27<11:11, 134.29s/it, entropy=11.470348, kl=0.0, loss=11.470348]\u001b[A\n",
            " 50%|█████     | 5/10 [12:29<11:11, 134.29s/it, entropy=11.470348, kl=0.0, loss=11.470348]\u001b[A\n",
            " 50%|█████     | 5/10 [12:31<11:11, 134.29s/it, entropy=11.470348, kl=0.0, loss=11.470348]\u001b[A\n",
            " 50%|█████     | 5/10 [12:33<11:11, 134.29s/it, entropy=11.470348, kl=0.0, loss=11.470348]\u001b[A\n",
            " 50%|█████     | 5/10 [12:36<11:11, 134.29s/it, entropy=11.470348, kl=0.0, loss=11.470348]\u001b[A\n",
            " 50%|█████     | 5/10 [12:38<11:11, 134.29s/it, entropy=11.470348, kl=0.0, loss=11.470348]\u001b[A\n",
            " 50%|█████     | 5/10 [12:40<11:11, 134.29s/it, entropy=11.470348, kl=0.0, loss=11.470348]\u001b[A\n",
            " 50%|█████     | 5/10 [12:43<11:11, 134.29s/it, entropy=11.470348, kl=0.0, loss=11.470348]\u001b[A\n",
            " 50%|█████     | 5/10 [12:45<11:11, 134.29s/it, entropy=11.470348, kl=0.0, loss=11.470348]\u001b[A\n",
            " 50%|█████     | 5/10 [12:47<11:11, 134.29s/it, entropy=11.470348, kl=0.0, loss=11.470348]\u001b[A\n",
            " 50%|█████     | 5/10 [12:49<11:11, 134.29s/it, entropy=11.470348, kl=0.0, loss=11.470348]\u001b[A\n",
            " 50%|█████     | 5/10 [12:52<11:11, 134.29s/it, entropy=11.470348, kl=0.0, loss=11.470348]\u001b[A\n",
            " 50%|█████     | 5/10 [12:54<11:11, 134.29s/it, entropy=11.470348, kl=0.0, loss=11.470348]\u001b[A\n",
            " 50%|█████     | 5/10 [12:56<11:11, 134.29s/it, entropy=11.470348, kl=0.0, loss=11.470348]\u001b[A\n",
            " 50%|█████     | 5/10 [12:59<11:11, 134.29s/it, entropy=11.470348, kl=0.0, loss=11.470348]\u001b[A\n",
            " 50%|█████     | 5/10 [13:01<11:11, 134.29s/it, entropy=11.470348, kl=0.0, loss=11.470348]\u001b[A\n",
            " 50%|█████     | 5/10 [13:03<11:11, 134.29s/it, entropy=11.470348, kl=0.0, loss=11.470348]\u001b[A\n",
            " 50%|█████     | 5/10 [13:05<11:11, 134.29s/it, entropy=11.470348, kl=0.0, loss=11.470348]\u001b[A\n",
            " 50%|█████     | 5/10 [13:08<11:11, 134.29s/it, entropy=11.470348, kl=0.0, loss=11.470348]\u001b[A\n",
            " 50%|█████     | 5/10 [13:10<11:11, 134.29s/it, entropy=11.470348, kl=0.0, loss=11.470348]\u001b[A\n",
            " 50%|█████     | 5/10 [13:12<11:11, 134.29s/it, entropy=11.470348, kl=0.0, loss=11.470348]\u001b[A\n",
            " 50%|█████     | 5/10 [13:14<11:11, 134.29s/it, entropy=11.470348, kl=0.0, loss=11.470348]\u001b[A\n",
            " 50%|█████     | 5/10 [13:17<11:11, 134.29s/it, entropy=11.470348, kl=0.0, loss=11.470348]\u001b[A\n",
            " 50%|█████     | 5/10 [13:19<11:11, 134.29s/it, entropy=11.470348, kl=0.0, loss=11.470348]\u001b[A\n",
            " 50%|█████     | 5/10 [13:21<11:11, 134.29s/it, entropy=11.470348, kl=0.0, loss=11.470348]\u001b[A\n",
            " 50%|█████     | 5/10 [13:24<11:11, 134.29s/it, entropy=11.470348, kl=0.0, loss=11.470348]\u001b[A\n",
            " 50%|█████     | 5/10 [13:25<11:11, 134.29s/it, entropy=11.470348, kl=0.0, loss=11.470348]\u001b[A\n",
            " 60%|██████    | 6/10 [13:25<08:55, 133.93s/it, entropy=11.470348, kl=0.0, loss=11.470348]\u001b[A\n",
            " 60%|██████    | 6/10 [13:27<08:55, 133.93s/it, entropy=11.470348, kl=0.0, loss=11.470348]\u001b[A\n",
            " 60%|██████    | 6/10 [13:29<08:55, 133.93s/it, entropy=11.470348, kl=0.0, loss=11.470348]\u001b[A\n",
            " 60%|██████    | 6/10 [13:32<08:55, 133.93s/it, entropy=11.470348, kl=0.0, loss=11.470348]\u001b[A\n",
            " 60%|██████    | 6/10 [13:34<08:55, 133.93s/it, entropy=11.470348, kl=0.0, loss=11.470348]\u001b[A\n",
            " 60%|██████    | 6/10 [13:36<08:55, 133.93s/it, entropy=11.470348, kl=0.0, loss=11.470348]\u001b[A\n",
            " 60%|██████    | 6/10 [13:38<08:55, 133.93s/it, entropy=11.470348, kl=0.0, loss=11.470348]\u001b[A\n",
            " 60%|██████    | 6/10 [13:41<08:55, 133.93s/it, entropy=11.470348, kl=0.0, loss=11.470348]\u001b[A\n",
            " 60%|██████    | 6/10 [13:43<08:55, 133.93s/it, entropy=11.470348, kl=0.0, loss=11.470348]\u001b[A\n",
            " 60%|██████    | 6/10 [13:45<08:55, 133.93s/it, entropy=11.470348, kl=0.0, loss=11.470348]\u001b[A\n",
            " 60%|██████    | 6/10 [13:47<08:55, 133.93s/it, entropy=11.470348, kl=0.0, loss=11.470348]\u001b[A\n",
            " 60%|██████    | 6/10 [13:50<08:55, 133.93s/it, entropy=11.470348, kl=0.0, loss=11.470348]\u001b[A\n",
            " 60%|██████    | 6/10 [13:52<08:55, 133.93s/it, entropy=11.470348, kl=0.0, loss=11.470348]\u001b[A\n",
            " 60%|██████    | 6/10 [13:54<08:55, 133.93s/it, entropy=11.470348, kl=0.0, loss=11.470348]\u001b[A\n",
            " 60%|██████    | 6/10 [13:56<08:55, 133.93s/it, entropy=11.470348, kl=0.0, loss=11.470348]\u001b[A\n",
            " 60%|██████    | 6/10 [13:59<08:55, 133.93s/it, entropy=11.470348, kl=0.0, loss=11.470348]\u001b[A\n",
            " 60%|██████    | 6/10 [14:01<08:55, 133.93s/it, entropy=11.470348, kl=0.0, loss=11.470348]\u001b[A\n",
            " 60%|██████    | 6/10 [14:03<08:55, 133.93s/it, entropy=11.470348, kl=0.0, loss=11.470348]\u001b[A\n",
            " 60%|██████    | 6/10 [14:05<08:55, 133.93s/it, entropy=11.470348, kl=0.0, loss=11.470348]\u001b[A\n",
            " 60%|██████    | 6/10 [14:08<08:55, 133.93s/it, entropy=11.470348, kl=0.0, loss=11.470348]\u001b[A\n",
            " 60%|██████    | 6/10 [14:10<08:55, 133.93s/it, entropy=11.470348, kl=0.0, loss=11.470348]\u001b[A\n",
            " 60%|██████    | 6/10 [14:12<08:55, 133.93s/it, entropy=11.470348, kl=0.0, loss=11.470348]\u001b[A\n",
            " 60%|██████    | 6/10 [14:15<08:55, 133.93s/it, entropy=11.470348, kl=0.0, loss=11.470348]\u001b[A\n",
            " 60%|██████    | 6/10 [14:17<08:55, 133.93s/it, entropy=11.470348, kl=0.0, loss=11.470348]\u001b[A\n",
            " 60%|██████    | 6/10 [14:19<08:55, 133.93s/it, entropy=11.470348, kl=0.0, loss=11.470348]\u001b[A\n",
            " 60%|██████    | 6/10 [14:21<08:55, 133.93s/it, entropy=11.470348, kl=0.0, loss=11.470348]\u001b[A\n",
            " 60%|██████    | 6/10 [14:24<08:55, 133.93s/it, entropy=11.470348, kl=0.0, loss=11.470348]\u001b[A\n",
            " 60%|██████    | 6/10 [14:26<08:55, 133.93s/it, entropy=11.470348, kl=0.0, loss=11.470348]\u001b[A\n",
            " 60%|██████    | 6/10 [14:28<08:55, 133.93s/it, entropy=11.470348, kl=0.0, loss=11.470348]\u001b[A\n",
            " 60%|██████    | 6/10 [14:30<08:55, 133.93s/it, entropy=11.470348, kl=0.0, loss=11.470348]\u001b[A\n",
            " 60%|██████    | 6/10 [14:33<08:55, 133.93s/it, entropy=11.470348, kl=0.0, loss=11.470348]\u001b[A\n",
            " 60%|██████    | 6/10 [14:35<08:55, 133.93s/it, entropy=11.470348, kl=0.0, loss=11.470348]\u001b[A\n",
            " 60%|██████    | 6/10 [14:37<08:55, 133.93s/it, entropy=11.470348, kl=0.0, loss=11.470348]\u001b[A\n",
            " 60%|██████    | 6/10 [14:40<08:55, 133.93s/it, entropy=11.470348, kl=0.0, loss=11.470348]\u001b[A\n",
            " 60%|██████    | 6/10 [14:42<08:55, 133.93s/it, entropy=11.470348, kl=0.0, loss=11.470348]\u001b[A\n",
            " 60%|██████    | 6/10 [14:44<08:55, 133.93s/it, entropy=11.470348, kl=0.0, loss=11.470348]\u001b[A\n",
            " 60%|██████    | 6/10 [14:46<08:55, 133.93s/it, entropy=11.470348, kl=0.0, loss=11.470348]\u001b[A\n",
            " 60%|██████    | 6/10 [14:49<08:55, 133.93s/it, entropy=11.470348, kl=0.0, loss=11.470348]\u001b[A\n",
            " 60%|██████    | 6/10 [14:51<08:55, 133.93s/it, entropy=11.470348, kl=0.0, loss=11.470348]\u001b[A\n",
            " 60%|██████    | 6/10 [14:53<08:55, 133.93s/it, entropy=11.470348, kl=0.0, loss=11.470348]\u001b[A\n",
            " 60%|██████    | 6/10 [14:56<08:55, 133.93s/it, entropy=11.470348, kl=0.0, loss=11.470348]\u001b[A\n",
            " 60%|██████    | 6/10 [14:58<08:55, 133.93s/it, entropy=11.470348, kl=0.0, loss=11.470348]\u001b[A\n",
            " 60%|██████    | 6/10 [15:00<08:55, 133.93s/it, entropy=11.470348, kl=0.0, loss=11.470348]\u001b[A\n",
            " 60%|██████    | 6/10 [15:02<08:55, 133.93s/it, entropy=11.470348, kl=0.0, loss=11.470348]\u001b[A\n",
            " 60%|██████    | 6/10 [15:05<08:55, 133.93s/it, entropy=11.470348, kl=0.0, loss=11.470348]\u001b[A\n",
            " 60%|██████    | 6/10 [15:07<08:55, 133.93s/it, entropy=11.470348, kl=0.0, loss=11.470348]\u001b[A\n",
            " 60%|██████    | 6/10 [15:09<08:55, 133.93s/it, entropy=11.470348, kl=0.0, loss=11.470348]\u001b[A\n",
            " 60%|██████    | 6/10 [15:11<08:55, 133.93s/it, entropy=11.470348, kl=0.0, loss=11.470348]\u001b[A\n",
            " 60%|██████    | 6/10 [15:14<08:55, 133.93s/it, entropy=11.470348, kl=0.0, loss=11.470348]\u001b[A\n",
            " 60%|██████    | 6/10 [15:16<08:55, 133.93s/it, entropy=11.470348, kl=0.0, loss=11.470348]\u001b[A\n",
            " 60%|██████    | 6/10 [15:18<08:55, 133.93s/it, entropy=11.470348, kl=0.0, loss=11.470348]\u001b[A\n",
            " 60%|██████    | 6/10 [15:21<08:55, 133.93s/it, entropy=11.470348, kl=0.0, loss=11.470348]\u001b[A\n",
            " 60%|██████    | 6/10 [15:23<08:55, 133.93s/it, entropy=11.470348, kl=0.0, loss=11.470348]\u001b[A\n",
            " 60%|██████    | 6/10 [15:25<08:55, 133.93s/it, entropy=11.470348, kl=0.0, loss=11.470348]\u001b[A\n",
            " 60%|██████    | 6/10 [15:27<08:55, 133.93s/it, entropy=11.470348, kl=0.0, loss=11.470348]\u001b[A\n",
            " 60%|██████    | 6/10 [15:30<08:55, 133.93s/it, entropy=11.470348, kl=0.0, loss=11.470348]\u001b[A\n",
            " 60%|██████    | 6/10 [15:32<08:55, 133.93s/it, entropy=11.470348, kl=0.0, loss=11.470348]\u001b[A\n",
            " 60%|██████    | 6/10 [15:34<08:55, 133.93s/it, entropy=11.470348, kl=0.0, loss=11.470348]\u001b[A\n",
            " 60%|██████    | 6/10 [15:36<08:55, 133.93s/it, entropy=11.470348, kl=0.0, loss=11.470348]\u001b[A\n",
            " 60%|██████    | 6/10 [15:38<08:55, 133.93s/it, entropy=11.470348, kl=0.0, loss=11.470348]\u001b[A\n",
            " 70%|███████   | 7/10 [15:38<06:40, 133.56s/it, entropy=11.470348, kl=0.0, loss=11.470348]\u001b[A\n",
            " 70%|███████   | 7/10 [15:40<06:40, 133.56s/it, entropy=11.470348, kl=0.0, loss=11.470348]\u001b[A\n",
            " 70%|███████   | 7/10 [15:42<06:40, 133.56s/it, entropy=11.470348, kl=0.0, loss=11.470348]\u001b[A\n",
            " 70%|███████   | 7/10 [15:44<06:40, 133.56s/it, entropy=11.470348, kl=0.0, loss=11.470348]\u001b[A\n",
            " 70%|███████   | 7/10 [15:47<06:40, 133.56s/it, entropy=11.470348, kl=0.0, loss=11.470348]\u001b[A\n",
            " 70%|███████   | 7/10 [15:49<06:40, 133.56s/it, entropy=11.470348, kl=0.0, loss=11.470348]\u001b[A\n",
            " 70%|███████   | 7/10 [15:51<06:40, 133.56s/it, entropy=11.470348, kl=0.0, loss=11.470348]\u001b[A\n",
            " 70%|███████   | 7/10 [15:53<06:40, 133.56s/it, entropy=11.470348, kl=0.0, loss=11.470348]\u001b[A\n",
            " 70%|███████   | 7/10 [15:56<06:40, 133.56s/it, entropy=11.470348, kl=0.0, loss=11.470348]\u001b[A\n",
            " 70%|███████   | 7/10 [15:58<06:40, 133.56s/it, entropy=11.470348, kl=0.0, loss=11.470348]\u001b[A\n",
            " 70%|███████   | 7/10 [16:00<06:40, 133.56s/it, entropy=11.470348, kl=0.0, loss=11.470348]\u001b[A\n",
            " 70%|███████   | 7/10 [16:03<06:40, 133.56s/it, entropy=11.470348, kl=0.0, loss=11.470348]\u001b[A\n",
            " 70%|███████   | 7/10 [16:05<06:40, 133.56s/it, entropy=11.470348, kl=0.0, loss=11.470348]\u001b[A\n",
            " 70%|███████   | 7/10 [16:07<06:40, 133.56s/it, entropy=11.470348, kl=0.0, loss=11.470348]\u001b[A\n",
            " 70%|███████   | 7/10 [16:09<06:40, 133.56s/it, entropy=11.470348, kl=0.0, loss=11.470348]\u001b[A\n",
            " 70%|███████   | 7/10 [16:12<06:40, 133.56s/it, entropy=11.470348, kl=0.0, loss=11.470348]\u001b[A\n",
            " 70%|███████   | 7/10 [16:14<06:40, 133.56s/it, entropy=11.470348, kl=0.0, loss=11.470348]\u001b[A\n",
            " 70%|███████   | 7/10 [16:16<06:40, 133.56s/it, entropy=11.470348, kl=0.0, loss=11.470348]\u001b[A\n",
            " 70%|███████   | 7/10 [16:19<06:40, 133.56s/it, entropy=11.470348, kl=0.0, loss=11.470348]\u001b[A\n",
            " 70%|███████   | 7/10 [16:21<06:40, 133.56s/it, entropy=11.470348, kl=0.0, loss=11.470348]\u001b[A\n",
            " 70%|███████   | 7/10 [16:23<06:40, 133.56s/it, entropy=11.470348, kl=0.0, loss=11.470348]\u001b[A\n",
            " 70%|███████   | 7/10 [16:25<06:40, 133.56s/it, entropy=11.470348, kl=0.0, loss=11.470348]\u001b[A\n",
            " 70%|███████   | 7/10 [16:28<06:40, 133.56s/it, entropy=11.470348, kl=0.0, loss=11.470348]\u001b[A\n",
            " 70%|███████   | 7/10 [16:30<06:40, 133.56s/it, entropy=11.470348, kl=0.0, loss=11.470348]\u001b[A\n",
            " 70%|███████   | 7/10 [16:32<06:40, 133.56s/it, entropy=11.470348, kl=0.0, loss=11.470348]\u001b[A\n",
            " 70%|███████   | 7/10 [16:35<06:40, 133.56s/it, entropy=11.470348, kl=0.0, loss=11.470348]\u001b[A\n",
            " 70%|███████   | 7/10 [16:37<06:40, 133.56s/it, entropy=11.470348, kl=0.0, loss=11.470348]\u001b[A\n",
            " 70%|███████   | 7/10 [16:39<06:40, 133.56s/it, entropy=11.470348, kl=0.0, loss=11.470348]\u001b[A\n",
            " 70%|███████   | 7/10 [16:41<06:40, 133.56s/it, entropy=11.470348, kl=0.0, loss=11.470348]\u001b[A\n",
            " 70%|███████   | 7/10 [16:44<06:40, 133.56s/it, entropy=11.470348, kl=0.0, loss=11.470348]\u001b[A\n",
            " 70%|███████   | 7/10 [16:46<06:40, 133.56s/it, entropy=11.470348, kl=0.0, loss=11.470348]\u001b[A\n",
            " 70%|███████   | 7/10 [16:48<06:40, 133.56s/it, entropy=11.470348, kl=0.0, loss=11.470348]\u001b[A\n",
            " 70%|███████   | 7/10 [16:50<06:40, 133.56s/it, entropy=11.470348, kl=0.0, loss=11.470348]\u001b[A\n",
            " 70%|███████   | 7/10 [16:53<06:40, 133.56s/it, entropy=11.470348, kl=0.0, loss=11.470348]\u001b[A\n",
            " 70%|███████   | 7/10 [16:55<06:40, 133.56s/it, entropy=11.470348, kl=0.0, loss=11.470348]\u001b[A\n",
            " 70%|███████   | 7/10 [16:57<06:40, 133.56s/it, entropy=11.470348, kl=0.0, loss=11.470348]\u001b[A\n",
            " 70%|███████   | 7/10 [17:00<06:40, 133.56s/it, entropy=11.470348, kl=0.0, loss=11.470348]\u001b[A\n",
            " 70%|███████   | 7/10 [17:02<06:40, 133.56s/it, entropy=11.470348, kl=0.0, loss=11.470348]\u001b[A\n",
            " 70%|███████   | 7/10 [17:04<06:40, 133.56s/it, entropy=11.470348, kl=0.0, loss=11.470348]\u001b[A\n",
            " 70%|███████   | 7/10 [17:06<06:40, 133.56s/it, entropy=11.470348, kl=0.0, loss=11.470348]\u001b[A\n",
            " 70%|███████   | 7/10 [17:09<06:40, 133.56s/it, entropy=11.470348, kl=0.0, loss=11.470348]\u001b[A\n",
            " 70%|███████   | 7/10 [17:11<06:40, 133.56s/it, entropy=11.470348, kl=0.0, loss=11.470348]\u001b[A\n",
            " 70%|███████   | 7/10 [17:13<06:40, 133.56s/it, entropy=11.470348, kl=0.0, loss=11.470348]\u001b[A\n",
            " 70%|███████   | 7/10 [17:16<06:40, 133.56s/it, entropy=11.470348, kl=0.0, loss=11.470348]\u001b[A\n",
            " 70%|███████   | 7/10 [17:18<06:40, 133.56s/it, entropy=11.470348, kl=0.0, loss=11.470348]\u001b[A\n",
            " 70%|███████   | 7/10 [17:20<06:40, 133.56s/it, entropy=11.470348, kl=0.0, loss=11.470348]\u001b[A\n",
            " 70%|███████   | 7/10 [17:22<06:40, 133.56s/it, entropy=11.470348, kl=0.0, loss=11.470348]\u001b[A\n",
            " 70%|███████   | 7/10 [17:25<06:40, 133.56s/it, entropy=11.470348, kl=0.0, loss=11.470348]\u001b[A\n",
            " 70%|███████   | 7/10 [17:27<06:40, 133.56s/it, entropy=11.470348, kl=0.0, loss=11.470348]\u001b[A\n",
            " 70%|███████   | 7/10 [17:29<06:40, 133.56s/it, entropy=11.470348, kl=0.0, loss=11.470348]\u001b[A\n",
            " 70%|███████   | 7/10 [17:31<06:40, 133.56s/it, entropy=11.470348, kl=0.0, loss=11.470348]\u001b[A\n",
            " 70%|███████   | 7/10 [17:34<06:40, 133.56s/it, entropy=11.470348, kl=0.0, loss=11.470348]\u001b[A\n",
            " 70%|███████   | 7/10 [17:36<06:40, 133.56s/it, entropy=11.470348, kl=0.0, loss=11.470348]\u001b[A\n",
            " 70%|███████   | 7/10 [17:38<06:40, 133.56s/it, entropy=11.470348, kl=0.0, loss=11.470348]\u001b[A\n",
            " 70%|███████   | 7/10 [17:40<06:40, 133.56s/it, entropy=11.470348, kl=0.0, loss=11.470348]\u001b[A\n",
            " 70%|███████   | 7/10 [17:43<06:40, 133.56s/it, entropy=11.470348, kl=0.0, loss=11.470348]\u001b[A\n",
            " 70%|███████   | 7/10 [17:45<06:40, 133.56s/it, entropy=11.470348, kl=0.0, loss=11.470348]\u001b[A\n",
            " 70%|███████   | 7/10 [17:47<06:40, 133.56s/it, entropy=11.470348, kl=0.0, loss=11.470348]\u001b[A\n",
            " 70%|███████   | 7/10 [17:50<06:40, 133.56s/it, entropy=11.470348, kl=0.0, loss=11.470348]\u001b[A\n",
            " 70%|███████   | 7/10 [17:51<06:40, 133.56s/it, entropy=11.470348, kl=0.0, loss=11.470348]\u001b[A\n",
            " 80%|████████  | 8/10 [17:51<04:26, 133.50s/it, entropy=11.470348, kl=0.0, loss=11.470348]\u001b[A\n",
            " 80%|████████  | 8/10 [17:53<04:26, 133.50s/it, entropy=11.470348, kl=0.0, loss=11.470348]\u001b[A\n",
            " 80%|████████  | 8/10 [17:56<04:26, 133.50s/it, entropy=11.470348, kl=0.0, loss=11.470348]\u001b[A\n",
            " 80%|████████  | 8/10 [17:58<04:26, 133.50s/it, entropy=11.470348, kl=0.0, loss=11.470348]\u001b[A\n",
            " 80%|████████  | 8/10 [18:00<04:26, 133.50s/it, entropy=11.470348, kl=0.0, loss=11.470348]\u001b[A\n",
            " 80%|████████  | 8/10 [18:02<04:26, 133.50s/it, entropy=11.470348, kl=0.0, loss=11.470348]\u001b[A\n",
            " 80%|████████  | 8/10 [18:05<04:26, 133.50s/it, entropy=11.470348, kl=0.0, loss=11.470348]\u001b[A\n",
            " 80%|████████  | 8/10 [18:07<04:26, 133.50s/it, entropy=11.470348, kl=0.0, loss=11.470348]\u001b[A\n",
            " 80%|████████  | 8/10 [18:09<04:26, 133.50s/it, entropy=11.470348, kl=0.0, loss=11.470348]\u001b[A\n",
            " 80%|████████  | 8/10 [18:11<04:26, 133.50s/it, entropy=11.470348, kl=0.0, loss=11.470348]\u001b[A\n",
            " 80%|████████  | 8/10 [18:14<04:26, 133.50s/it, entropy=11.470348, kl=0.0, loss=11.470348]\u001b[A\n",
            " 80%|████████  | 8/10 [18:16<04:26, 133.50s/it, entropy=11.470348, kl=0.0, loss=11.470348]\u001b[A\n",
            " 80%|████████  | 8/10 [18:18<04:26, 133.50s/it, entropy=11.470348, kl=0.0, loss=11.470348]\u001b[A\n",
            " 80%|████████  | 8/10 [18:20<04:26, 133.50s/it, entropy=11.470348, kl=0.0, loss=11.470348]\u001b[A\n",
            " 80%|████████  | 8/10 [18:23<04:26, 133.50s/it, entropy=11.470348, kl=0.0, loss=11.470348]\u001b[A\n",
            " 80%|████████  | 8/10 [18:25<04:26, 133.50s/it, entropy=11.470348, kl=0.0, loss=11.470348]\u001b[A\n",
            " 80%|████████  | 8/10 [18:27<04:26, 133.50s/it, entropy=11.470348, kl=0.0, loss=11.470348]\u001b[A\n",
            " 80%|████████  | 8/10 [18:29<04:26, 133.50s/it, entropy=11.470348, kl=0.0, loss=11.470348]\u001b[A\n",
            " 80%|████████  | 8/10 [18:32<04:26, 133.50s/it, entropy=11.470348, kl=0.0, loss=11.470348]\u001b[A\n",
            " 80%|████████  | 8/10 [18:34<04:26, 133.50s/it, entropy=11.470348, kl=0.0, loss=11.470348]\u001b[A\n",
            " 80%|████████  | 8/10 [18:36<04:26, 133.50s/it, entropy=11.470348, kl=0.0, loss=11.470348]\u001b[A\n",
            " 80%|████████  | 8/10 [18:39<04:26, 133.50s/it, entropy=11.470348, kl=0.0, loss=11.470348]\u001b[A\n",
            " 80%|████████  | 8/10 [18:41<04:26, 133.50s/it, entropy=11.470348, kl=0.0, loss=11.470348]\u001b[A\n",
            " 80%|████████  | 8/10 [18:43<04:26, 133.50s/it, entropy=11.470348, kl=0.0, loss=11.470348]\u001b[A\n",
            " 80%|████████  | 8/10 [18:45<04:26, 133.50s/it, entropy=11.470348, kl=0.0, loss=11.470348]\u001b[A\n",
            " 80%|████████  | 8/10 [18:48<04:26, 133.50s/it, entropy=11.470348, kl=0.0, loss=11.470348]\u001b[A\n",
            " 80%|████████  | 8/10 [18:50<04:26, 133.50s/it, entropy=11.470348, kl=0.0, loss=11.470348]\u001b[A\n",
            " 80%|████████  | 8/10 [18:52<04:26, 133.50s/it, entropy=11.470348, kl=0.0, loss=11.470348]\u001b[A\n",
            " 80%|████████  | 8/10 [18:54<04:26, 133.50s/it, entropy=11.470348, kl=0.0, loss=11.470348]\u001b[A\n",
            " 80%|████████  | 8/10 [18:57<04:26, 133.50s/it, entropy=11.470348, kl=0.0, loss=11.470348]\u001b[A\n",
            " 80%|████████  | 8/10 [18:59<04:26, 133.50s/it, entropy=11.470348, kl=0.0, loss=11.470348]\u001b[A\n",
            " 80%|████████  | 8/10 [19:01<04:26, 133.50s/it, entropy=11.470348, kl=0.0, loss=11.470348]\u001b[A\n",
            " 80%|████████  | 8/10 [19:03<04:26, 133.50s/it, entropy=11.470348, kl=0.0, loss=11.470348]\u001b[A\n",
            " 80%|████████  | 8/10 [19:06<04:26, 133.50s/it, entropy=11.470348, kl=0.0, loss=11.470348]\u001b[A\n",
            " 80%|████████  | 8/10 [19:08<04:26, 133.50s/it, entropy=11.470348, kl=0.0, loss=11.470348]\u001b[A\n",
            " 80%|████████  | 8/10 [19:10<04:26, 133.50s/it, entropy=11.470348, kl=0.0, loss=11.470348]\u001b[A\n",
            " 80%|████████  | 8/10 [19:13<04:26, 133.50s/it, entropy=11.470348, kl=0.0, loss=11.470348]\u001b[A\n",
            " 80%|████████  | 8/10 [19:15<04:26, 133.50s/it, entropy=11.470348, kl=0.0, loss=11.470348]\u001b[A\n",
            " 80%|████████  | 8/10 [19:17<04:26, 133.50s/it, entropy=11.470348, kl=0.0, loss=11.470348]\u001b[A\n",
            " 80%|████████  | 8/10 [19:19<04:26, 133.50s/it, entropy=11.470348, kl=0.0, loss=11.470348]\u001b[A\n",
            " 80%|████████  | 8/10 [19:22<04:26, 133.50s/it, entropy=11.470348, kl=0.0, loss=11.470348]\u001b[A\n",
            " 80%|████████  | 8/10 [19:24<04:26, 133.50s/it, entropy=11.470348, kl=0.0, loss=11.470348]\u001b[A\n",
            " 80%|████████  | 8/10 [19:26<04:26, 133.50s/it, entropy=11.470348, kl=0.0, loss=11.470348]\u001b[A\n",
            " 80%|████████  | 8/10 [19:28<04:26, 133.50s/it, entropy=11.470348, kl=0.0, loss=11.470348]\u001b[A\n",
            " 80%|████████  | 8/10 [19:31<04:26, 133.50s/it, entropy=11.470348, kl=0.0, loss=11.470348]\u001b[A\n",
            " 80%|████████  | 8/10 [19:33<04:26, 133.50s/it, entropy=11.470348, kl=0.0, loss=11.470348]\u001b[A\n",
            " 80%|████████  | 8/10 [19:35<04:26, 133.50s/it, entropy=11.470348, kl=0.0, loss=11.470348]\u001b[A\n",
            " 80%|████████  | 8/10 [19:37<04:26, 133.50s/it, entropy=11.470348, kl=0.0, loss=11.470348]\u001b[A\n",
            " 80%|████████  | 8/10 [19:40<04:26, 133.50s/it, entropy=11.470348, kl=0.0, loss=11.470348]\u001b[A\n",
            " 80%|████████  | 8/10 [19:42<04:26, 133.50s/it, entropy=11.470348, kl=0.0, loss=11.470348]\u001b[A\n",
            " 80%|████████  | 8/10 [19:44<04:26, 133.50s/it, entropy=11.470348, kl=0.0, loss=11.470348]\u001b[A\n",
            " 80%|████████  | 8/10 [19:46<04:26, 133.50s/it, entropy=11.470348, kl=0.0, loss=11.470348]\u001b[A\n",
            " 80%|████████  | 8/10 [19:49<04:26, 133.50s/it, entropy=11.470348, kl=0.0, loss=11.470348]\u001b[A\n",
            " 80%|████████  | 8/10 [19:51<04:26, 133.50s/it, entropy=11.470348, kl=0.0, loss=11.470348]\u001b[A\n",
            " 80%|████████  | 8/10 [19:53<04:26, 133.50s/it, entropy=11.470348, kl=0.0, loss=11.470348]\u001b[A\n",
            " 80%|████████  | 8/10 [19:56<04:26, 133.50s/it, entropy=11.470348, kl=0.0, loss=11.470348]\u001b[A\n",
            " 80%|████████  | 8/10 [19:58<04:26, 133.50s/it, entropy=11.470348, kl=0.0, loss=11.470348]\u001b[A\n",
            " 80%|████████  | 8/10 [20:00<04:26, 133.50s/it, entropy=11.470348, kl=0.0, loss=11.470348]\u001b[A\n",
            " 80%|████████  | 8/10 [20:02<04:26, 133.50s/it, entropy=11.470348, kl=0.0, loss=11.470348]\u001b[A\n",
            " 80%|████████  | 8/10 [20:04<04:26, 133.50s/it, entropy=11.470348, kl=0.0, loss=11.470348]\u001b[A\n",
            " 90%|█████████ | 9/10 [20:04<02:13, 133.29s/it, entropy=11.470348, kl=0.0, loss=11.470348]\u001b[A\n",
            " 90%|█████████ | 9/10 [20:06<02:13, 133.29s/it, entropy=11.470348, kl=0.0, loss=11.470348]\u001b[A\n",
            " 90%|█████████ | 9/10 [20:08<02:13, 133.29s/it, entropy=11.470348, kl=0.0, loss=11.470348]\u001b[A\n",
            " 90%|█████████ | 9/10 [20:11<02:13, 133.29s/it, entropy=11.470348, kl=0.0, loss=11.470348]\u001b[A\n",
            " 90%|█████████ | 9/10 [20:13<02:13, 133.29s/it, entropy=11.470348, kl=0.0, loss=11.470348]\u001b[A\n",
            " 90%|█████████ | 9/10 [20:15<02:13, 133.29s/it, entropy=11.470348, kl=0.0, loss=11.470348]\u001b[A\n",
            " 90%|█████████ | 9/10 [20:17<02:13, 133.29s/it, entropy=11.470348, kl=0.0, loss=11.470348]\u001b[A\n",
            " 90%|█████████ | 9/10 [20:20<02:13, 133.29s/it, entropy=11.470348, kl=0.0, loss=11.470348]\u001b[A\n",
            " 90%|█████████ | 9/10 [20:22<02:13, 133.29s/it, entropy=11.470348, kl=0.0, loss=11.470348]\u001b[A\n",
            " 90%|█████████ | 9/10 [20:24<02:13, 133.29s/it, entropy=11.470348, kl=0.0, loss=11.470348]\u001b[A\n",
            " 90%|█████████ | 9/10 [20:26<02:13, 133.29s/it, entropy=11.470348, kl=0.0, loss=11.470348]\u001b[A\n",
            " 90%|█████████ | 9/10 [20:29<02:13, 133.29s/it, entropy=11.470348, kl=0.0, loss=11.470348]\u001b[A\n",
            " 90%|█████████ | 9/10 [20:31<02:13, 133.29s/it, entropy=11.470348, kl=0.0, loss=11.470348]\u001b[A\n",
            " 90%|█████████ | 9/10 [20:33<02:13, 133.29s/it, entropy=11.470348, kl=0.0, loss=11.470348]\u001b[A\n",
            " 90%|█████████ | 9/10 [20:36<02:13, 133.29s/it, entropy=11.470348, kl=0.0, loss=11.470348]\u001b[A\n",
            " 90%|█████████ | 9/10 [20:38<02:13, 133.29s/it, entropy=11.470348, kl=0.0, loss=11.470348]\u001b[A\n",
            " 90%|█████████ | 9/10 [20:40<02:13, 133.29s/it, entropy=11.470348, kl=0.0, loss=11.470348]\u001b[A\n",
            " 90%|█████████ | 9/10 [20:42<02:13, 133.29s/it, entropy=11.470348, kl=0.0, loss=11.470348]\u001b[A\n",
            " 90%|█████████ | 9/10 [20:45<02:13, 133.29s/it, entropy=11.470348, kl=0.0, loss=11.470348]\u001b[A\n",
            " 90%|█████████ | 9/10 [20:47<02:13, 133.29s/it, entropy=11.470348, kl=0.017988946, loss=11.452359]\u001b[A\n",
            " 90%|█████████ | 9/10 [20:49<02:13, 133.29s/it, entropy=11.470348, kl=0.0, loss=11.470348]        \u001b[A\n",
            " 90%|█████████ | 9/10 [20:51<02:13, 133.29s/it, entropy=11.470348, kl=0.0, loss=11.470348]\u001b[A\n",
            " 90%|█████████ | 9/10 [20:54<02:13, 133.29s/it, entropy=11.470348, kl=0.0, loss=11.470348]\u001b[A\n",
            " 90%|█████████ | 9/10 [20:56<02:13, 133.29s/it, entropy=11.470348, kl=0.0, loss=11.470348]\u001b[A\n",
            " 90%|█████████ | 9/10 [20:58<02:13, 133.29s/it, entropy=11.470348, kl=0.0, loss=11.470348]\u001b[A\n",
            " 90%|█████████ | 9/10 [21:01<02:13, 133.29s/it, entropy=11.470348, kl=0.0, loss=11.470348]\u001b[A\n",
            " 90%|█████████ | 9/10 [21:03<02:13, 133.29s/it, entropy=11.470348, kl=0.0, loss=11.470348]\u001b[A\n",
            " 90%|█████████ | 9/10 [21:05<02:13, 133.29s/it, entropy=11.470348, kl=0.0, loss=11.470348]\u001b[A\n",
            " 90%|█████████ | 9/10 [21:07<02:13, 133.29s/it, entropy=11.470348, kl=0.0, loss=11.470348]\u001b[A\n",
            " 90%|█████████ | 9/10 [21:10<02:13, 133.29s/it, entropy=11.470348, kl=0.0, loss=11.470348]\u001b[A\n",
            " 90%|█████████ | 9/10 [21:12<02:13, 133.29s/it, entropy=11.470348, kl=0.0, loss=11.470348]\u001b[A\n",
            " 90%|█████████ | 9/10 [21:14<02:13, 133.29s/it, entropy=11.470348, kl=0.0, loss=11.470348]\u001b[A\n",
            " 90%|█████████ | 9/10 [21:16<02:13, 133.29s/it, entropy=11.470348, kl=0.0, loss=11.470348]\u001b[A\n",
            " 90%|█████████ | 9/10 [21:19<02:13, 133.29s/it, entropy=11.470348, kl=0.0, loss=11.470348]\u001b[A\n",
            " 90%|█████████ | 9/10 [21:21<02:13, 133.29s/it, entropy=11.470348, kl=0.0, loss=11.470348]\u001b[A\n",
            " 90%|█████████ | 9/10 [21:23<02:13, 133.29s/it, entropy=11.470348, kl=0.0, loss=11.470348]\u001b[A\n",
            " 90%|█████████ | 9/10 [21:26<02:13, 133.29s/it, entropy=11.470348, kl=0.0, loss=11.470348]\u001b[A\n",
            " 90%|█████████ | 9/10 [21:28<02:13, 133.29s/it, entropy=11.470348, kl=0.0, loss=11.470348]\u001b[A\n",
            " 90%|█████████ | 9/10 [21:30<02:13, 133.29s/it, entropy=11.470348, kl=0.0, loss=11.470348]\u001b[A\n",
            " 90%|█████████ | 9/10 [21:32<02:13, 133.29s/it, entropy=11.470348, kl=0.0, loss=11.470348]\u001b[A\n",
            " 90%|█████████ | 9/10 [21:35<02:13, 133.29s/it, entropy=11.470348, kl=0.0, loss=11.470348]\u001b[A\n",
            " 90%|█████████ | 9/10 [21:37<02:13, 133.29s/it, entropy=11.470348, kl=0.0, loss=11.470348]\u001b[A\n",
            " 90%|█████████ | 9/10 [21:39<02:13, 133.29s/it, entropy=11.470348, kl=0.0, loss=11.470348]\u001b[A\n",
            " 90%|█████████ | 9/10 [21:41<02:13, 133.29s/it, entropy=11.470348, kl=0.0, loss=11.470348]\u001b[A\n",
            " 90%|█████████ | 9/10 [21:44<02:13, 133.29s/it, entropy=11.470348, kl=0.0, loss=11.470348]\u001b[A\n",
            " 90%|█████████ | 9/10 [21:46<02:13, 133.29s/it, entropy=11.470348, kl=0.0, loss=11.470348]\u001b[A\n",
            " 90%|█████████ | 9/10 [21:48<02:13, 133.29s/it, entropy=11.470348, kl=0.0, loss=11.470348]\u001b[A\n",
            " 90%|█████████ | 9/10 [21:50<02:13, 133.29s/it, entropy=11.470348, kl=0.0, loss=11.470348]\u001b[A\n",
            " 90%|█████████ | 9/10 [21:53<02:13, 133.29s/it, entropy=11.470348, kl=0.0, loss=11.470348]\u001b[A\n",
            " 90%|█████████ | 9/10 [21:55<02:13, 133.29s/it, entropy=11.470348, kl=0.0, loss=11.470348]\u001b[A\n",
            " 90%|█████████ | 9/10 [21:57<02:13, 133.29s/it, entropy=11.470348, kl=0.0, loss=11.470348]\u001b[A\n",
            " 90%|█████████ | 9/10 [22:00<02:13, 133.29s/it, entropy=11.470348, kl=0.0, loss=11.470348]\u001b[A\n",
            " 90%|█████████ | 9/10 [22:02<02:13, 133.29s/it, entropy=11.470348, kl=0.0, loss=11.470348]\u001b[A\n",
            " 90%|█████████ | 9/10 [22:04<02:13, 133.29s/it, entropy=11.470348, kl=0.0, loss=11.470348]\u001b[A\n",
            " 90%|█████████ | 9/10 [22:06<02:13, 133.29s/it, entropy=11.470348, kl=0.0, loss=11.470348]\u001b[A\n",
            " 90%|█████████ | 9/10 [22:09<02:13, 133.29s/it, entropy=11.470348, kl=0.0, loss=11.470348]\u001b[A\n",
            " 90%|█████████ | 9/10 [22:11<02:13, 133.29s/it, entropy=11.470348, kl=0.0, loss=11.470348]\u001b[A\n",
            " 90%|█████████ | 9/10 [22:13<02:13, 133.29s/it, entropy=11.470348, kl=0.0, loss=11.470348]\u001b[A\n",
            " 90%|█████████ | 9/10 [22:15<02:13, 133.29s/it, entropy=11.470348, kl=0.0, loss=11.470348]\u001b[A\n",
            " 90%|█████████ | 9/10 [22:17<02:13, 133.29s/it, entropy=11.470348, kl=0.0, loss=11.470348]\u001b[A\n",
            "100%|██████████| 10/10 [22:17<00:00, 133.74s/it, entropy=11.470348, kl=0.0, loss=11.470348]\n",
            " 80%|████████  | 2004/2500 [23:27<05:48,  1.42it/s, entropy=11.465776, kl=0.13200986]"
          ],
          "name": "stderr"
        },
        {
          "output_type": "stream",
          "text": [
            "-----------------------------------------------------------------\n"
          ],
          "name": "stdout"
        },
        {
          "output_type": "stream",
          "text": [
            "\n"
          ],
          "name": "stderr"
        }
      ]
    },
    {
      "cell_type": "code",
      "metadata": {
        "id": "JhjFziQSxIKC",
        "colab_type": "code",
        "colab": {
          "base_uri": "https://localhost:8080/",
          "height": 35
        },
        "outputId": "e1172695-9b83-4269-d087-cefc9236b6ce"
      },
      "source": [
        "print('ok')"
      ],
      "execution_count": null,
      "outputs": [
        {
          "output_type": "stream",
          "text": [
            "ok\n"
          ],
          "name": "stdout"
        }
      ]
    },
    {
      "cell_type": "code",
      "metadata": {
        "id": "pF-31a35qB9x",
        "colab_type": "code",
        "colab": {}
      },
      "source": [
        ""
      ],
      "execution_count": null,
      "outputs": []
    }
  ]
}