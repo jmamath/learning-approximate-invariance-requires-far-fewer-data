{
  "nbformat": 4,
  "nbformat_minor": 0,
  "metadata": {
    "colab": {
      "name": "Estimate Uncertainty.ipynb",
      "provenance": [],
      "authorship_tag": "ABX9TyPVkMbstCGtu62mGQkPwESg",
      "include_colab_link": true
    },
    "kernelspec": {
      "name": "python3",
      "display_name": "Python 3"
    },
    "accelerator": "GPU"
  },
  "cells": [
    {
      "cell_type": "markdown",
      "metadata": {
        "id": "view-in-github",
        "colab_type": "text"
      },
      "source": [
        "<a href=\"https://colab.research.google.com/github/jmamath/learning-approximate-invariance-requires-far-fewer-data/blob/master/Estimate_Uncertainty.ipynb\" target=\"_parent\"><img src=\"https://colab.research.google.com/assets/colab-badge.svg\" alt=\"Open In Colab\"/></a>"
      ]
    },
    {
      "cell_type": "code",
      "metadata": {
        "id": "5f2kTYjmuTDq",
        "colab_type": "code",
        "colab": {
          "base_uri": "https://localhost:8080/",
          "height": 227
        },
        "outputId": "2f032ef8-d708-4640-c63d-39039e83ec0b"
      },
      "source": [
        "!pip install emnist"
      ],
      "execution_count": null,
      "outputs": [
        {
          "output_type": "stream",
          "text": [
            "Collecting emnist\n",
            "  Downloading https://files.pythonhosted.org/packages/d1/f4/78b24acbef9e8fe976dda700f16a3606f3b8363b015bc555f8050fbbd8ac/emnist-0.0-py3-none-any.whl\n",
            "Requirement already satisfied: tqdm in /usr/local/lib/python3.6/dist-packages (from emnist) (4.41.1)\n",
            "Requirement already satisfied: numpy in /usr/local/lib/python3.6/dist-packages (from emnist) (1.18.4)\n",
            "Requirement already satisfied: requests in /usr/local/lib/python3.6/dist-packages (from emnist) (2.23.0)\n",
            "Requirement already satisfied: certifi>=2017.4.17 in /usr/local/lib/python3.6/dist-packages (from requests->emnist) (2020.4.5.1)\n",
            "Requirement already satisfied: urllib3!=1.25.0,!=1.25.1,<1.26,>=1.21.1 in /usr/local/lib/python3.6/dist-packages (from requests->emnist) (1.24.3)\n",
            "Requirement already satisfied: idna<3,>=2.5 in /usr/local/lib/python3.6/dist-packages (from requests->emnist) (2.9)\n",
            "Requirement already satisfied: chardet<4,>=3.0.2 in /usr/local/lib/python3.6/dist-packages (from requests->emnist) (3.0.4)\n",
            "Installing collected packages: emnist\n",
            "Successfully installed emnist-0.0\n"
          ],
          "name": "stdout"
        }
      ]
    },
    {
      "cell_type": "code",
      "metadata": {
        "id": "aXuuo14_rZiU",
        "colab_type": "code",
        "colab": {}
      },
      "source": [
        "import pandas as pd\n",
        "import numpy as np\n",
        "import matplotlib.pyplot as plt\n",
        "from mpl_toolkits.axes_grid1 import ImageGrid\n",
        "import os\n",
        "import time\n",
        "\n",
        "import torch\n",
        "from torch.distributions import Normal\n",
        "import torchvision\n",
        "import torch.nn as nn\n",
        "import torch.nn.functional as F\n",
        "import torch.optim as optim \n",
        "from tqdm import trange\n",
        " \n",
        "from torchvision.transforms import transforms\n",
        "from torch.utils.data import DataLoader\n",
        "from torch.utils.data import Dataset\n",
        "import seaborn as sns\n",
        "import imgaug\n",
        "from keras.datasets import fashion_mnist\n",
        "from imgaug import augmenters as iaa\n",
        "from keras.utils import np_utils\n",
        "torch.set_default_tensor_type('torch.cuda.FloatTensor')\n",
        "\n",
        "# Memory profiling\n",
        "import psutil\n",
        "import sys\n",
        "\n",
        "def get_device():\n",
        "    if torch.cuda.is_available():\n",
        "        device = 'cuda:0'\n",
        "    else:\n",
        "        device = 'cpu'\n",
        "    return device\n",
        "device = get_device()\n",
        "\n",
        "# device = 'cpu'\n",
        "print(device)"
      ],
      "execution_count": null,
      "outputs": []
    },
    {
      "cell_type": "code",
      "metadata": {
        "id": "pIqq_RTFuaWv",
        "colab_type": "code",
        "colab": {}
      },
      "source": [
        "from emnist import list_datasets\n",
        "list_datasets()\n"
      ],
      "execution_count": null,
      "outputs": []
    },
    {
      "cell_type": "code",
      "metadata": {
        "id": "rHnkM_Lwum2h",
        "colab_type": "code",
        "colab": {}
      },
      "source": [
        "from emnist import extract_training_samples\n",
        "images, labels = extract_training_samples('letters')\n"
      ],
      "execution_count": null,
      "outputs": []
    },
    {
      "cell_type": "code",
      "metadata": {
        "id": "-PneSox7uut3",
        "colab_type": "code",
        "colab": {}
      },
      "source": [
        "plt.imshow(images[2])\n",
        "plt.title(\"{}\".format(labels[2]))"
      ],
      "execution_count": null,
      "outputs": []
    },
    {
      "cell_type": "code",
      "metadata": {
        "id": "C0dvDcjPweLi",
        "colab_type": "code",
        "colab": {}
      },
      "source": [
        "mask_a = labels == 1\n",
        "mask_b = labels == 2\n",
        "mask_c = labels == 3\n",
        "mask_d = labels == 4\n",
        "mask_e = labels == 5\n",
        "mask_f = labels == 6\n",
        "mask_g = labels == 7\n",
        "mask_h = labels == 8\n",
        "mask_i = labels == 9\n",
        "mask_j = labels == 10"
      ],
      "execution_count": null,
      "outputs": []
    },
    {
      "cell_type": "code",
      "metadata": {
        "id": "kz-1ImD6wzoS",
        "colab_type": "code",
        "colab": {}
      },
      "source": [
        "data_a = images[mask_a]\n",
        "data_b = images[mask_b]\n",
        "data_c = images[mask_c]\n",
        "data_d = images[mask_d]\n",
        "data_e = images[mask_e]\n",
        "data_f = images[mask_f]\n",
        "data_g = images[mask_g]\n",
        "data_h = images[mask_h]\n",
        "data_i = images[mask_i]\n",
        "data_j = images[mask_j]\n",
        "\n"
      ],
      "execution_count": null,
      "outputs": []
    },
    {
      "cell_type": "code",
      "metadata": {
        "id": "_JJcSAGzzNV4",
        "colab_type": "code",
        "colab": {}
      },
      "source": [
        "label_a = labels[mask_a]\n",
        "label_b = labels[mask_b]\n",
        "label_c = labels[mask_c]\n",
        "label_d = labels[mask_d]\n",
        "label_e = labels[mask_e]\n",
        "label_f = labels[mask_f]\n",
        "label_g = labels[mask_g]\n",
        "label_h = labels[mask_h]\n",
        "label_i = labels[mask_i]\n",
        "label_j = labels[mask_j]"
      ],
      "execution_count": null,
      "outputs": []
    },
    {
      "cell_type": "code",
      "metadata": {
        "id": "VRhhE6APw3jv",
        "colab_type": "code",
        "colab": {}
      },
      "source": [
        "dataset = np.concatenate([data_a, data_b, data_c,\n",
        "                          data_d, data_e, data_f,\n",
        "                          data_g, data_h, data_i,\n",
        "                          data_j], axis=0)\n",
        "\n",
        "labels_ = np.concatenate([label_a, label_b, label_c,\n",
        "                          label_d, label_e, label_f,\n",
        "                          label_g, label_h, label_i,\n",
        "                          label_j], axis=0)"
      ],
      "execution_count": null,
      "outputs": []
    },
    {
      "cell_type": "code",
      "metadata": {
        "id": "ifmdAuT3MG_m",
        "colab_type": "code",
        "colab": {
          "base_uri": "https://localhost:8080/",
          "height": 35
        },
        "outputId": "02f3c1ab-e561-4648-9af7-41fabea341ee"
      },
      "source": [
        "data_a.shape"
      ],
      "execution_count": null,
      "outputs": [
        {
          "output_type": "execute_result",
          "data": {
            "text/plain": [
              "(4800, 28, 28)"
            ]
          },
          "metadata": {
            "tags": []
          },
          "execution_count": 10
        }
      ]
    },
    {
      "cell_type": "code",
      "metadata": {
        "id": "EPugoUd4xR3i",
        "colab_type": "code",
        "colab": {}
      },
      "source": [
        "dataset = dataset.astype(np.float32)\n",
        "dataset /= 255\n",
        "labels_ = labels_.astype(np.int64)"
      ],
      "execution_count": null,
      "outputs": []
    },
    {
      "cell_type": "code",
      "metadata": {
        "id": "h5cH5zmZrtCp",
        "colab_type": "code",
        "cellView": "both",
        "colab": {}
      },
      "source": [
        "# @title Dataset class\n",
        "class MyData(Dataset):\n",
        "  'Characterizes a dataset for PyTorch'\n",
        "  def __init__(self, data, labels, display):\n",
        "        'Initialization'\n",
        "        self.labels = labels\n",
        "        self.data = data \n",
        "        self.display = display     \n",
        "\n",
        "  def __len__(self):\n",
        "        'Denotes the total number of samples'\n",
        "        return len(self.data)\n",
        "\n",
        "  def __getitem__(self, index):\n",
        "        'Generates one sample of data'\n",
        "        # Select sample\n",
        "        X = self.data[index]            \n",
        "        # Load data and get label\n",
        "        y = self.labels[index] \n",
        "        if self.display:       \n",
        "          return X,y       \n",
        "        else:\n",
        "          # import pdb; pdb.set_trace()\n",
        "          return X.reshape(-1), y"
      ],
      "execution_count": null,
      "outputs": []
    },
    {
      "cell_type": "code",
      "metadata": {
        "id": "2Ux5BcY1x-kA",
        "colab_type": "code",
        "colab": {}
      },
      "source": [
        "new_data = MyData(dataset,labels_, display=True)\n",
        "loader_basic = DataLoader(new_data,batch_size=128,shuffle=True)\n"
      ],
      "execution_count": null,
      "outputs": []
    },
    {
      "cell_type": "code",
      "metadata": {
        "id": "7EKwD5Oc0IDm",
        "colab_type": "code",
        "colab": {}
      },
      "source": [
        "enum_data = enumerate(loader_basic)\n",
        "_, (data, label) = next(enum_data)\n",
        "data = data.cpu()"
      ],
      "execution_count": null,
      "outputs": []
    },
    {
      "cell_type": "code",
      "metadata": {
        "id": "ghwdqXoFtSoo",
        "colab_type": "code",
        "colab": {
          "base_uri": "https://localhost:8080/",
          "height": 111
        },
        "outputId": "7e3cac6e-dadc-42ba-8d74-031e3e23f127"
      },
      "source": [
        "fig = plt.figure(figsize=(12., 6.))\n",
        "grid = ImageGrid(fig, 111,  # similar to subplot(111)\n",
        "                 nrows_ncols=(1, 10),  # creates 4x3 grid of axes\n",
        "                 axes_pad=0.1,  # pad between axes in inch.\n",
        "                 )\n",
        "\n",
        "for ax, im in zip(grid, data[:10]):\n",
        "    # Iterating over the grid returns the Axes.\n",
        "    ax.imshow(im)"
      ],
      "execution_count": null,
      "outputs": [
        {
          "output_type": "display_data",
          "data": {
            "image/png": "[encoded data removed]",
            "text/plain": [
              "<Figure size 864x432 with 20 Axes>"
            ]
          },
          "metadata": {
            "tags": [],
            "needs_background": "light"
          }
        }
      ]
    },
    {
      "cell_type": "markdown",
      "metadata": {
        "id": "FHAE8gLo5JOu",
        "colab_type": "text"
      },
      "source": [
        "## Compute the Empirical Entropy Cumulative Distribution"
      ]
    },
    {
      "cell_type": "code",
      "metadata": {
        "id": "MTFnoI5HuDMt",
        "colab_type": "code",
        "colab": {}
      },
      "source": [
        "my_data = MyData(dataset,labels_, display=False)\n",
        "testloader = DataLoader(my_data,batch_size=1024,shuffle=False)\n",
        "\n"
      ],
      "execution_count": null,
      "outputs": []
    },
    {
      "cell_type": "code",
      "metadata": {
        "id": "qnZTHNrx7ArM",
        "colab_type": "code",
        "colab": {}
      },
      "source": [
        "enum_data = enumerate(testloader)\n",
        "_, (data, label) = next(enum_data)\n",
        "data = data.cpu()\n"
      ],
      "execution_count": null,
      "outputs": []
    },
    {
      "cell_type": "code",
      "metadata": {
        "id": "Y9u3d6fFBPO2",
        "colab_type": "code",
        "colab": {
          "base_uri": "https://localhost:8080/",
          "height": 35
        },
        "outputId": "1f852fc5-0301-4143-fa2d-16e3bbb4b35c"
      },
      "source": [
        "data.max()"
      ],
      "execution_count": null,
      "outputs": [
        {
          "output_type": "execute_result",
          "data": {
            "text/plain": [
              "tensor(1., device='cpu')"
            ]
          },
          "metadata": {
            "tags": []
          },
          "execution_count": 13
        }
      ]
    },
    {
      "cell_type": "code",
      "metadata": {
        "id": "HPIX59v_7Fjs",
        "colab_type": "code",
        "colab": {
          "base_uri": "https://localhost:8080/",
          "height": 69
        },
        "outputId": "c693a812-f09f-4e4d-846a-b54a0a55f7b6"
      },
      "source": [
        "print(data.shape)\n",
        "print(label.dtype)\n",
        "print(data.dtype)"
      ],
      "execution_count": null,
      "outputs": [
        {
          "output_type": "stream",
          "text": [
            "torch.Size([1024, 784])\n",
            "torch.int64\n",
            "torch.float32\n"
          ],
          "name": "stdout"
        }
      ]
    },
    {
      "cell_type": "code",
      "metadata": {
        "id": "FXdsGTw-5Wk4",
        "colab_type": "code",
        "colab": {}
      },
      "source": [
        "from classes import *\n",
        "vanilla = torch.load(\"vanilla\")\n",
        "online_da_rotation = torch.load(\"online_da_rotation\")\n",
        "offline_da_rotation = torch.load(\"offline_da_rotation\")\n",
        "invariant_prior_rotation = torch.load(\"invariant_prior_rotation\")\n",
        "\n",
        "online_da_noise = torch.load(\"online_da_noise\")\n",
        "offline_da_noise = torch.load(\"offline_da_noise\")\n",
        "invariant_prior_noise = torch.load(\"invariant_prior_noise\")\n",
        "\n",
        "online_da_rot_noise = torch.load(\"online_da_rot_noise\")\n",
        "offline_da_rot_noise = torch.load(\"offline_da_rotation_noise\")\n",
        "invariant_prior_rot_noise = torch.load(\"invariant_prior_rotation_noise\")\n",
        "\n"
      ],
      "execution_count": null,
      "outputs": []
    },
    {
      "cell_type": "code",
      "metadata": {
        "id": "kw97rCIY5j-I",
        "colab_type": "code",
        "colab": {}
      },
      "source": [
        "def compute_accuracy(pred, y):\n",
        "  _, predicted = torch.max(F.softmax(pred), 1)\n",
        "  total = len(pred)\n",
        "  correct = (predicted == y).sum()\n",
        "  accuracy = 100 * correct.cpu().numpy() / total\n",
        "  return accuracy\n",
        "\n",
        "def evaluate_model(model, loader, repetition):\n",
        "  all_accuracies = np.zeros(repetition)\n",
        "  for i in range(repetition):\n",
        "    acc_final = []\n",
        "    for x, y in loader: # batch_level\n",
        "      # import pdb; pdb.set_trace()\n",
        "      x = x.to(device).squeeze().reshape(len(x),-1)\n",
        "      y = y.to(device)\n",
        "      # import pdb; pdb.set_trace()\n",
        "      predictions = torch.zeros(100,len(x),10)\n",
        "      for j in range(100):\n",
        "        predictions[j] = model(x)\n",
        "      pred = predictions.mean(0)\n",
        "      accuracy = compute_accuracy(pred, y)\n",
        "      acc_final.append(accuracy)\n",
        "    all_accuracies[i] = np.array(acc_final).mean()\n",
        "  return all_accuracies"
      ],
      "execution_count": null,
      "outputs": []
    },
    {
      "cell_type": "code",
      "metadata": {
        "id": "wINMyV1mtk7N",
        "colab_type": "code",
        "colab": {}
      },
      "source": [
        "from google.colab import drive\n",
        "drive.mount('/content/drive')"
      ],
      "execution_count": null,
      "outputs": []
    },
    {
      "cell_type": "code",
      "metadata": {
        "id": "vJHHTVHk6Bbc",
        "colab_type": "code",
        "colab": {
          "base_uri": "https://localhost:8080/",
          "height": 141
        },
        "outputId": "743022f1-09ca-4fa1-900a-8e9748b68db6"
      },
      "source": [
        "all_acc_vanilla = evaluate_model(vanilla, testloader, 10)\n",
        "all_acc_online_da_rot = evaluate_model(online_da_rotation, testloader, 10)\n",
        "all_acc_offline_da_rot = evaluate_model(offline_da_rotation, testloader, 10)\n",
        "all_acc_inv_prior_rot = evaluate_model(invariant_prior_rotation, testloader, 10)\n",
        "\n",
        "acc_mean_vanilla = round(all_acc_vanilla.mean(),1)\n",
        "acc_std_vanilla = round(all_acc_vanilla.std(),1)\n",
        "\n",
        "acc_mean_online_da_rot = round(all_acc_online_da_rot.mean(),1)\n",
        "acc_std_online_da_rot = round(all_acc_online_da_rot.std(),1)\n",
        "\n",
        "acc_mean_offline_da_rot = round(all_acc_offline_da_rot.mean(),1)\n",
        "acc_std_offline_da_rot = round(all_acc_offline_da_rot.std(),1)\n",
        "\n",
        "acc_mean_inv_prior_rot = round(all_acc_inv_prior_rot.mean(),1)\n",
        "acc_std_inv_prior_rot = round(all_acc_inv_prior_rot.std(),1)\n",
        "\n",
        "\n",
        "print(\"Vanilla final test accuracy: {} +/-{}\".format(acc_mean_vanilla, acc_std_vanilla))\n",
        "print(\"Online Da Rotation final test accuracy: {} +/-{}\".format(acc_mean_online_da_rot, acc_std_online_da_rot))\n",
        "print(\"Offline Da Rotation final test accuracy: {} +/-{}\".format(acc_mean_offline_da_rot, acc_std_offline_da_rot))\n",
        "print(\"Invariant prior final test accuracy: {} +/-{}\".format(acc_mean_inv_prior_rot, acc_std_inv_prior_rot))"
      ],
      "execution_count": null,
      "outputs": [
        {
          "output_type": "stream",
          "text": [
            "/usr/local/lib/python3.6/dist-packages/ipykernel_launcher.py:2: UserWarning: Implicit dimension choice for softmax has been deprecated. Change the call to include dim=X as an argument.\n",
            "  \n"
          ],
          "name": "stderr"
        },
        {
          "output_type": "stream",
          "text": [
            "Vanilla final test accuracy: 6.8 +/-0.1\n",
            "Online Da Rotation final test accuracy: 3.9 +/-0.1\n",
            "Offline Da Rotation final test accuracy: 3.8 +/-0.1\n",
            "Invariant prior final test accuracy: 5.2 +/-0.1\n"
          ],
          "name": "stdout"
        }
      ]
    },
    {
      "cell_type": "code",
      "metadata": {
        "id": "iQODgeHF6B_c",
        "colab_type": "code",
        "colab": {}
      },
      "source": [
        "def predictive_entropy(model, loader, MC_sample):\n",
        "  entropies = []\n",
        "  for x,y in loader:\n",
        "    probabilities = torch.zeros(MC_sample, len(x),10)\n",
        "    for j in range(MC_sample):\n",
        "      probabilities[j] = F.softmax(model(x.to(device)))\n",
        "    # import pdb; pdb.set_trace()\n",
        "    probs = probabilities.mean(0)\n",
        "    # Convention: 0 * log(0) = 0\n",
        "    zero_probs = probs == 0\n",
        "    log_probs = probs.log()\n",
        "    log_probs[zero_probs] = 0    \n",
        "    entropy = -(probs * log_probs).sum(-1)  \n",
        "    entropies.append(entropy.cpu().detach().numpy())\n",
        "  return np.concatenate(entropies)\n",
        "         "
      ],
      "execution_count": null,
      "outputs": []
    },
    {
      "cell_type": "code",
      "metadata": {
        "id": "wJlsi6-pLQ6N",
        "colab_type": "code",
        "colab": {
          "base_uri": "https://localhost:8080/",
          "height": 35
        },
        "outputId": "3136e971-d63f-48e3-ba77-965062248a23"
      },
      "source": [
        "t = torch.Tensor([[0.4,  0.0,  0.2,  0.4],\n",
        "[0.1,  0.3,  0.4,  0.2],\n",
        "[0.0,  0.0,  0.0,  1.0]])\n",
        "\n",
        "mask = t==0\n",
        "s = t.log()\n",
        "s[mask]=0\n",
        "-(t*s).sum(-1)\n"
      ],
      "execution_count": null,
      "outputs": [
        {
          "output_type": "execute_result",
          "data": {
            "text/plain": [
              "tensor([1.0549, 1.2799, -0.0000])"
            ]
          },
          "metadata": {
            "tags": []
          },
          "execution_count": 108
        }
      ]
    },
    {
      "cell_type": "code",
      "metadata": {
        "id": "IwpwFWNuObsX",
        "colab_type": "code",
        "colab": {
          "base_uri": "https://localhost:8080/",
          "height": 72
        },
        "outputId": "f5e18d45-817e-41e4-af9b-7712d23d954f"
      },
      "source": [
        "entropies_vanilla = predictive_entropy(vanilla, testloader, MC_sample=100)\n",
        "\n",
        "entropies_online_da_rot = predictive_entropy(online_da_rotation, testloader, MC_sample=100)\n",
        "entropies_offline_da_rot = predictive_entropy(offline_da_rotation, testloader, MC_sample=100)\n",
        "entropies_inv_prior_rot = predictive_entropy(invariant_prior_rotation, testloader, MC_sample=100)\n",
        "\n",
        "entropies_online_da_noise = predictive_entropy(online_da_noise, testloader, MC_sample=100)\n",
        "entropies_offline_da_noise = predictive_entropy(offline_da_noise, testloader, MC_sample=100)\n",
        "entropies_inv_prior_noise = predictive_entropy(invariant_prior_noise, testloader, MC_sample=100)\n",
        "\n",
        "entropies_online_da_rot_noise = predictive_entropy(online_da_rot_noise, testloader, MC_sample=100)\n",
        "entropies_offline_da_rot_noise = predictive_entropy(offline_da_rot_noise, testloader, MC_sample=100)\n",
        "entropies_inv_prior_rot_noise = predictive_entropy(invariant_prior_rot_noise, testloader, MC_sample=100)"
      ],
      "execution_count": null,
      "outputs": [
        {
          "output_type": "stream",
          "text": [
            "/usr/local/lib/python3.6/dist-packages/ipykernel_launcher.py:6: UserWarning: Implicit dimension choice for softmax has been deprecated. Change the call to include dim=X as an argument.\n",
            "  \n"
          ],
          "name": "stderr"
        }
      ]
    },
    {
      "cell_type": "code",
      "metadata": {
        "id": "iQEj6xAiuCcz",
        "colab_type": "code",
        "colab": {}
      },
      "source": [
        "np.save(\"entropies_vanilla\", entropies_vanilla)\n",
        "\n",
        "np.save(\"entropies_online_da_rot\", entropies_online_da_rot)\n",
        "np.save(\"entropies_offline_da_rot\", entropies_offline_da_rot)\n",
        "np.save(\"entropies_inv_prior_rot\", entropies_inv_prior_rot)\n",
        "\n",
        "np.save(\"entropies_online_da_noise\", entropies_online_da_noise)\n",
        "np.save(\"entropies_offline_da_noise\", entropies_offline_da_noise)\n",
        "np.save(\"entropies_inv_prior_noise\", entropies_inv_prior_noise)\n",
        "\n",
        "np.save(\"entropies_online_da_rot_noise\", entropies_online_da_rot_noise)\n",
        "np.save(\"entropies_offline_da_rot_noise\", entropies_offline_da_rot_noise)\n",
        "np.save(\"entropies_inv_prior_rot_noise\", entropies_inv_prior_rot_noise)"
      ],
      "execution_count": null,
      "outputs": []
    },
    {
      "cell_type": "code",
      "metadata": {
        "id": "JcG3cHEk-3-B",
        "colab_type": "code",
        "colab": {
          "base_uri": "https://localhost:8080/",
          "height": 72
        },
        "outputId": "b60bfc8e-e273-47f0-f26c-d724452ab85e"
      },
      "source": [
        ""
      ],
      "execution_count": null,
      "outputs": [
        {
          "output_type": "stream",
          "text": [
            "/usr/local/lib/python3.6/dist-packages/ipykernel_launcher.py:6: UserWarning: Implicit dimension choice for softmax has been deprecated. Change the call to include dim=X as an argument.\n",
            "  \n"
          ],
          "name": "stderr"
        }
      ]
    },
    {
      "cell_type": "code",
      "metadata": {
        "id": "mFm9LAM9CBPF",
        "colab_type": "code",
        "colab": {
          "base_uri": "https://localhost:8080/",
          "height": 190
        },
        "outputId": "42190a4a-ea56-481c-b147-a1cfb6b8c560"
      },
      "source": [
        "print(\"vanilla {}\".format(np.sum(np.isnan(entropies_vanilla)) / entropies_vanilla.shape[0]))\n",
        "\n",
        "print(\"online rot {}\".format(np.sum(np.isnan(entropies_online_da_rot)) / entropies_online_da_rot.shape[0]))\n",
        "print(\"offline rot {}\".format(np.sum(np.isnan(entropies_offline_da_rot)) / entropies_offline_da_rot.shape[0]))\n",
        "print(\"inv rot {}\".format(np.sum(np.isnan(entropies_inv_prior_rot)) / entropies_inv_prior_rot.shape[0]))\n",
        "\n",
        "print(\"online noise {}\".format(np.sum(np.isnan(entropies_online_da_noise)) / entropies_online_da_noise.shape[0]))\n",
        "print(\"offline noise {}\".format(np.sum(np.isnan(entropies_offline_da_noise)) / entropies_offline_da_noise.shape[0]))\n",
        "print(\"inv noise {}\".format(np.sum(np.isnan(entropies_inv_prior_noise)) / entropies_inv_prior_noise.shape[0]))\n",
        "\n",
        "print(\"online rot noise {}\".format(np.sum(np.isnan(entropies_online_da_rot_noise)) / entropies_online_da_rot_noise.shape[0]))\n",
        "print(\"offline rot noise {}\".format(np.sum(np.isnan(entropies_offline_da_rot_noise)) / entropies_offline_da_rot_noise.shape[0]))\n",
        "print(\"inv rot noise {}\".format(np.sum(np.isnan(entropies_inv_prior_rot_noise)) / entropies_inv_prior_rot_noise.shape[0]))"
      ],
      "execution_count": null,
      "outputs": [
        {
          "output_type": "stream",
          "text": [
            "vanilla 0.0\n",
            "online rot 0.0\n",
            "offline rot 0.0\n",
            "inv rot 0.0\n",
            "online noise 0.0\n",
            "offline noise 0.0\n",
            "inv noise 0.0\n",
            "online rot noise 0.0\n",
            "offline rot noise 0.0\n",
            "inv rot noise 0.0\n"
          ],
          "name": "stdout"
        }
      ]
    },
    {
      "cell_type": "code",
      "metadata": {
        "id": "ePV8FuVUTxab",
        "colab_type": "code",
        "colab": {}
      },
      "source": [
        "from statsmodels.distributions.empirical_distribution import ECDF"
      ],
      "execution_count": null,
      "outputs": []
    },
    {
      "cell_type": "code",
      "metadata": {
        "id": "2TXCo80RT0sb",
        "colab_type": "code",
        "colab": {
          "base_uri": "https://localhost:8080/",
          "height": 298
        },
        "outputId": "674ec455-cdb9-490c-e0b9-e72c3e2c2a92"
      },
      "source": [
        "# fit a cdf\n",
        "ecdf_vanilla = ECDF(entropies_vanilla)\n",
        "ecdf_online_da_rot = ECDF(entropies_online_da_rot)\n",
        "ecdf_offline_da_rot = ECDF(entropies_offline_da_rot)\n",
        "ecdf_inv_prior_rot = ECDF(entropies_inv_prior_rot)\n",
        "# get cumulative probability for values\n",
        "# print('P(x<20): %.3f' % ecdf(1))\n",
        "# print('P(x<40): %.3f' % ecdf(2))\n",
        "# print('P(x<60): %.3f' % ecdf(3))\n",
        "# plot the cdf\n",
        "plt.plot(ecdf_vanilla.x, ecdf_vanilla.y, label='vanilla')\n",
        "plt.plot(ecdf_online_da_rot.x, ecdf_online_da_rot.y, label='online da rot')\n",
        "plt.plot(ecdf_offline_da_rot.x, ecdf_offline_da_rot.y, label='offline da rot')\n",
        "plt.plot(ecdf_inv_prior_rot.x, ecdf_inv_prior_rot.y, label='inv prior rot')\n",
        "plt.title(\"Empirical Cumulative Entropy Distribution\")\n",
        "plt.legend()"
      ],
      "execution_count": null,
      "outputs": [
        {
          "output_type": "execute_result",
          "data": {
            "text/plain": [
              "<matplotlib.legend.Legend at 0x7ff9ce74a5c0>"
            ]
          },
          "metadata": {
            "tags": []
          },
          "execution_count": 117
        },
        {
          "output_type": "display_data",
          "data": {
            "image/png": "[encoded data removed]",
            "text/plain": [
              "<Figure size 432x288 with 1 Axes>"
            ]
          },
          "metadata": {
            "tags": [],
            "needs_background": "light"
          }
        }
      ]
    },
    {
      "cell_type": "code",
      "metadata": {
        "id": "9c0n0l9PV-MI",
        "colab_type": "code",
        "colab": {
          "base_uri": "https://localhost:8080/",
          "height": 298
        },
        "outputId": "ab03bac5-c2ca-4820-b5eb-8df9c3acc115"
      },
      "source": [
        "# fit a cdf\n",
        "ecdf_vanilla = ECDF(entropies_vanilla)\n",
        "ecdf_online_da_noise = ECDF(entropies_online_da_noise)\n",
        "ecdf_offline_da_noise = ECDF(entropies_offline_da_noise)\n",
        "ecdf_inv_prior_noise = ECDF(entropies_inv_prior_noise)\n",
        "# get cumulative probability for values\n",
        "# print('P(x<20): %.3f' % ecdf(1))\n",
        "# print('P(x<40): %.3f' % ecdf(2))\n",
        "# print('P(x<60): %.3f' % ecdf(3))\n",
        "# plot the cdf\n",
        "plt.plot(ecdf_vanilla.x, ecdf_vanilla.y, label='vanilla')\n",
        "plt.plot(ecdf_online_da_noise.x, ecdf_online_da_noise.y, label='online da noise')\n",
        "plt.plot(ecdf_offline_da_noise.x, ecdf_offline_da_noise.y, label='offline da noise')\n",
        "plt.plot(ecdf_inv_prior_noise.x, ecdf_inv_prior_noise.y, label='inv prior noise')\n",
        "plt.title(\"Empirical Cumulative Entropy Distribution\")\n",
        "plt.legend()"
      ],
      "execution_count": null,
      "outputs": [
        {
          "output_type": "execute_result",
          "data": {
            "text/plain": [
              "<matplotlib.legend.Legend at 0x7ff9ce0c9390>"
            ]
          },
          "metadata": {
            "tags": []
          },
          "execution_count": 118
        },
        {
          "output_type": "display_data",
          "data": {
            "image/png": "[encoded data removed]",
            "text/plain": [
              "<Figure size 432x288 with 1 Axes>"
            ]
          },
          "metadata": {
            "tags": [],
            "needs_background": "light"
          }
        }
      ]
    },
    {
      "cell_type": "code",
      "metadata": {
        "id": "WzV2HQZS9zuj",
        "colab_type": "code",
        "colab": {
          "base_uri": "https://localhost:8080/",
          "height": 298
        },
        "outputId": "984c8656-287a-49b8-d9c6-4e9c694bf160"
      },
      "source": [
        "# fit a cdf\n",
        "ecdf_vanilla = ECDF(entropies_vanilla)\n",
        "ecdf_online_da_rot_noise = ECDF(entropies_online_da_rot_noise)\n",
        "ecdf_offline_da_rot_noise = ECDF(entropies_offline_da_rot_noise)\n",
        "ecdf_inv_prior_rot_noise = ECDF(entropies_inv_prior_rot_noise)\n",
        "# get cumulative probability for values\n",
        "# print('P(x<20): %.3f' % ecdf(1))\n",
        "# print('P(x<40): %.3f' % ecdf(2))\n",
        "# print('P(x<60): %.3f' % ecdf(3))\n",
        "# plot the cdf\n",
        "plt.plot(ecdf_vanilla.x, ecdf_vanilla.y, label='vanilla')\n",
        "plt.plot(ecdf_online_da_rot_noise.x, ecdf_online_da_rot_noise.y, label='online da rot_noise')\n",
        "plt.plot(ecdf_offline_da_rot_noise.x, ecdf_offline_da_rot_noise.y, label='offline da rot_noise')\n",
        "plt.plot(ecdf_inv_prior_rot_noise.x, ecdf_inv_prior_rot_noise.y, label='inv prior rot_noise')\n",
        "plt.title(\"Empirical Cumulative Entropy Distribution\")\n",
        "plt.legend()"
      ],
      "execution_count": null,
      "outputs": [
        {
          "output_type": "execute_result",
          "data": {
            "text/plain": [
              "<matplotlib.legend.Legend at 0x7ff9cd8d7668>"
            ]
          },
          "metadata": {
            "tags": []
          },
          "execution_count": 119
        },
        {
          "output_type": "display_data",
          "data": {
            "image/png": "[encoded data removed]",
            "text/plain": [
              "<Figure size 432x288 with 1 Axes>"
            ]
          },
          "metadata": {
            "tags": [],
            "needs_background": "light"
          }
        }
      ]
    },
    {
      "cell_type": "code",
      "metadata": {
        "id": "ZQgMk7XS_I7E",
        "colab_type": "code",
        "colab": {
          "base_uri": "https://localhost:8080/",
          "height": 373
        },
        "outputId": "075bb536-1ea0-4025-d77e-a73665deb8b1"
      },
      "source": [
        "plt.hist(entropies_online_da_rot_noise)"
      ],
      "execution_count": null,
      "outputs": [
        {
          "output_type": "execute_result",
          "data": {
            "text/plain": [
              "(array([2.000e+00, 0.000e+00, 2.000e+00, 8.000e+00, 9.000e+00, 1.700e+01,\n",
              "        3.900e+01, 8.300e+01, 2.100e+02, 4.763e+04]),\n",
              " array([2.0354786, 2.0621893, 2.0888999, 2.1156106, 2.1423213, 2.169032 ,\n",
              "        2.1957426, 2.2224534, 2.249164 , 2.2758746, 2.3025854],\n",
              "       dtype=float32),\n",
              " <a list of 10 Patch objects>)"
            ]
          },
          "metadata": {
            "tags": []
          },
          "execution_count": 120
        },
        {
          "output_type": "display_data",
          "data": {
            "image/png": "[encoded data removed]",
            "text/plain": [
              "<Figure size 432x288 with 1 Axes>"
            ]
          },
          "metadata": {
            "tags": [],
            "needs_background": "light"
          }
        }
      ]
    },
    {
      "cell_type": "code",
      "metadata": {
        "id": "PNGVvPKdAwn6",
        "colab_type": "code",
        "colab": {
          "base_uri": "https://localhost:8080/",
          "height": 373
        },
        "outputId": "d101fdbc-b03f-49c8-9ac6-3e568a1961e6"
      },
      "source": [
        "plt.hist(entropies_online_da_rot)"
      ],
      "execution_count": null,
      "outputs": [
        {
          "output_type": "execute_result",
          "data": {
            "text/plain": [
              "(array([1.0000e+00, 5.0000e+00, 7.0000e+00, 4.8000e+01, 2.1600e+02,\n",
              "        8.6200e+02, 2.3400e+03, 4.2410e+03, 6.8550e+03, 3.3425e+04]),\n",
              " array([0.82551926, 0.97322583, 1.1209325 , 1.268639  , 1.4163456 ,\n",
              "        1.5640522 , 1.7117587 , 1.8594654 , 2.0071719 , 2.1548786 ,\n",
              "        2.3025851 ], dtype=float32),\n",
              " <a list of 10 Patch objects>)"
            ]
          },
          "metadata": {
            "tags": []
          },
          "execution_count": 121
        },
        {
          "output_type": "display_data",
          "data": {
            "image/png": "[encoded data removed]",
            "text/plain": [
              "<Figure size 432x288 with 1 Axes>"
            ]
          },
          "metadata": {
            "tags": [],
            "needs_background": "light"
          }
        }
      ]
    },
    {
      "cell_type": "code",
      "metadata": {
        "id": "wQKe1rB-OhqA",
        "colab_type": "code",
        "colab": {}
      },
      "source": [
        "res_online = np.array([online_da_rot_noise(data[0:1].to(device)).cpu().detach().numpy() for i in range(100)]).squeeze()\n",
        "res_offline = np.array([offline_da_rot_noise(data[0:1].to(device)).cpu().detach().numpy() for i in range(100)]).squeeze()\n",
        "res_inv = np.array([invariant_prior_rot_noise(data[0:1].to(device)).cpu().detach().numpy() for i in range(100)]).squeeze()"
      ],
      "execution_count": null,
      "outputs": []
    },
    {
      "cell_type": "code",
      "metadata": {
        "id": "nzGL_q-7PXxg",
        "colab_type": "code",
        "colab": {}
      },
      "source": [
        "online_rot_sample_1 = online_da_rot_noise.sample()\n",
        "online_rot_sample_2 = online_da_rot_noise.sample()"
      ],
      "execution_count": null,
      "outputs": []
    },
    {
      "cell_type": "code",
      "metadata": {
        "id": "ybXoBuK2Pho5",
        "colab_type": "code",
        "colab": {
          "base_uri": "https://localhost:8080/",
          "height": 35
        },
        "outputId": "086d8008-f94f-4faf-b008-9d0f3e891755"
      },
      "source": [
        "torch.sum(online_rot_sample_1 == online_rot_sample_2)"
      ],
      "execution_count": null,
      "outputs": [
        {
          "output_type": "execute_result",
          "data": {
            "text/plain": [
              "tensor(0)"
            ]
          },
          "metadata": {
            "tags": []
          },
          "execution_count": 141
        }
      ]
    },
    {
      "cell_type": "code",
      "metadata": {
        "id": "8Cab9y7tQ7WQ",
        "colab_type": "code",
        "colab": {}
      },
      "source": [
        ""
      ],
      "execution_count": null,
      "outputs": []
    }
  ]
}